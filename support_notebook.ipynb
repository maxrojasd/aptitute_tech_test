{
  "nbformat": 4,
  "nbformat_minor": 0,
  "metadata": {
    "colab": {
      "provenance": []
    },
    "kernelspec": {
      "name": "python3",
      "display_name": "Python 3"
    },
    "language_info": {
      "name": "python"
    }
  },
  "cells": [
    {
      "cell_type": "markdown",
      "source": [
        "# Notebook for EDA and testing pyspark script\n",
        "\n",
        "The idea of this notebook is to explore the data and the total_amount column to detect potential data anomalies to fix.\n",
        "\n",
        "Also the idea would be to continue doing a more extensive analysis to understand why there are incorrect numbers and check if there are trends worth exploring to fix the data problems in the future\n",
        "\n",
        "*I had to run the code in a Colab notebook due to JVM errors with my personal computer*"
      ],
      "metadata": {
        "id": "T9wGiIGKuQ7u"
      }
    },
    {
      "cell_type": "markdown",
      "source": [
        "## Create Spark Session"
      ],
      "metadata": {
        "id": "aTkfip5aWaC_"
      }
    },
    {
      "cell_type": "code",
      "source": [
        "from pyspark.sql import SparkSession\n",
        "\n",
        "# Creating SparkSession\n",
        "spark = SparkSession \\\n",
        "        .builder \\\n",
        "        .appName('TLC_Trip_Records_Service') \\\n",
        "        .getOrCreate()"
      ],
      "metadata": {
        "id": "La2QQ5QcJ-F0"
      },
      "execution_count": 73,
      "outputs": []
    },
    {
      "cell_type": "markdown",
      "source": [
        "## Reading Files"
      ],
      "metadata": {
        "id": "CVFTikF-LYSb"
      }
    },
    {
      "cell_type": "code",
      "source": [
        "download_folder = 'sample_data'\n",
        "parquet_df = spark.read.parquet(download_folder)"
      ],
      "metadata": {
        "id": "PS4alizdKBtE"
      },
      "execution_count": 8,
      "outputs": []
    },
    {
      "cell_type": "markdown",
      "source": [
        "## Filter top 10%"
      ],
      "metadata": {
        "id": "47P4-UAKXPTL"
      }
    },
    {
      "cell_type": "code",
      "source": [
        "from pyspark.sql.functions import col, round, format_number\n",
        "print(parquet_df.count())\n",
        "top_10_num = int(parquet_df.count()*0.1)\n",
        "print(top_10_num)\n",
        "filtered_df = parquet_df.orderBy(col('trip_distance').desc()) \\\n",
        "                        .limit(top_10_num)\n",
        "filtered_df = filtered_df.withColumn('total_amount',\n",
        "                                     format_number(col('total_amount'), 2)\n",
        "                                     )\n",
        "filtered_df = filtered_df.withColumn('total_amount_sum',\n",
        "                                      format_number(\n",
        "                                          round(col('fare_amount')+col('extra')\n",
        "                                            +col('tolls_amount')+col('improvement_surcharge')+col('mta_tax')\n",
        "                                     , 2)\n",
        "                                     , 2)\n",
        "                                     )\n",
        "filtered_df.show()"
      ],
      "metadata": {
        "colab": {
          "base_uri": "https://localhost:8080/"
        },
        "id": "oxuhXJsDXRyY",
        "outputId": "cb7d6f42-a0c0-4b22-f8f5-6315930ddec9"
      },
      "execution_count": 9,
      "outputs": [
        {
          "output_type": "stream",
          "name": "stdout",
          "text": [
            "9071244\n",
            "907124\n",
            "+--------+--------------------+---------------------+---------------+-------------+----------+------------------+------------+------------+------------+-----------+-----+-------+----------+------------+---------------------+------------+--------------------+-----------+----------------+\n",
            "|VendorID|tpep_pickup_datetime|tpep_dropoff_datetime|passenger_count|trip_distance|RatecodeID|store_and_fwd_flag|PULocationID|DOLocationID|payment_type|fare_amount|extra|mta_tax|tip_amount|tolls_amount|improvement_surcharge|total_amount|congestion_surcharge|airport_fee|total_amount_sum|\n",
            "+--------+--------------------+---------------------+---------------+-------------+----------+------------------+------------+------------+------------+-----------+-----+-------+----------+------------+---------------------+------------+--------------------+-----------+----------------+\n",
            "|       2| 2022-02-15 18:24:00|  2022-02-15 18:37:00|           NULL|    348798.53|      NULL|              NULL|          13|         107|           0|       20.6|  0.0|    0.5|       4.0|         0.0|                  0.3|       27.90|                NULL|       NULL|           21.40|\n",
            "|       2| 2022-02-02 07:34:00|  2022-02-02 07:53:00|           NULL|    323919.67|      NULL|              NULL|          75|          48|           0|      17.72|  0.0|    0.5|      3.42|         0.0|                  0.3|       24.44|                NULL|       NULL|           18.52|\n",
            "|       2| 2022-02-27 18:57:00|  2022-02-27 19:08:00|           NULL|    314364.45|      NULL|              NULL|         125|         107|           0|       9.96|  0.0|    0.5|      2.83|         0.0|                  0.3|       16.09|                NULL|       NULL|           10.76|\n",
            "|       2| 2022-01-11 11:48:00|  2022-01-11 12:00:00|           NULL|    306159.28|      NULL|              NULL|         116|         238|           0|      14.96|  0.0|    0.5|      3.94|         0.0|                  0.3|       22.20|                NULL|       NULL|           15.76|\n",
            "|       2| 2022-03-14 13:52:00|  2022-03-14 14:10:00|           NULL|    286259.84|      NULL|              NULL|         249|         162|           0|      17.35|  0.0|    0.5|      4.47|         0.0|                  0.3|       25.12|                NULL|       NULL|           18.15|\n",
            "|       2| 2022-01-20 17:57:00|  2022-01-20 18:12:00|           NULL|    274658.81|      NULL|              NULL|          50|         141|           0|      13.74|  0.0|    0.5|      1.81|         0.0|                  0.3|       18.85|                NULL|       NULL|           14.54|\n",
            "|       2| 2022-02-19 13:09:00|  2022-02-19 13:20:00|           NULL|    267432.23|      NULL|              NULL|         140|         161|           0|        8.8|  0.0|    0.5|      2.57|         0.0|                  0.3|       14.67|                NULL|       NULL|            9.60|\n",
            "|       2| 2022-02-15 15:45:00|  2022-02-15 16:09:00|           NULL|     263173.0|      NULL|              NULL|          48|         236|           0|      16.89|  0.0|    0.5|       0.0|         0.0|                  0.3|       20.19|                NULL|       NULL|           17.69|\n",
            "|       2| 2022-03-14 05:43:00|  2022-03-14 05:52:00|           NULL|     256280.8|      NULL|              NULL|         237|          43|           0|       9.53|  0.0|    0.5|      2.73|         0.0|                  0.3|       15.56|                NULL|       NULL|           10.33|\n",
            "|       2| 2022-02-24 05:10:00|  2022-02-24 05:29:00|           NULL|    253093.44|      NULL|              NULL|         263|         138|           0|      29.87|  0.0|    0.5|      7.75|        6.55|                  0.3|       47.47|                NULL|       NULL|           37.22|\n",
            "|       2| 2022-03-08 07:46:00|  2022-03-08 08:12:00|           NULL|    251855.42|      NULL|              NULL|          33|         162|           0|      26.25|  0.0|    0.5|       0.0|         0.0|                  0.3|       29.55|                NULL|       NULL|           27.05|\n",
            "|       2| 2022-01-31 07:17:00|  2022-01-31 07:44:00|           NULL|    250984.47|      NULL|              NULL|          56|         137|           0|      28.58|  0.0|    0.5|      8.29|        6.55|                  0.3|       46.72|                NULL|       NULL|           35.93|\n",
            "|       2| 2022-03-15 08:14:00|  2022-03-15 08:36:00|           NULL|    247709.73|      NULL|              NULL|         148|         161|           0|      16.91|  0.0|    0.5|      4.66|         0.0|                  0.3|       24.87|                NULL|       NULL|           17.71|\n",
            "|       2| 2022-02-14 23:19:00|  2022-02-14 23:30:00|           NULL|    242748.06|      NULL|              NULL|         211|          87|           0|       9.67|  0.0|    0.5|      1.38|         0.0|                  0.3|       14.35|                NULL|       NULL|           10.47|\n",
            "|       2| 2022-03-06 03:31:00|  2022-03-06 03:48:00|           NULL|    229371.98|      NULL|              NULL|         249|         255|           0|      17.61|  0.0|    0.5|      4.56|         0.0|                  0.3|       25.47|                NULL|       NULL|           18.41|\n",
            "|       2| 2022-03-11 14:18:00|  2022-03-11 14:43:00|           NULL|    217883.08|      NULL|              NULL|         244|          68|           0|      29.34|  0.0|    0.5|      7.14|         0.0|                  0.3|       39.78|                NULL|       NULL|           30.14|\n",
            "|       2| 2022-03-07 05:20:00|  2022-03-07 05:37:00|           NULL|     211629.1|      NULL|              NULL|          74|         261|           0|      30.94|  0.0|    0.5|      5.63|         0.0|                  0.3|       39.87|                NULL|       NULL|           31.74|\n",
            "|       2| 2022-01-15 21:04:00|  2022-01-15 21:14:00|           NULL|    201283.16|      NULL|              NULL|          79|         233|           0|      11.03|  0.0|    0.5|      3.02|         0.0|                  0.3|       17.35|                NULL|       NULL|           11.83|\n",
            "|       2| 2022-03-07 08:30:00|  2022-03-07 08:54:00|           NULL|    199945.06|      NULL|              NULL|          52|         170|           0|      27.61|  0.0|    0.5|       6.8|         0.0|                  0.3|       37.71|                NULL|       NULL|           28.41|\n",
            "|       2| 2022-01-05 07:00:00|  2022-01-05 07:18:00|           NULL|    193150.52|      NULL|              NULL|          42|          70|           0|      29.98|  0.0|    0.5|      8.05|        6.55|                  0.3|       45.38|                NULL|       NULL|           37.33|\n",
            "+--------+--------------------+---------------------+---------------+-------------+----------+------------------+------------+------------+------------+-----------+-----+-------+----------+------------+---------------------+------------+--------------------+-----------+----------------+\n",
            "only showing top 20 rows\n",
            "\n"
          ]
        }
      ]
    },
    {
      "cell_type": "markdown",
      "source": [
        "## Check for null values in total_sum"
      ],
      "metadata": {
        "id": "lxvH1JNXMmXl"
      }
    },
    {
      "cell_type": "code",
      "source": [
        "\n",
        "\n",
        "null_count = filtered_df.where(col('total_amount').isNull()).count()\n",
        "print(f'Number of null values: {null_count}')\n"
      ],
      "metadata": {
        "colab": {
          "base_uri": "https://localhost:8080/"
        },
        "id": "H-LVkGzfMleU",
        "outputId": "92ded09a-39fa-47b3-832f-420a884b0ea8"
      },
      "execution_count": 10,
      "outputs": [
        {
          "output_type": "stream",
          "name": "stdout",
          "text": [
            "Number of null values: 0\n"
          ]
        }
      ]
    },
    {
      "cell_type": "markdown",
      "source": [
        "Notes:\n",
        "\n",
        "not nulls for total_amount"
      ],
      "metadata": {
        "id": "VbdwPqToUXEp"
      }
    },
    {
      "cell_type": "markdown",
      "source": [
        "## Check when total_amount is 0"
      ],
      "metadata": {
        "id": "zc8RmjdSNBep"
      }
    },
    {
      "cell_type": "code",
      "source": [
        "zero_count = filtered_df.where(col('total_amount') == 0.0).count()\n",
        "zero_df = filtered_df.where(col('total_amount') == 0.0)\n",
        "print(f'Number of Records with 0 total_amount: {zero_count}')"
      ],
      "metadata": {
        "colab": {
          "base_uri": "https://localhost:8080/"
        },
        "id": "gjVfOgw8NFWz",
        "outputId": "e8c143f9-80c2-41b2-e76b-3aeddfac19ea"
      },
      "execution_count": 11,
      "outputs": [
        {
          "output_type": "stream",
          "name": "stdout",
          "text": [
            "Number of Records with 0 total amount: 17\n"
          ]
        }
      ]
    },
    {
      "cell_type": "code",
      "source": [
        "zero_df.show()"
      ],
      "metadata": {
        "colab": {
          "base_uri": "https://localhost:8080/"
        },
        "id": "Vn7BlL0yNLWb",
        "outputId": "4547c179-51f5-43e6-b5da-41be04af5c8c"
      },
      "execution_count": 12,
      "outputs": [
        {
          "output_type": "stream",
          "name": "stdout",
          "text": [
            "+--------+--------------------+---------------------+---------------+-------------+----------+------------------+------------+------------+------------+-----------+-----+-------+----------+------------+---------------------+------------+--------------------+-----------+----------------+\n",
            "|VendorID|tpep_pickup_datetime|tpep_dropoff_datetime|passenger_count|trip_distance|RatecodeID|store_and_fwd_flag|PULocationID|DOLocationID|payment_type|fare_amount|extra|mta_tax|tip_amount|tolls_amount|improvement_surcharge|total_amount|congestion_surcharge|airport_fee|total_amount_sum|\n",
            "+--------+--------------------+---------------------+---------------+-------------+----------+------------------+------------+------------+------------+-----------+-----+-------+----------+------------+---------------------+------------+--------------------+-----------+----------------+\n",
            "|       1| 2022-02-11 16:51:47|  2022-02-11 18:10:38|            1.0|         32.9|       1.0|                 N|         132|         265|           4|        0.0|  0.0|    0.0|       0.0|         0.0|                  0.0|        0.00|                 0.0|        0.0|            0.00|\n",
            "|       1| 2022-02-21 16:39:26|  2022-02-21 16:40:39|            2.0|         32.5|       5.0|                 N|           1|           1|           3|        0.0|  0.0|    0.0|       0.0|         0.0|                  0.0|        0.00|                 0.0|        0.0|            0.00|\n",
            "|       1| 2022-02-22 13:59:46|  2022-02-22 14:51:08|            1.0|         29.9|       5.0|                 N|         132|         265|           4|        0.0|  0.0|    0.0|       0.0|         0.0|                  0.0|        0.00|                 0.0|        0.0|            0.00|\n",
            "|       1| 2022-02-14 07:00:55|  2022-02-14 07:00:58|           NULL|         20.6|      NULL|              NULL|         186|         186|           0|        0.0|  0.0|    0.0|       0.0|         0.0|                  0.0|        0.00|                NULL|       NULL|            0.00|\n",
            "|       1| 2022-03-15 01:34:43|  2022-03-15 01:35:26|            1.0|         19.5|       5.0|                 N|         132|         132|           3|        0.0|  0.0|    0.0|       0.0|         0.0|                  0.0|        0.00|                 0.0|        0.0|            0.00|\n",
            "|       1| 2022-03-07 13:23:44|  2022-03-07 14:11:09|            1.0|         17.9|       2.0|                 N|         132|          50|           4|        0.0|  0.0|    0.0|       0.0|         0.0|                  0.0|        0.00|                 0.0|        0.0|            0.00|\n",
            "|       1| 2022-03-23 16:56:50|  2022-03-23 17:57:03|           NULL|         17.7|      NULL|              NULL|          48|           1|           0|        0.0|  0.0|    0.0|       0.0|         0.0|                  0.0|        0.00|                NULL|       NULL|            0.00|\n",
            "|       1| 2022-01-16 16:04:14|  2022-01-16 16:04:36|            4.0|         17.0|       1.0|                 N|         231|         231|           3|        0.0|  0.0|    0.0|       0.0|         0.0|                  0.0|        0.00|                 0.0|        0.0|            0.00|\n",
            "|       1| 2022-03-03 15:42:04|  2022-03-03 16:18:54|            1.0|         15.2|       1.0|                 N|         132|         112|           4|        0.0|  0.0|    0.0|       0.0|         0.0|                  0.0|        0.00|                 0.0|        0.0|            0.00|\n",
            "|       1| 2022-02-21 16:09:10|  2022-02-21 16:54:25|            1.0|         13.5|       5.0|                 N|         137|         265|           3|        0.0|  0.0|    0.0|       0.0|         0.0|                  0.0|        0.00|                 0.0|        0.0|            0.00|\n",
            "|       1| 2022-02-17 12:53:36|  2022-02-17 12:56:10|            1.0|         12.1|       4.0|                 N|         145|         265|           3|        0.0|  0.0|    0.0|       0.0|         0.0|                  0.0|        0.00|                 0.0|        0.0|            0.00|\n",
            "|       1| 2022-03-15 17:53:54|  2022-03-15 18:20:31|            1.0|          9.4|       1.0|                 N|           4|          69|           3|        0.0|  0.0|    0.0|       0.0|         0.0|                  0.0|        0.00|                 0.0|        0.0|            0.00|\n",
            "|       1| 2022-01-28 09:17:17|  2022-01-28 09:18:36|            1.0|          9.0|       1.0|                 N|         140|         140|           3|        0.0|  0.0|    0.0|       0.0|         0.0|                  0.0|        0.00|                 0.0|        0.0|            0.00|\n",
            "|       2| 2022-03-28 19:27:18|  2022-03-28 19:43:56|            1.0|         8.24|       1.0|                 N|         138|         233|           1|        0.0|  0.0|    0.0|       0.0|         0.0|                  0.0|        0.00|                 2.5|       1.25|            0.00|\n",
            "|       1| 2022-03-22 18:36:08|  2022-03-22 18:36:15|            1.0|          8.2|       1.0|                 N|         145|         145|           4|        0.0|  0.0|    0.0|       0.0|         0.0|                  0.0|        0.00|                 0.0|        0.0|            0.00|\n",
            "|       1| 2022-01-11 06:41:12|  2022-01-11 07:00:56|            1.0|          8.1|       1.0|                 Y|         116|         125|           4|        0.0|  0.0|    0.0|       0.0|         0.0|                  0.0|        0.00|                 0.0|        0.0|            0.00|\n",
            "|       1| 2022-03-23 12:51:36|  2022-03-23 13:10:48|            1.0|          7.6|       1.0|                 N|         263|          87|           4|        0.0|  0.0|    0.0|       0.0|         0.0|                  0.0|        0.00|                 0.0|        0.0|            0.00|\n",
            "+--------+--------------------+---------------------+---------------+-------------+----------+------------------+------------+------------+------------+-----------+-----+-------+----------+------------+---------------------+------------+--------------------+-----------+----------------+\n",
            "\n"
          ]
        }
      ]
    },
    {
      "cell_type": "code",
      "source": [
        "print('distinct elements for fare_amount: '+ str(zero_df.select(col('fare_amount')).distinct().rdd.flatMap(lambda x: x).collect()))\n",
        "print('distinct elements for extra: '+ str(zero_df.select(col('extra')).distinct().rdd.flatMap(lambda x: x).collect()))\n",
        "print('distinct elements for mta_tax: '+ str(zero_df.select(col('mta_tax')).distinct().rdd.flatMap(lambda x: x).collect()))\n",
        "print('distinct elements for tip_amount: '+ str(zero_df.select(col('tip_amount')).distinct().rdd.flatMap(lambda x: x).collect()))\n",
        "print('distinct elements for tolls_amount: '+ str(zero_df.select(col('tolls_amount')).distinct().rdd.flatMap(lambda x: x).collect()))\n",
        "print('distinct elements for improvement_surcharge: '+ str(zero_df.select(col('improvement_surcharge')).distinct().rdd.flatMap(lambda x: x).collect()))\n",
        "print('distinct elements for congestion_surcharge: '+ str(zero_df.select(col('congestion_surcharge')).distinct().rdd.flatMap(lambda x: x).collect()))\n",
        "print('distinct elements for airport_fee: '+ str(zero_df.select(col('airport_fee')).distinct().rdd.flatMap(lambda x: x).collect()))"
      ],
      "metadata": {
        "colab": {
          "base_uri": "https://localhost:8080/"
        },
        "id": "nwajYKyLN06b",
        "outputId": "f810173a-0169-41a5-e6ed-5630e20ad5db"
      },
      "execution_count": 13,
      "outputs": [
        {
          "output_type": "stream",
          "name": "stdout",
          "text": [
            "distinct elements for fare_amount: [0.0]\n",
            "distinct elements for extra: [0.0]\n",
            "distinct elements for mta_tax: [0.0]\n",
            "distinct elements for tip_amount: [0.0]\n",
            "distinct elements for tolls_amount: [0.0]\n",
            "distinct elements for improvement_surcharge: [0.0]\n",
            "distinct elements for congestion_surcharge: [0.0, 2.5, None]\n",
            "distinct elements for airport_fee: [0.0, 1.25, None]\n"
          ]
        }
      ]
    },
    {
      "cell_type": "markdown",
      "source": [
        "### Filter the rows that are Null for airport_fee and congestion_surcharge\n",
        "\n",
        "\n"
      ],
      "metadata": {
        "id": "jwDUAjtwP7zA"
      }
    },
    {
      "cell_type": "code",
      "source": [
        "zero_df.filter(\n",
        "    (col('congestion_surcharge').isNull())\n",
        ").show()"
      ],
      "metadata": {
        "colab": {
          "base_uri": "https://localhost:8080/"
        },
        "id": "mpOpTihNOZoN",
        "outputId": "54e7bbd8-a306-4087-ed8c-183e9b2fa64b"
      },
      "execution_count": 14,
      "outputs": [
        {
          "output_type": "stream",
          "name": "stdout",
          "text": [
            "+--------+--------------------+---------------------+---------------+-------------+----------+------------------+------------+------------+------------+-----------+-----+-------+----------+------------+---------------------+------------+--------------------+-----------+----------------+\n",
            "|VendorID|tpep_pickup_datetime|tpep_dropoff_datetime|passenger_count|trip_distance|RatecodeID|store_and_fwd_flag|PULocationID|DOLocationID|payment_type|fare_amount|extra|mta_tax|tip_amount|tolls_amount|improvement_surcharge|total_amount|congestion_surcharge|airport_fee|total_amount_sum|\n",
            "+--------+--------------------+---------------------+---------------+-------------+----------+------------------+------------+------------+------------+-----------+-----+-------+----------+------------+---------------------+------------+--------------------+-----------+----------------+\n",
            "|       1| 2022-02-14 07:00:55|  2022-02-14 07:00:58|           NULL|         20.6|      NULL|              NULL|         186|         186|           0|        0.0|  0.0|    0.0|       0.0|         0.0|                  0.0|        0.00|                NULL|       NULL|            0.00|\n",
            "|       1| 2022-03-23 16:56:50|  2022-03-23 17:57:03|           NULL|         17.7|      NULL|              NULL|          48|           1|           0|        0.0|  0.0|    0.0|       0.0|         0.0|                  0.0|        0.00|                NULL|       NULL|            0.00|\n",
            "+--------+--------------------+---------------------+---------------+-------------+----------+------------------+------------+------------+------------+-----------+-----+-------+----------+------------+---------------------+------------+--------------------+-----------+----------------+\n",
            "\n"
          ]
        }
      ]
    },
    {
      "cell_type": "markdown",
      "source": [],
      "metadata": {
        "id": "yhfJTwOoa8gl"
      }
    },
    {
      "cell_type": "markdown",
      "source": [
        "Notes:\n",
        "\n",
        "\n",
        "*   It does include trip_distance, only 1 case is 0 distance. (worth checking how many trip distance 0 there are)\n",
        "*   payment type is always 0 and doesn't exists (worth checking)\n",
        "*   It does include trip_distance\n",
        "*   not data if it is a store and forward trip\n",
        "*   VendorID: [1]\n",
        "\n"
      ],
      "metadata": {
        "id": "UuAqwk9EQvLP"
      }
    },
    {
      "cell_type": "markdown",
      "source": [
        "### Filter the rows that are 2.5 or 1.25\n"
      ],
      "metadata": {
        "id": "TgxhmWVWRxW-"
      }
    },
    {
      "cell_type": "code",
      "source": [
        "zero_df.filter(\n",
        "    (col('congestion_surcharge') == 2.5) | (col('congestion_surcharge') ==  1.25)\n",
        ").distinct().show()"
      ],
      "metadata": {
        "colab": {
          "base_uri": "https://localhost:8080/"
        },
        "id": "uK9i859KRjVA",
        "outputId": "e27d36f9-c9f1-4712-9034-0341f4bb7bf8"
      },
      "execution_count": 15,
      "outputs": [
        {
          "output_type": "stream",
          "name": "stdout",
          "text": [
            "+--------+--------------------+---------------------+---------------+-------------+----------+------------------+------------+------------+------------+-----------+-----+-------+----------+------------+---------------------+------------+--------------------+-----------+----------------+\n",
            "|VendorID|tpep_pickup_datetime|tpep_dropoff_datetime|passenger_count|trip_distance|RatecodeID|store_and_fwd_flag|PULocationID|DOLocationID|payment_type|fare_amount|extra|mta_tax|tip_amount|tolls_amount|improvement_surcharge|total_amount|congestion_surcharge|airport_fee|total_amount_sum|\n",
            "+--------+--------------------+---------------------+---------------+-------------+----------+------------------+------------+------------+------------+-----------+-----+-------+----------+------------+---------------------+------------+--------------------+-----------+----------------+\n",
            "|       2| 2022-03-28 19:27:18|  2022-03-28 19:43:56|            1.0|         8.24|       1.0|                 N|         138|         233|           1|        0.0|  0.0|    0.0|       0.0|         0.0|                  0.0|        0.00|                 2.5|       1.25|            0.00|\n",
            "+--------+--------------------+---------------------+---------------+-------------+----------+------------------+------------+------------+------------+-----------+-----+-------+----------+------------+---------------------+------------+--------------------+-----------+----------------+\n",
            "\n"
          ]
        }
      ]
    },
    {
      "cell_type": "markdown",
      "source": [
        "Notes:\n",
        "\n",
        "\n",
        "*   only 1 record\n",
        "*   many trips with distance 0\n",
        "*   payment type: [1]\n",
        "*   not a store and forward trip\n",
        "*   VendorID: [2]\n"
      ],
      "metadata": {
        "id": "zAziCCiTSfSk"
      }
    },
    {
      "cell_type": "code",
      "source": [
        "zero_df.filter(\n",
        "    (col('congestion_surcharge') == 2.5)\n",
        ").distinct().count()"
      ],
      "metadata": {
        "colab": {
          "base_uri": "https://localhost:8080/"
        },
        "id": "hXGVree6SQE-",
        "outputId": "4408ee2c-00fe-4c49-8df9-2020ebb98c8b"
      },
      "execution_count": 16,
      "outputs": [
        {
          "output_type": "execute_result",
          "data": {
            "text/plain": [
              "1"
            ]
          },
          "metadata": {},
          "execution_count": 16
        }
      ]
    },
    {
      "cell_type": "code",
      "source": [
        "from pyspark.sql.functions import when\n",
        "zero_df = zero_df.withColumn('is_sum_correct',\n",
        "                                      when(col('total_amount') == col('total_amount_sum'), True).otherwise(False)\n",
        "                                      )"
      ],
      "metadata": {
        "id": "3l_fZTy8NauT"
      },
      "execution_count": 17,
      "outputs": []
    },
    {
      "cell_type": "markdown",
      "source": [],
      "metadata": {
        "id": "5TzmswJQU0Vi"
      }
    },
    {
      "cell_type": "markdown",
      "source": [
        "## Check when total_amount is below 0"
      ],
      "metadata": {
        "id": "6nMU3aXKVoE9"
      }
    },
    {
      "cell_type": "code",
      "source": [
        "below_zero_count = filtered_df.where(col('total_amount') < 0).count()\n",
        "below_zero_df = filtered_df.where(col('total_amount') < 0)\n",
        "print(f'Number of records below 0: {below_zero_count}')\n"
      ],
      "metadata": {
        "colab": {
          "base_uri": "https://localhost:8080/"
        },
        "id": "eJHVJb1mVrkx",
        "outputId": "dfbc9bc4-0518-48bf-9d07-3d75e2d10ab8"
      },
      "execution_count": 18,
      "outputs": [
        {
          "output_type": "stream",
          "name": "stdout",
          "text": [
            "Number of records below 0: 3185\n"
          ]
        }
      ]
    },
    {
      "cell_type": "code",
      "source": [
        "below_zero_df.show(50)"
      ],
      "metadata": {
        "colab": {
          "base_uri": "https://localhost:8080/"
        },
        "id": "pKlXa6JmV6M5",
        "outputId": "228686a6-1b6c-4913-c0a1-24d0004fbccb"
      },
      "execution_count": 19,
      "outputs": [
        {
          "output_type": "stream",
          "name": "stdout",
          "text": [
            "+--------+--------------------+---------------------+---------------+-------------+----------+------------------+------------+------------+------------+-----------+-----+-------+----------+------------+---------------------+------------+--------------------+-----------+----------------+\n",
            "|VendorID|tpep_pickup_datetime|tpep_dropoff_datetime|passenger_count|trip_distance|RatecodeID|store_and_fwd_flag|PULocationID|DOLocationID|payment_type|fare_amount|extra|mta_tax|tip_amount|tolls_amount|improvement_surcharge|total_amount|congestion_surcharge|airport_fee|total_amount_sum|\n",
            "+--------+--------------------+---------------------+---------------+-------------+----------+------------------+------------+------------+------------+-----------+-----+-------+----------+------------+---------------------+------------+--------------------+-----------+----------------+\n",
            "|       2| 2022-03-30 16:39:28|  2022-03-30 19:07:15|            1.0|       181.21|       5.0|                 N|         265|         142|           4|     -500.0|  0.0|    0.0|      0.01|         0.0|                 -0.3|     -500.29|                 0.0|        0.0|         -500.30|\n",
            "|       2| 2022-03-27 19:18:52|  2022-03-27 22:43:02|            1.0|       117.21|       4.0|                 N|         170|         170|           4|     -547.0|  0.0|   -0.5|       0.0|       -6.55|                 -0.3|     -556.85|                -2.5|        0.0|         -554.35|\n",
            "|       2| 2022-01-31 22:22:53|  2022-02-01 00:34:41|            1.0|       116.91|       4.0|                 N|         138|         265|           4|     -388.0| -0.5|   -0.5|       0.0|       -18.3|                 -0.3|     -408.85|                 0.0|      -1.25|         -407.60|\n",
            "|       2| 2022-03-28 07:08:18|  2022-03-28 09:24:59|            2.0|        86.37|       4.0|                 N|         132|         265|           4|     -361.0|  0.0|   -0.5|       0.0|       -6.55|                 -0.3|     -369.60|                 0.0|      -1.25|         -368.35|\n",
            "|       2| 2022-02-17 16:05:40|  2022-02-17 17:49:26|            2.0|        75.79|       4.0|                 N|         132|         265|           4|     -235.5| -1.0|   -0.5|      25.0|       -6.55|                 -0.3|     -220.10|                 0.0|      -1.25|         -243.85|\n",
            "|       2| 2022-02-03 01:16:51|  2022-02-03 02:22:09|            1.0|        72.06|       4.0|                 N|         264|         265|           4|     -211.0| -0.5|   -0.5|       0.0|       -6.55|                 -0.3|     -218.85|                 0.0|        0.0|         -218.85|\n",
            "|       2| 2022-03-07 12:25:44|  2022-03-07 13:14:57|            2.0|        66.64|       4.0|                 N|         132|           1|           2|     -112.0|  0.0|   -0.5|       0.0|       -18.3|                 -0.3|     -132.35|                 0.0|      -1.25|         -131.10|\n",
            "|       2| 2022-03-06 22:23:02|  2022-03-06 23:32:52|            1.0|        64.48|       5.0|                 N|         132|         265|           4|     -200.0|  0.0|    0.0|       0.0|       -6.55|                 -0.3|     -206.85|                 0.0|        0.0|         -206.85|\n",
            "|       2| 2022-03-21 17:47:59|  2022-03-21 18:58:30|            1.0|        56.09|       5.0|                 N|         150|         265|           2|     -400.0|  0.0|    0.0|       0.0|       -30.0|                 -0.3|     -430.30|                 0.0|        0.0|         -430.30|\n",
            "|       2| 2022-01-07 15:37:09|  2022-01-07 16:23:34|            3.0|        53.05|       3.0|                 N|         132|           1|           4|     -113.0|  0.0|    0.0|       0.0|       -20.3|                 -0.3|     -134.85|                 0.0|      -1.25|         -133.60|\n",
            "|       2| 2022-01-14 19:25:02|  2022-01-14 20:32:19|            2.0|        51.16|       5.0|                 N|         186|         265|           4|     -250.0|  0.0|    0.0|     51.87|       -6.55|                 -0.3|     -207.48|                -2.5|        0.0|         -256.85|\n",
            "|       2| 2022-02-21 08:53:22|  2022-02-21 09:40:22|            1.0|        50.92|       4.0|                 N|         138|         265|           2|        0.0|  0.0|   -0.5|       0.0|         0.0|                 -0.3|       -2.05|                 0.0|      -1.25|           -0.80|\n",
            "|       2| 2022-03-14 19:44:40|  2022-03-14 20:49:19|            1.0|        49.64|       4.0|                 N|         137|         265|           4|     -212.5| -1.0|   -0.5|      20.0|       -6.55|                 -0.3|     -203.35|                -2.5|        0.0|         -220.85|\n",
            "|       2| 2022-03-11 15:24:00|  2022-03-11 17:12:18|            1.0|        48.44|       3.0|                 N|         132|           1|           2|     -119.0|  0.0|    0.0|       0.0|       -24.3|                 -0.3|     -144.85|                 0.0|      -1.25|         -143.60|\n",
            "|       2| 2022-03-10 05:49:53|  2022-03-10 06:30:38|            1.0|        48.25|       4.0|                 N|         132|         265|           4|      -97.0| -0.5|   -0.5|       0.0|       -6.55|                 -0.3|     -106.10|                 0.0|      -1.25|         -104.85|\n",
            "|       2| 2022-02-18 19:29:54|  2022-02-18 20:16:56|            2.0|        47.62|       4.0|                 N|         138|         259|           4|      -58.0| -1.0|   -0.5|       0.0|       -6.55|                 -0.3|      -67.60|                 0.0|      -1.25|          -66.35|\n",
            "|       2| 2022-02-25 13:07:48|  2022-02-25 14:19:56|            1.0|        47.59|       5.0|                 N|         132|         265|           4|     -170.0|  0.0|    0.0|       0.0|      -29.05|                 -0.3|     -200.60|                 0.0|      -1.25|         -199.35|\n",
            "|       2| 2022-03-26 15:10:07|  2022-03-26 16:33:30|            1.0|        47.48|       5.0|                 N|         138|         265|           4|     -170.0|  0.0|    0.0|       0.0|        -9.0|                 -0.3|     -180.55|                 0.0|      -1.25|         -179.30|\n",
            "|       2| 2022-01-11 06:19:19|  2022-01-11 07:03:04|            1.0|        47.01|       4.0|                 N|         132|         265|           4|      -93.0|  0.0|   -0.5|       0.0|       -6.55|                 -0.3|     -101.60|                 0.0|      -1.25|         -100.35|\n",
            "|       2| 2022-01-12 21:27:20|  2022-01-12 22:02:16|            2.0|        46.67|       4.0|                 N|         132|         265|           2|      -91.0| -0.5|   -0.5|       0.0|       -13.1|                 -0.3|     -106.65|                 0.0|      -1.25|         -105.40|\n",
            "|       2| 2022-02-05 20:53:58|  2022-02-05 21:42:45|            2.0|        46.58|       4.0|                 N|         138|         265|           2|     -155.5| -0.5|   -0.5|       0.0|         0.0|                 -0.3|     -158.05|                 0.0|      -1.25|         -156.80|\n",
            "|       2| 2022-02-21 17:24:31|  2022-02-21 18:12:13|            1.0|        46.46|       4.0|                 N|         132|         265|           2|      -88.5|  0.0|   -0.5|       0.0|       -13.1|                 -0.3|     -103.65|                 0.0|      -1.25|         -102.40|\n",
            "|       2| 2022-03-02 07:44:19|  2022-03-02 09:02:33|            2.0|        45.75|       5.0|                 N|         138|         265|           2|     -200.0|  0.0|    0.0|       0.0|       -35.3|                 -0.3|     -236.85|                 0.0|      -1.25|         -235.60|\n",
            "|       2| 2022-03-14 23:36:13|  2022-03-15 00:26:46|            3.0|        45.21|       5.0|                 N|         216|         265|           2|     -170.0|  0.0|    0.0|       0.0|       -23.8|                 -0.3|     -194.10|                 0.0|        0.0|         -194.10|\n",
            "|       2| 2022-01-28 18:08:24|  2022-01-28 18:58:27|            1.0|        45.06|       4.0|                 N|         132|         265|           3|      -84.5| -1.0|   -0.5|       0.0|       -6.55|                 -0.3|      -94.10|                 0.0|      -1.25|          -92.85|\n",
            "|       2| 2022-01-26 17:42:57|  2022-01-26 19:27:50|            1.0|        44.83|       1.0|                 N|         132|         124|           2|     -128.0| -1.0|   -0.5|       0.0|      -13.55|                 -0.3|     -144.60|                 0.0|      -1.25|         -143.35|\n",
            "|       2| 2022-02-26 01:26:13|  2022-02-26 01:56:26|            1.0|        43.62|       4.0|                 N|         132|         265|           4|      -68.0| -0.5|   -0.5|       0.0|       -6.55|                 -0.3|      -77.10|                 0.0|      -1.25|          -75.85|\n",
            "|       2| 2022-02-01 23:31:22|  2022-02-02 00:24:03|            1.0|        43.35|       5.0|                 N|         233|         265|           2|     -200.0|  0.0|    0.0|       0.0|         0.0|                 -0.3|     -202.80|                -2.5|        0.0|         -200.30|\n",
            "|       2| 2022-03-17 09:16:01|  2022-03-17 10:16:40|            1.0|        41.81|       3.0|                 N|         132|           1|           2|        0.0|  0.0|    0.0|       0.0|         0.0|                 -0.3|       -1.55|                 0.0|      -1.25|           -0.30|\n",
            "|       2| 2022-02-28 19:11:20|  2022-02-28 19:53:52|            1.0|        40.53|       4.0|                 N|         230|         265|           4|      -66.5| -1.0|   -0.5|       0.0|       -6.55|                 -0.3|      -77.35|                -2.5|        0.0|          -74.85|\n",
            "|       2| 2022-03-09 15:08:18|  2022-03-09 16:26:13|            1.0|        39.57|       1.0|                 N|         132|          42|           4|      -69.5|  0.0|   -0.5|       0.0|       -6.55|                 -0.3|      -78.10|                 0.0|      -1.25|          -76.85|\n",
            "|       2| 2022-03-14 15:48:43|  2022-03-14 17:13:53|            1.0|        39.03|       5.0|                 N|         132|           1|           4|     -200.0|  0.0|    0.0|       0.0|         0.0|                 -0.3|     -201.55|                 0.0|      -1.25|         -200.30|\n",
            "|       2| 2022-02-05 03:25:27|  2022-02-05 04:26:27|            1.0|        38.75|       5.0|                 N|         211|         265|           4|     -355.0|  0.0|    0.0|     71.56|         0.0|                 -0.3|     -286.24|                -2.5|        0.0|         -355.30|\n",
            "|       2| 2022-03-09 15:16:58|  2022-03-09 16:13:21|            2.0|        38.04|       1.0|                 N|         132|          18|           4|      -59.0|  0.0|   -0.5|       0.0|       -6.55|                 -0.3|      -67.60|                 0.0|      -1.25|          -66.35|\n",
            "|       2| 2022-03-23 23:24:15|  2022-03-24 00:17:11|            3.0|        37.41|       5.0|                 N|         132|           1|           3|     -154.0|  0.0|    0.0|       0.0|       -18.3|                 -0.3|     -173.85|                 0.0|      -1.25|         -172.60|\n",
            "|       2| 2022-02-24 18:46:35|  2022-02-24 19:47:01|            1.0|        37.35|       4.0|                 N|         132|         265|           2|        0.0|  0.0|   -0.5|       0.0|         0.0|                 -0.3|       -2.05|                 0.0|      -1.25|           -0.80|\n",
            "|       2| 2022-01-31 19:26:39|  2022-01-31 20:02:41|            1.0|        37.15|       1.0|                 N|         132|          66|           4|      -50.5| -1.0|   -0.5|       0.0|         0.0|                 -0.3|      -53.55|                 0.0|      -1.25|          -52.30|\n",
            "|       2| 2022-02-21 16:44:09|  2022-02-21 17:51:24|            2.0|        37.14|       5.0|                 N|         132|         265|           4|     -150.0|  0.0|    0.0|       0.0|       -20.3|                 -0.3|     -170.60|                 0.0|        0.0|         -170.60|\n",
            "|       2| 2022-01-05 16:38:10|  2022-01-05 18:08:35|            1.0|        36.69|       3.0|                 N|         132|          29|           4|     -122.5| -1.0|    0.0|       0.0|       -6.55|                 -0.3|     -131.60|                 0.0|      -1.25|         -130.35|\n",
            "|       2| 2022-03-10 23:52:27|  2022-03-11 00:46:55|            1.0|        35.87|       5.0|                 N|         138|         265|           4|     -145.0|  0.0|    0.0|       0.0|       -83.0|                 -0.3|     -229.55|                 0.0|      -1.25|         -228.30|\n",
            "|       2| 2022-02-25 17:27:22|  2022-02-25 18:25:38|            1.0|        35.16|       5.0|                 N|         132|           1|           4|     -175.0|  0.0|    0.0|       0.0|       -20.3|                 -0.3|     -195.60|                 0.0|        0.0|         -195.60|\n",
            "|       2| 2022-02-14 09:48:18|  2022-02-14 10:38:11|            1.0|        34.07|       1.0|                 N|         132|         265|           3|      -89.0|  0.0|   -0.5|       0.0|       -6.55|                 -0.3|      -97.60|                 0.0|      -1.25|          -96.35|\n",
            "|       2| 2022-01-24 20:48:08|  2022-01-24 23:19:13|            1.0|        33.59|       2.0|                 N|         132|         132|           2|      -52.0|  0.0|   -0.5|       0.0|         0.0|                 -0.3|      -56.55|                -2.5|      -1.25|          -52.80|\n",
            "|       2| 2022-03-14 21:18:26|  2022-03-14 22:43:19|            1.0|        33.52|       1.0|                 N|         132|         132|           2|      -87.5| -0.5|   -0.5|       0.0|         0.0|                 -0.3|      -90.05|                 0.0|      -1.25|          -88.80|\n",
            "|       2| 2022-03-07 20:04:45|  2022-03-07 21:21:15|            1.0|        32.33|       1.0|                 N|         132|         219|           4|      -95.5| -0.5|   -0.5|       0.0|         0.0|                 -0.3|      -98.05|                 0.0|      -1.25|          -96.80|\n",
            "|       2| 2022-02-25 22:48:43|  2022-02-25 23:18:41|            3.0|        32.31|       4.0|                 N|         138|         265|           2|      -60.5| -0.5|   -0.5|       0.0|       -6.55|                 -0.3|      -69.60|                 0.0|      -1.25|          -68.35|\n",
            "|       2| 2022-01-04 17:07:59|  2022-01-04 17:46:21|            1.0|        32.29|       4.0|                 N|         246|         265|           4|      -66.0| -1.0|   -0.5|       0.0|        -3.0|                 -0.3|      -73.30|                -2.5|        0.0|          -70.80|\n",
            "|       2| 2022-02-15 22:03:23|  2022-02-15 22:39:40|            1.0|        32.03|       4.0|                 N|         132|         265|           4|     -118.5| -0.5|   -0.5|       0.0|         0.0|                 -0.3|     -121.05|                 0.0|      -1.25|         -119.80|\n",
            "|       2| 2022-02-14 01:19:56|  2022-02-14 02:38:25|            1.0|        31.89|       1.0|                 N|         177|         130|           4|      -94.5| -0.5|   -0.5|       0.0|         0.0|                 -0.3|      -95.80|                 0.0|        0.0|          -95.80|\n",
            "|       2| 2022-02-19 16:31:19|  2022-02-19 17:19:45|            1.0|        31.68|       4.0|                 N|         132|         265|           4|     -108.5|  0.0|   -0.5|       0.0|       -8.21|                 -0.3|     -118.76|                 0.0|      -1.25|         -117.51|\n",
            "+--------+--------------------+---------------------+---------------+-------------+----------+------------------+------------+------------+------------+-----------+-----+-------+----------+------------+---------------------+------------+--------------------+-----------+----------------+\n",
            "only showing top 50 rows\n",
            "\n"
          ]
        }
      ]
    },
    {
      "cell_type": "markdown",
      "source": [
        "## filter by vendor and payment type"
      ],
      "metadata": {
        "id": "YF_eiSN-cJUw"
      }
    },
    {
      "cell_type": "code",
      "source": [
        "print('distinct elements for airport_fee: '+ str(filtered_df.select(col('total_amount')).distinct().rdd.flatMap(lambda x: x).collect()))"
      ],
      "metadata": {
        "colab": {
          "base_uri": "https://localhost:8080/"
        },
        "id": "V3SoRMRhWk8h",
        "outputId": "0e34f4eb-39e2-4c52-b94e-28dc1ef0dc57"
      },
      "execution_count": 21,
      "outputs": [
        {
          "output_type": "stream",
          "name": "stdout",
          "text": [
            "distinct elements for airport_fee: ['27.90', '24.44', '16.09', '22.20', '25.12', '18.85', '14.67', '20.19', '15.56', '47.47', '29.55', '46.72', '24.87', '14.35', '25.47', '39.78', '39.87', '17.35', '37.71', '45.38', '17.81', '41.15', '69.90', '18.00', '15.58', '77.30', '22.74', '15.45', '21.75', '23.07', '41.97', '29.05', '26.68', '19.00', '25.27', '41.37', '17.42', '21.40', '38.07', '36.10', '35.40', '44.97', '36.37', '19.61', '24.27', '17.89', '26.81', '73.81', '18.50', '76.59', '14.50', '25.63', '48.06', '19.08', '33.00', '8.50', '19.33', '39.66', '14.83', '21.26', '49.21', '20.93', '10.21', '18.51', '25.66', '13.33', '34.17', '20.67', '47.24', '19.43', '11.61', '29.26', '103.72', '29.93', '19.40', '15.00', '19.02', '61.77', '45.14', '19.13', '42.23', '13.28', '26.33', '29.28', '14.24', '16.21', '43.19', '24.35', '13.84', '16.97', '18.01', '31.06', '27.47', '21.25', '47.11', '17.10', '25.71', '33.88', '38.72', '27.86', '16.10', '21.47', '22.81', '20.00', '18.33', '37.63', '32.97', '22.77', '33.39', '16.78', '13.31', '17.58', '17.03', '34.91', '14.82', '56.23', '13.96', '73.09', '10.28', '15.96', '41.65', '26.42', '17.13', '26.75', '22.31', '38.26', '22.64', '23.84', '13.87', '77.33', '34.81', '28.34', '23.27', '87.43', '42.93', '30.44', '16.27', '16.43', '22.14', '13.67', '48.08', '25.73', '45.67', '32.09', '80.98', '45.32', '13.77', '11.12', '87.93', '39.26', '10.44', '26.46', '24.00', '23.64', '15.34', '25.96', '22.45', '16.23', '37.21', '34.77', '20.55', '43.04', '15.12', '27.42', '15.72', '27.36', '14.14', '26.52', '18.03', '85.10', '90.82', '14.18', '18.43', '31.55', '16.36', '19.42', '21.05', '39.89', '16.89', '15.28', '20.91', '18.02', '12.78', '13.74', '82.61', '23.13', '11.66', '21.91', '23.31', '12.00', '20.88', '39.44', '22.48', '18.25', '37.34', '22.22', '19.12', '27.60', '28.40', '34.55', '31.94', '19.26', '15.03', '29.40', '25.25', '23.24', '23.76', '25.08', '20.90', '18.82', '27.75', '13.86', '18.69', '26.93', '13.79', '20.35', '12.84', '21.64', '75.47', '30.20', '18.79', '64.08', '18.45', '18.71', '26.08', '34.62', '82.30', '28.26', '71.85', '75.70', '63.10', '11.30', '71.13', '61.85', '56.98', '52.85', '49.85', '1,783.85', '44.75', '35.60', '435.30', '11.76', '38.50', '683.10', '688.35', '662.85', '404.30', '1,228.95', '28.80', '21.55', '30.35', '30.80', '25.80', '26.80', '643.10', '-500.29', '500.30', '1,141.20', '24.95', '27.95', '27.30', '21.80', '28.30', '599.60', '26.15', '27.35', '332.05', '23.75', '278.30', '597.85', '27.25', '448.97', '760.55', '486.85', '22.55', '335.60', '420.70', '372.00', '180.30', '649.60', '24.40', '340.35', '598.56', '343.10', '508.10', '419.85', '375.30', '406.85', '23.50', '146.60', '23.30', '369.72', '308.10', '607.97', '21.41', '269.85', '-556.85', '556.85', '658.05', '429.47', '-408.85', '408.85', '372.05', '21.00', '362.05', '560.26', '19.30', '306.85', '316.35', '412.60', '812.87', '20.80', '18.80', '19.55', '408.10', '300.30', '296.85', '301.85', '21.95', '15.80', '290.60', '17.38', '375.60', '206.85', '20.75', '16.80', '18.35', '303.10', '19.85', '14.80', '21.35', '291.35', '167.10', '568.11', '5.80', '21.63', '290.35', '380.74', '329.25', '259.85', '120.30', '340.05', '15.95', '431.10', '425.30', '288.30', '554.01', '496.55', '325.38', '366.85', '443.60', '14.30', '232.55', '207.05', '18.95', '585.47', '413.01', '478.85', '315.10', '399.55', '406.10', '17.85', '17.80', '295.15', '16.30', '434.30', '470.15', '-369.60', '369.60', '19.32', '414.10', '472.32', '333.10', '17.15', '229.40', '18.96', '17.75', '190.35', '456.06', '459.85', '325.85', '288.45', '220.30', '258.70', '475.55', '261.85', '486.05', '191.46', '488.46', '275.30', '260.75', '254.65', '408.05', '269.05', '389.85', '279.85', '359.85', '277.05', '186.17', '248.10', '410.44', '428.10', '217.85', '249.36', '274.85', '15.30', '451.26', '283.68', '256.62', '240.60', '306.00', '212.90', '372.80', '223.10', '277.65', '20.54', '220.25', '216.42', '436.97', '148.35', '199.10', '227.60', '216.85', '284.19', '91.85', '242.60', '331.85', '299.75', '141.47', '283.97', '313.40', '298.10', '243.96', '300.35', '169.85', '257.21', '333.80', '265.55', '16.45', '-220.10', '245.10', '417.55', '298.05', '197.10', '395.57', '15.32', '250.32', '11.85', '193.90', '205.12', '309.42', '204.30', '163.91', '179.76', '479.99', '199.05', '335.85', '231.85', '365.55', '312.85', '329.35', '238.46', '260.10', '142.40', '259.76', '222.94', '229.60', '338.10', '169.25', '239.60', '477.45', '12.80', '17.30', '258.42', '187.60', '306.96', '-218.85', '218.85', '158.45', '240.17', '17.16', '271.55', '330.77', '188.11', '13.80', '262.32', '284.55', '454.30', '197.85', '177.17', '267.47', '314.80', '176.10', '250.55', '172.85', '151.67', '184.97', '341.55', '157.65', '15.35', '16.55', '14.75', '273.30', '179.85', '325.05', '131.85', '186.60', '11.80', '254.85', '247.07', '243.35', '60.10', '251.55', '201.76', '302.80', '420.30', '324.90', '221.55', '339.60', '303.60', '335.55', '347.35', '14.16', '16.60', '155.00', '214.55', '206.75', '160.37', '241.62', '220.76', '234.05', '215.55', '218.10', '309.35', '307.60', '184.35', '225.47', '167.85', '312.88', '275.85', '304.85', '13.55', '31.30', '392.22', '280.30', '197.20', '138.35', '287.85', '187.35', '263.05', '154.05', '289.90', '333.05', '387.85', '146.35', '245.27', '294.75', '309.77', '233.20', '175.30', '306.05', '474.06', '248.30', '115.60', '331.80', '138.40', '-132.35', '132.35', '198.60', '161.06', '223.07', '162.05', '191.60', '258.77', '199.01', '276.55', '279.05', '164.10', '464.85', '341.85', '223.68', '145.10', '190.60', '200.00', '67.60', '401.10', '182.94', '282.66', '222.47', '298.40', '122.85', '193.10', '136.35', '324.41', '239.33', '194.22', '263.57', '270.47', '209.35', '145.97', '145.35', '289.56', '303.36', '155.44', '-206.85', '206.69', '40.44', '23.80', '235.07', '372.30', '218.27', '283.10', '177.05', '179.30', '227.85', '391.85', '231.60', '184.80', '324.85', '279.10', '218.79', '178.85', '281.01', '342.55', '322.60', '218.60', '222.66', '254.05', '329.45', '194.85', '338.60', '85.80', '323.85', '245.60', '249.85', '218.21', '124.35', '209.85', '232.00', '187.90', '320.60', '12.95', '16.00', '163.07', '309.85', '14.15', '384.72', '349.85', '13.30', '394.60', '212.80', '290.05', '13.05', '190.80', '298.86', '247.55', '278.05', '256.55', '279.55', '153.85', '200.35', '385.65', '261.55', '187.15', '235.80', '208.67', '199.85', '165.30', '239.85', '300.60', '223.80', '172.55', '231.73', '333.85', '315.88', '17.02', '237.55', '174.10', '202.07', '334.51', '311.60', '150.10', '149.10', '162.26', '460.05', '276.85', '203.85', '124.60', '158.87', '156.30', '311.85', '171.85', '159.30', '181.97', '139.76', '112.85', '236.76', '370.60', '262.05', '219.55', '265.60', '397.05', '178.60', '276.35', '214.46', '325.60', '248.60', '269.10', '127.60', '150.47', '13.56', '163.10', '286.85', '327.05', '280.55', '296.76', '221.06', '291.85', '214.00', '200.30', '307.01', '382.62', '202.80', '287.46', '236.55', '371.35', '189.35', '206.65', '310.30', '161.60', '171.60', '267.80', '140.30', '288.12', '315.05', '84.36', '265.85', '229.35', '319.85', '181.85', '335.40', '302.52', '171.30', '209.80', '214.05', '170.27', '152.30', '207.30', '251.05', '283.05', '147.30', '248.22', '188.25', '325.86', '291.55', '122.35', '197.57', '-0.30', '0.30', '348.81', '305.21', '185.35', '165.55', '152.35', '156.10', '222.85', '153.10', '196.05', '109.61', '266.20', '344.10', '122.65', '302.35', '264.05', '155.22', '98.35', '172.10', '156.55', '193.05', '246.55', '194.10', '224.82', '155.65', '149.55', '230.30', '106.62', '246.05', '234.35', '73.55', '238.60', '226.42', '358.60', '257.60', '224.22', '109.10', '192.30', '99.60', '223.30', '152.21', '124.02', '188.50', '232.01', '158.82', '201.55', '181.55', '253.65', '182.05', '290.55', '178.01', '115.67', '219.85', '20.60', '317.57', '173.85', '273.60', '284.80', '183.95', '223.05', '346.94', '280.92', '210.80', '267.05', '84.35', '196.69', '175.07', '209.30', '342.05', '-430.30', '430.30', '135.82', '260.30', '201.10', '146.55', '121.61', '256.35', '66.35', '251.10', '250.30', '151.60', '165.80', '184.60', '253.30', '312.70', '336.12', '119.46', '102.80', '256.05', '250.00', '231.30', '176.27', '97.60', '275.80', '258.85', '149.35', '172.25', '166.67', '252.82', '237.10', '90.05', '148.60', '108.10', '246.35', '105.35', '24.70', '3.30', '182.33', '210.35', '202.90', '228.05', '89.10', '108.60', '111.60', '227.10', '267.72', '293.80', '179.80', '166.55', '105.05', '228.47', '223.62', '70.80', '145.60', '213.25', '60.60', '150.80', '197.05', '208.60', '188.82', '135.60', '264.36', '451.96', '12.25', '81.10', '289.97', '86.10', '201.85', '201.06', '148.89', '288.40', '244.60', '212.22', '153.47', '180.80', '310.80', '135.10', '166.02', '233.10', '130.67', '140.10', '99.12', '349.37', '181.35', '230.10', '91.62', '102.25', '156.35', '157.80', '107.94', '188.10', '280.37', '99.75', '129.60', '161.27', '203.50', '110.27', '167.21', '265.80', '150.30', '117.31', '298.26', '179.10', '252.80', '363.33', '279.12', '323.57', '266.85', '138.10', '276.23', '142.67', '371.46', '272.80', '12.35', '219.42', '121.55', '164.23', '155.80', '87.10', '249.47', '102.10', '292.32', '299.52', '252.55', '123.76', '180.51', '239.80', '130.60', '30.15', '288.77', '12.30', '159.35', '134.76', '247.85', '92.25', '254.55', '209.11', '125.10', '83.60', '210.30', '152.57', '106.00', '119.85', '161.55', '141.56', '-134.85', '134.85', '278.50', '288.80', '299.85', '12.85', '162.35', '104.60', '115.80', '149.89', '116.82', '222.25', '323.05', '251.46', '141.35', '291.00', '149.80', '80.55', '171.00', '259.35', '277.02', '152.87', '229.55', '180.10', '96.47', '246.92', '211.55', '260.05', '285.80', '332.55', '330.85', '225.85', '247.69', '235.79', '56.55', '150.60', '220.60', '118.56', '293.27', '132.60', '129.42', '310.32', '208.10', '145.67', '234.30', '17.90', '252.05', '151.68', '151.07', '157.60', '128.60', '12.98', '108.96', '253.10', '161.85', '282.35', '199.60', '261.10', '226.65', '197.87', '121.43', '323.65', '214.60', '102.60', '152.27', '180.60', '225.66', '270.85', '148.07', '240.85', '85.60', '67.61', '146.85', '9.68', '150.35', '105.41', '147.11', '86.81', '274.11', '211.06', '255.60', '147.77', '120.26', '242.55', '122.87', '263.80', '235.55', '197.33', '171.55', '265.38', '241.61', '219.72', '146.30', '125.80', '250.80', '197.80', '261.05', '191.85', '94.65', '302.64', '149.87', '310.60', '232.85', '116.26', '218.81', '181.41', '261.63', '269.30', '203.10', '81.05', '98.27', '89.21', '229.50', '124.80', '211.10', '169.30', '218.49', '136.60', '124.55', '90.30', '-207.48', '166.10', '150.55', '232.05', '151.55', '142.07', '117.10', '278.16', '187.65', '355.30', '216.77', '-2.05', '2.05', '134.60', '380.85', '234.80', '248.20', '281.82', '265.97', '211.35', '201.41', '251.22', '140.87', '256.85', '147.94', '18.62', '91.00', '167.52', '232.15', '157.37', '85.01', '279.66', '350.85', '244.55', '218.22', '186.85', '116.60', '161.57', '116.10', '145.30', '148.62', '243.85', '214.10', '171.35', '217.00', '154.07', '82.60', '138.69', '187.50', '115.10', '160.05', '125.27', '203.82', '138.47', '297.05', '226.15', '168.41', '282.06', '267.85', '162.80', '245.80', '13.00', '154.55', '131.10', '220.80', '161.16', '151.35', '258.83', '153.05', '309.60', '271.02', '167.76', '76.10', '280.70', '178.55', '125.60', '252.48', '199.35', '133.85', '72.05', '365.69', '120.10', '178.10', '205.60', '93.50', '167.90', '130.55', '147.96', '80.60', '121.35', '169.55', '151.30', '238.10', '124.10', '10.70', '214.67', '174.96', '-203.35', '223.35', '247.40', '134.27', '194.46', '147.48', '223.55', '229.85', '293.60', '309.72', '320.46', '75.80', '163.85', '231.36', '18.61', '168.60', '211.60', '239.55', '149.85', '277.80', '226.60', '116.35', '170.55', '176.85', '294.65', '132.55', '260.46', '221.05', '103.02', '284.35', '182.87', '266.22', '258.10', '150.05', '88.61', '134.87', '85.61', '190.30', '144.80', '175.80', '115.65', '321.85', '255.05', '231.35', '112.00', '250.96', '159.64', '120.44', '129.80', '372.35', '183.17', '210.18', '99.47', '118.76', '92.10', '178.05', '180.35', '243.05', '145.85', '260.21', '255.96', '139.51', '203.45', '154.85', '99.80', '81.55', '-144.85', '144.85', '161.22', '276.84', '233.49', '140.00', '425.11', '84.85', '12.43', '206.76', '221.82', '204.85', '221.46', '85.00', '135.77', '172.60', '156.85', '-106.10', '106.10', '226.05', '253.90', '146.67', '193.60', '204.95', '150.85', '13.57', '163.40', '167.35', '402.30', '274.56', '160.35', '117.85', '120.36', '296.10', '241.67', '287.05', '240.36', '226.37', '155.10', '1.55', '77.10', '157.92', '233.87', '164.82', '152.22', '133.97', '163.05', '194.80', '223.60', '160.30', '130.01', '127.07', '228.85', '69.05', '281.85', '136.69', '239.27', '-67.60', '174.36', '11.75', '142.02', '186.35', '-200.60', '200.60', '170.80', '268.86', '112.62', '216.55', '224.05', '107.60', '187.54', '170.85', '140.75', '205.44', '128.65', '233.40', '123.47', '-180.55', '180.55', '219.96', '36.00', '230.21', '214.85', '124.54', '106.60', '90.60', '241.05', '87.87', '275.15', '207.60', '101.10', '222.88', '205.26', '228.10', '168.90', '157.85', '109.12', '128.10', '100.10', '121.07', '297.25', '209.93', '209.15', '169.80', '94.05', '103.60', '164.35', '300.36', '229.41', '191.30', '218.45', '91.60', '219.35', '128.27', '95.60', '126.30', '272.22', '181.93', '-101.60', '101.60', '101.55', '11.60', '151.40', '210.85', '117.94', '222.12', '86.35', '129.10', '158.10', '157.50', '227.56', '120.00', '212.05', '4.55', '224.55', '225.55', '157.01', '173.81', '187.88', '158.21', '104.10', '173.30', '273.05', '258.40', '235.90', '-106.65', '106.65', '216.06', '167.05', '146.69', '164.80', '-158.05', '158.05', '113.87', '214.61', '74.35', '241.85', '162.85', '245.65', '243.66', '136.10', '111.47', '-103.65', '103.65', '140.55', '123.84', '233.85', '81.60', '263.82', '171.66', '255.85', '108.80', '249.70', '171.01', '155.46', '264.41', '9.85', '149.66', '155.57', '98.10', '106.38', '264.75', '260.85', '99.10', '368.56', '93.10', '187.40', '179.75', '138.55', '271.26', '189.05', '241.80', '247.02', '87.05', '80.05', '297.47', '287.33', '114.47', '230.87', '124.19', '79.60', '201.77', '201.05', '114.60', '185.05', '10.80', '157.35', '106.69', '144.55', '184.01', '180.72', '130.05', '236.85', '170.30', '230.46', '120.53', '256.10', '167.80', '198.80', '-236.85', '102.47', '138.41', '112.32', '138.85', '23.60', '172.30', '187.02', '157.61', '88.60', '117.47', '200.09', '213.90', '132.05', '229.05', '118.35', '215.87', '226.07', '122.82', '159.36', '149.46', '223.01', '75.60', '95.81', '100.30', '268.55', '163.35', '147.95', '121.62', '352.69', '201.00', '143.76', '78.60', '98.87', '255.41', '186.10', '190.00', '220.00', '109.02', '233.13', '95.10', '206.10', '348.79', '149.27', '221.85', '243.36', '190.21', '167.82', '219.80', '101.27', '339.72', '97.10', '-194.10', '146.10', '204.10', '126.05', '103.10', '120.55', '121.80', '124.05', '275.94', '160.80', '388.40', '47.56', '97.67', '-94.10', '94.10', '103.07', '191.55', '188.04', '308.22', '244.07', '206.60', '255.58', '141.60', '103.67', '105.47', '160.85', '183.35', '153.72', '235.77', '109.81', '106.67', '-144.60', '144.60', '200.55', '144.05', '166.85', '163.80', '85.67', '119.80', '177.55', '174.05', '182.57', '232.40', '90.10', '152.60', '133.01', '125.05', '252.88', '154.35', '86.21', '242.44', '91.10', '186.11', '113.00', '250.60', '101.81', '216.60', '50.30', '130.91', '107.87', '152.56', '74.10', '168.36', '97.65', '73.10', '117.05', '92.60', '146.81', '135.18', '283.55', '268.85', '93.35', '73.85', '106.32', '147.87', '105.96', '137.68', '68.05', '195.30', '228.17', '86.85', '101.87', '84.47', '107.21', '173.16', '227.27', '196.85', '188.35', '227.57', '10.30', '107.59', '325.61', '74.60', '143.52', '102.42', '185.60', '188.60', '100.60', '245.20', '180.96', '123.60', '159.86', '200.10', '83.15', '160.86', '119.01', '262.51', '139.05', '76.01', '101.85', '196.35', '204.60', '218.50', '241.55', '146.05', '93.60', '188.85', '180.36', '105.44', '202.30', '139.85', '172.35', '127.02', '83.10', '185.87', '155.85', '296.82', '100.13', '158.85', '102.94', '193.55', '54.05', '6.86', '309.70', '74.05', '192.35', '158.35', '169.15', '153.60', '209.05', '128.30', '129.55', '229.86', '227.22', '70.05', '196.92', '-77.10', '236.16', '100.15', '138.65', '137.85', '115.05', '199.50', '118.55', '20.61', '165.48', '129.53', '117.35', '133.10', '82.01', '86.60', '115.55', '125.57', '106.61', '-202.80', '214.92', '226.67', '198.41', '71.55', '92.87', '210.40', '276.36', '161.46', '130.32', '142.05', '62.06', '224.10', '102.85', '160.62', '183.10', '245.57', '165.10', '155.30', '213.72', '254.93', '89.85', '125.55', '147.36', '78.96', '198.55', '95.35', '147.35', '205.05', '91.61', '83.21', '223.15', '115.45', '103.56', '247.45', '271.85', '235.92', '173.05', '140.35', '230.81', '176.60', '88.10', '132.09', '142.85', '189.17', '190.62', '94.67', '111.55', '112.30', '102.31', '369.61', '75.10', '97.07', '170.60', '141.31', '80.10', '108.37', '179.35', '278.40', '73.80', '174.85', '134.05', '9.30', '118.60', '142.56', '147.42', '128.05', '102.05', '155.35', '115.71', '234.41', '103.35', '143.35', '93.41', '213.60', '222.36', '156.47', '74.81', '302.05', '91.01', '138.80', '248.46', '211.85', '107.05', '171.62', '114.45', '242.40', '181.86', '158.46', '292.88', '183.75', '84.24', '139.62', '80.46', '130.30', '193.07', '98.21', '290.46', '78.10', '193.92', '119.35', '123.30', '164.85', '332.22', '119.10', '262.35', '236.65', '188.20', '207.88', '301.61', '2.95', '88.67', '272.82', '176.35', '168.42', '173.21', '298.60', '164.60', '196.01', '84.60', '114.30', '137.35', '248.76', '83.56', '78.85', '94.81', '176.80', '189.80', '180.40', '130.85', '195.55', '77.85', '148.55', '174.77', '187.10', '169.01', '116.22', '-1.55', '130.80', '134.90', '146.87', '184.10', '174.35', '213.10', '217.35', '112.61', '69.60', '301.97', '189.10', '204.05', '169.10', '164.40', '206.81', '232.62', '172.56', '222.30', '178.02', '216.36', '114.80', '89.81', '141.69', '191.10', '86.27', '208.62', '87.41', '83.81', '141.55', '197.55', '77.60', '84.40', '110.05', '84.19', '161.93', '252.54', '91.50', '183.30', '127.35', '131.60', '90.41', '77.80', '114.85', '106.80', '65.05', '133.61', '56.05', '175.56', '368.15', '113.85', '156.71', '76.60', '189.72', '82.35', '189.55', '174.72', '66.05', '132.85', '247.86', '222.56', '204.55', '178.90', '243.30', '211.90', '204.47', '217.56', '148.85', '263.16', '141.41', '70.60', '182.80', '132.93', '111.00', '119.55', '163.60', '252.27', '257.85', '114.10', '113.55', '186.90', '110.10', '164.55', '70.10', '168.10', '117.55', '88.07', '272.35', '93.80', '242.52', '126.55', '6.80', '159.80', '191.05', '170.35', '114.05', '194.35', '205.97', '105.77', '247.10', '172.80', '136.07', '238.80', '224.85', '328.07', '203.53', '71.10', '207.10', '184.67', '82.67', '117.41', '239.05', '76.61', '369.85', '203.30', '170.20', '194.81', '-77.35', '77.35', '122.05', '190.05', '159.10', '155.55', '71.30', '211.61', '94.01', '178.13', '228.28', '66.55', '194.52', '74.21', '96.06', '208.25', '181.67', '173.22', '129.95', '196.32', '207.06', '333.70', '151.19', '143.10', '72.30', '83.27', '129.35', '110.21', '81.47', '200.85', '128.45', '66.85', '240.72', '79.10', '140.85', '283.56', '203.05', '95.33', '182.55', '140.22', '184.81', '12.06', '224.45', '12.42', '213.19', '82.80', '77.82', '181.07', '217.41', '78.88', '140.21', '194.55', '195.65', '174.55', '98.40', '63.60', '92.35', '76.67', '174.66', '68.55', '76.85', '65.55', '146.90', '208.88', '116.85', '177.60', '61.55', '141.85', '171.05', '223.25', '128.90', '263.15', '199.90', '228.65', '175.60', '139.92', '220.97', '192.12', '68.10', '153.79', '142.35', '362.38', '144.54', '81.12', '68.40', '113.10', '131.40', '71.81', '73.61', '132.10', '153.76', '217.32', '215.10', '180.00', '79.07', '103.01', '66.10', '253.40', '111.35', '67.05', '270.72', '202.62', '106.55', '98.81', '164.05', '156.60', '160.60', '159.12', '200.05', '185.80', '214.56', '11.31', '252.47', '172.62', '-78.10', '171.71', '200.46', '80.94', '91.31', '183.32', '82.56', '151.10', '326.22', '6.85', '90.36', '77.68', '150.77', '128.85', '192.31', '95.55', '146.76', '108.55', '220.45', '121.01', '179.93', '206.35', '64.60', '192.55', '150.36', '209.70', '161.30', '121.45', '122.81', '187.05', '93.40', '80.16', '131.87', '166.76', '196.76', '163.30', '236.22', '107.55', '69.55', '181.61', '188.22', '174.60', '255.06', '155.60', '121.05', '205.00', '164.00', '131.05', '133.55', '183.85', '72.60', '153.35', '132.80', '132.15', '215.88', '64.85', '224.20', '147.12', '226.30', '105.55', '188.52', '253.55', '-201.55', '74.16', '184.55', '120.80', '113.60', '116.55', '152.10', '294.10', '77.81', '89.57', '107.76', '171.10', '86.05', '107.30', '112.35', '136.62', '157.10', '193.61', '109.05', '181.05', '112.60', '176.55', '191.57', '131.55', '152.25', '99.30', '118.10', '249.10', '325.02', '-286.24', '357.80', '105.80', '202.26', '69.80', '144.35', '0.31', '146.37', '58.05', '121.10', '115.22', '82.05', '62.05', '239.82', '84.10', '183.05', '63.88', '158.60', '206.26', '181.30', '136.20', '192.60', '151.85', '186.12', '204.51', '201.80', '183.96', '137.60', '142.15', '171.12', '148.10', '184.32', '154.01', '133.40', '183.55', '160.00', '219.10', '12.96', '63.55', '179.55', '104.19', '140.81', '215.21', '175.73', '200.26', '188.55', '119.73', '139.60', '143.30', '123.35', '111.10', '143.85', '127.94', '180.44', '62.30', '92.30', '138.90', '155.76', '54.80', '167.57', '112.56', '152.93', '152.80', '82.08', '195.05', '192.62', '133.71', '212.85', '182.21', '113.80', '87.60', '209.36', '203.52', '92.82', '181.71', '153.40', '170.05', '148.25', '171.41', '139.17', '106.85', '117.26', '140.16', '210.06', '75.72', '96.05', '110.60', '276.06', '79.61', '168.05', '62.10', '141.80', '173.60', '263.85', '120.47', '67.80', '77.46', '141.94', '135.96', '127.85', '173.29', '104.05', '235.97', '172.02', '97.05', '153.80', '80.30', '174.80', '221.28', '11.33', '59.80', '257.46', '128.81', '59.05', '87.31', '191.76', '130.35', '179.82', '68.16', '119.81', '63.05', '120.31', '126.35', '72.25', '119.87', '172.65', '131.27', '151.11', '143.60', '86.55', '166.65', '261.06', '135.17', '76.07', '22.97', '305.63', '149.88', '95.22', '95.37', '68.81', '81.96', '163.00', '172.63', '107.10', '140.80', '184.90', '164.52', '175.13', '84.30', '135.30', '61.05', '166.97', '173.82', '74.85', '122.25', '161.80', '125.75', '230.75', '72.41', '150.76', '56.30', '143.90', '157.97', '173.87', '109.75', '77.31', '95.80', '147.65', '208.30', '136.85', '239.10', '152.85', '180.12', '131.30', '143.45', '71.21', '165.71', '177.00', '175.61', '104.55', '168.30', '105.60', '151.01', '103.62', '114.55', '125.82', '253.61', '90.80', '120.35', '183.70', '209.60', '165.96', '146.20', '202.55', '185.38', '57.05', '165.77', '90.55', '125.81', '187.80', '159.77', '-173.85', '113.21', '161.10', '120.65', '11.15', '10.55', '102.55', '180.70', '208.26', '121.00', '71.22', '78.56', '166.37', '70.35', '95.21', '147.85', '134.80', '108.41', '80.27', '62.55', '142.94', '215.85', '74.46', '181.75', '190.85', '121.85', '173.35', '174.70', '68.21', '140.74', '139.95', '86.30', '295.30', '115.35', '126.47', '122.90', '176.81', '182.81', '163.37', '165.05', '105.30', '186.69', '301.07', '167.22', '137.10', '137.55', '116.32', '75.85', '105.10', '184.85', '160.26', '247.08', '-53.55', '53.55', '114.15', '-170.60', '138.25', '148.50', '175.26', '143.34', '72.85', '145.95', '119.45', '99.05', '79.56', '88.55', '164.22', '100.37', '124.62', '64.86', '160.02', '163.62', '65.21', '178.80', '70.30', '177.72', '135.85', '133.62', '171.65', '166.60', '147.10', '109.55', '71.80', '84.42', '67.01', '153.71', '158.51', '125.21', '182.27', '96.00', '193.13', '88.01', '206.44', '136.13', '127.25', '196.62', '194.82', '140.45', '117.60', '200.80', '160.25', '142.75', '139.35', '176.82', '162.55', '181.65', '142.25', '136.80', '104.80', '156.09', '190.26', '69.41', '186.66', '124.92', '177.83', '132.44', '157.55', '68.35', '186.55', '227.30', '178.30', '164.20', '159.72', '74.55', '66.60', '161.20', '144.47', '157.75', '178.56', '134.35', '234.60', '158.22', '76.00', '49.55', '63.85', '76.32', '96.80', '135.35', '169.90', '133.60', '110.30', '132.42', '151.95', '176.21', '225.75', '175.10', '199.80', '141.15', '139.07', '-131.60', '156.80', '162.77', '204.72', '70.61', '179.87', '223.61', '102.96', '179.57', '100.05', '85.56', '128.55', '157.25', '227.31', '172.32', '99.55', '75.55', '97.80', '115.85', '138.97', '266.55', '360.36', '60.55', '125.52', '160.65', '118.05', '175.33', '128.52', '175.58', '267.36', '141.40', '64.55', '166.30', '176.22', '168.77', '163.97', '120.85', '200.22', '136.25', '167.03', '180.75', '110.85', '161.40', '131.35', '170.45', '169.60', '155.08', '133.70', '129.85', '203.84', '95.30', '142.30', '151.34', '175.37', '171.15', '156.77', '51.55', '199.31', '116.05', '134.30', '177.35', '172.05', '225.38', '40.00', '217.61', '167.60', '123.65', '120.06', '87.25', '157.32', '165.23', '133.35', '101.21', '58.30', '166.66', '150.40', '86.87', '155.05', '52.55', '144.10', '113.05', '159.55', '157.00', '216.50', '96.55', '154.50', '142.50', '196.55', '55.55', '143.80', '80.81', '167.30', '160.32', '123.56', '115.40', '159.17', '168.95', '177.70', '168.85', '166.95', '190.32', '253.56', '109.01', '111.80', '212.31', '169.37', '196.94', '152.90', '178.20', '186.77', '122.16', '110.46', '123.10', '119.60', '172.90', '185.33', '107.16', '203.57', '178.95', '246.06', '96.41', '127.55', '60.05', '112.07', '133.30', '155.25', '128.25', '183.36', '76.80', '164.63', '169.08', '204.96', '65.81', '185.22', '166.80', '81.80', '159.85', '203.60', '80.37', '170.22', '143.87', '160.97', '157.26', '75.30', '163.02', '142.60', '181.15', '166.38', '153.12', '180.85', '75.09', '179.05', '156.15', '129.47', '100.55', '69.12', '176.87', '169.35', '226.85', '167.27', '151.05', '196.40', '175.75', '198.10', '62.75', '140.60', '-229.55', '132.86', '158.81', '160.67', '139.55', '142.55', '119.90', '181.02', '190.69', '175.05', '104.21', '136.55', '107.85', '150.71', '149.16', '151.61', '142.10', '174.75', '129.40', '193.26', '70.01', '123.41', '274.62', '118.01', '112.05', '124.32', '63.66', '152.05', '145.69', '173.27', '260.60', '192.70', '181.26', '148.70', '150.31', '140.20', '145.80', '169.34', '178.97', '128.35', '103.30', '180.52', '134.55', '106.94', '172.37', '77.21', '104.46', '112.10', '140.65', '98.50', '141.36', '66.41', '165.85', '139.10', '121.92', '228.50', '130.10', '185.46', '123.38', '153.93', '125.35', '108.05', '108.82', '199.12', '128.50', '188.65', '147.90', '148.90', '144.90', '170.75', '158.20', '134.15', '117.63', '94.61', '149.90', '68.60', '90.37', '151.62', '113.30', '205.80', '151.31', '107.46', '185.52', '192.72', '101.16', '155.50', '136.89', '124.25', '151.66', '212.10', '106.30', '253.51', '83.05', '145.08', '95.05', '62.60', '85.35', '155.19', '147.15', '94.50', '102.41', '103.85', '3.80', '206.20', '126.85', '65.85', '51.05', '106.73', '-195.60', '195.60', '121.32', '97.02', '202.32', '129.30', '176.57', '72.47', '89.55', '66.36', '85.55', '118.50', '158.80', '96.60', '92.81', '232.37', '201.90', '166.05', '58.55', '133.80', '131.43', '160.31', '53.05', '232.60', '180.90', '134.22', '134.25', '165.40', '109.35', '88.13', '109.80', '174.81', '78.41', '145.56', '140.46', '110.87', '63.41', '162.72', '174.65', '220.10', '137.31', '156.40', '210.75', '88.05', '219.77', '148.02', '108.35', '175.44', '118.07', '117.95', '85.02', '92.05', '171.69', '199.13', '141.30', '188.19', '75.41', '109.67', '210.78', '59.55', '99.41', '68.80', '104.76', '55.06', '145.15', '323.46', '153.66', '156.93', '183.06', '155.16', '120.60', '159.95', '108.95', '173.80', '65.10', '91.05', '182.31', '143.04', '72.75', '114.42', '212.60', '131.22', '160.10', '164.87', '168.35', '134.10', '171.72', '90.72', '118.67', '131.80', '114.65', '96.85', '64.05', '198.36', '208.32', '233.09', '71.00', '197.15', '60.80', '133.49', '119.52', '84.80', '72.90', '100.86', '104.81', '139.34', '162.10', '175.00', '162.40', '65.60', '141.12', '100.80', '93.05', '150.42', '160.92', '162.83', '115.39', '142.26', '69.06', '121.89', '76.55', '73.60', '178.61', '1.85', '148.30', '126.36', '161.82', '12.36', '104.30', '165.75', '160.07', '242.19', '225.05', '143.55', '151.37', '221.71', '157.05', '111.05', '60.30', '164.13', '109.07', '124.87', '196.86', '100.61', '109.30', '155.15', '391.55', '149.30', '166.90', '147.80', '104.15', '176.00', '79.02', '122.80', '91.67', '111.62', '150.12', '64.12', '152.40', '98.46', '79.81', '135.03', '98.60', '113.35', '83.55', '191.45', '105.45', '93.30', '46.10', '279.11', '174.12', '166.32', '150.00', '70.55', '154.65', '66.62', '146.98', '87.35', '104.00', '106.75', '77.87', '154.92', '75.79', '115.76', '215.50', '303.01', '301.90', '127.61', '59.10', '124.30', '-97.60', '189.75', '99.90', '100.74', '148.05', '131.00', '123.36', '189.85', '180.05', '154.10', '173.90', '173.10', '73.86', '166.14', '168.25', '197.25', '183.46', '109.85', '195.44', '179.48', '77.00', '194.54', '192.65', '52.05', '51.37', '86.90', '139.30', '145.01', '65.46', '124.85', '258.36', '74.30', '153.41', '228.36', '206.52', '130.37', '139.84', '154.79', '126.90', '162.00', '145.86', '153.96', '75.42', '185.96', '150.72', '54.55', '86.16', '95.85', '193.40', '180.41', '141.71', '92.76', '89.87', '86.94', '1.56', '130.92', '135.04', '117.80', '139.53', '92.64', '87.36', '215.38', '194.05', '208.85', '144.30', '116.46', '67.86', '93.70', '164.49', '82.55', '158.50', '176.45', '188.45', '-56.55', '111.06', '125.85', '173.40', '117.71', '133.50', '201.47', '181.80', '-90.05', '77.55', '293.32', '85.37', '170.69', '177.85', '117.70', '108.65', '211.17', '21.86', '156.90', '24.76', '205.61', '71.89', '128.09', '138.30', '149.05', '163.50', '116.52', '132.30', '135.36', '191.23', '50.55', '98.30', '147.26', '189.70', '107.35', '183.40', '282.10', '72.55', '96.62', '131.52', '156.36', '170.82', '108.26', '119.65', '181.73', '195.10', '168.72', '133.92', '109.86', '81.89', '155.29', '135.72', '23.48', '161.52', '169.73', '145.75', '288.55', '135.05', '157.90', '92.21', '128.80', '205.85', '178.91', '113.27', '100.35', '146.68', '169.02', '80.87', '148.92', '159.96', '179.81', '194.43', '151.92', '74.22', '141.10', '76.35', '94.30', '156.50', '136.05', '143.29', '123.31', '148.37', '191.40', '114.48', '242.22', '156.96', '123.17', '59.21', '62.85', '203.80', '144.70', '117.30', '88.79', '72.70', '168.65', '108.42', '132.26', '232.32', '123.85', '130.86', '76.30', '154.56', '112.55', '146.17', '141.05', '188.72', '0.00', '182.60', '10.56', '275.45', '119.05', '147.72', '215.30', '146.82', '103.80', '83.50', '159.18', '163.56', '152.52', '75.05', '169.76', '154.97', '156.42', '176.50', '157.63', '66.00', '69.69', '94.60', '143.00', '130.65', '132.62', '70.67', '176.52', '170.06', '162.36', '87.72', '78.05', '116.87', '127.68', '86.06', '148.32', '165.66', '72.72', '150.54', '66.80', '208.65', '126.60', '138.42', '227.82', '150.70', '268.50', '142.80', '164.75', '163.92', '111.72', '214.37', '121.86', '110.37', '119.78', '116.80', '251.27', '89.26', '64.01', '210.55', '131.15', '107.65', '117.42', '219.01', '151.86', '136.30', '106.01', '160.90', '138.66', '170.10', '150.65', '116.90', '81.85', '127.92', '214.02', '187.86', '87.80', '79.30', '124.75', '127.10', '157.62', '96.56', '331.55', '117.66', '88.80', '143.16', '222.40', '173.72', '87.55', '101.05', '200.25', '67.85', '123.70', '156.17', '63.30', '176.65', '78.55', '120.38', '104.65', '81.62', '64.61', '167.68', '94.80', '153.75', '192.10', '112.80', '204.36', '138.87', '177.80', '50.80', '137.05', '185.30', '125.17', '139.37', '324.72', '66.30', '230.67', '86.00', '91.02', '-98.05', '98.05', '336.72', '58.01', '204.12', '-69.60', '114.12', '74.20', '97.61', '142.00', '60.01', '177.40', '10.75', '104.13', '-73.30', '73.30', '101.15', '90.76', '119.15', '91.30', '122.60', '115.75', '156.18', '215.35', '175.90', '217.88', '127.76', '149.50', '123.55', '107.45', '153.70', '73.01', '140.44', '117.20', '149.40', '184.37', '139.50', '147.17', '79.32', '151.97', '58.61', '130.26', '129.90', '105.65', '187.00', '86.22', '110.35', '93.96', '91.55', '168.66', '76.88', '-121.05', '82.25', '202.35', '96.10', '135.37', '159.65', '157.45', '149.82', '103.75', '58.85', '252.00', '59.88', '111.94', '87.48', '63.96', '124.61', '67.25', '203.21', '182.56', '142.90', '138.05', '67.67', '130.15', '98.65', '145.90', '57.55', '64.30', '-95.80', '216.52', '226.55', '226.32', '189.47', '142.86', '151.02', '128.08', '153.55', '169.56', '124.26', '105.85', '127.30', '138.31', '110.55', '167.55', '59.45', '62.87', '109.32', '142.61', '166.35', '155.21', '195.72', '47.55', '159.06', '77.69', '107.89', '203.56', '115.02', '114.90', '154.81', '127.80', '122.10', '118.90', '154.90', '90.50', '101.35', '165.65', '97.55', '20.30', '147.55', '175.97', '100.38', '177.66', '-118.76', '129.87', '229.30', '88.90', '105.36', '135.75', '55.05', '134.33', '80.82', '120.21', '126.12', '115.30', '92.55', '189.11', '333.90', '134.66', '177.65', '48.55', '99.35', '148.56', '205.92', '124.41', '62.35', '111.65', '113.34', '123.26', '173.46', '137.81', '213.42', '153.36', '81.19', '96.30', '151.56', '95.50', '140.50', '146.00', '35.53', '167.51', '72.99', '175.86', '102.06', '197.35', '92.42', '65.38', '97.08', '118.38', '224.76', '111.71', '97.01', '82.90', '120.05', '119.30', '146.50', '98.85', '140.05', '191.68', '102.17', '77.50', '108.30', '94.55', '181.82', '153.77', '121.68', '158.30', '121.30', '57.56', '102.76', '118.80', '58.60', '118.62', '150.49', '176.16', '79.80', '197.31', '89.27', '108.70', '120.70', '130.76', '121.13', '141.39', '196.97', '120.90', '157.09', '119.21', '74.76', '135.00', '120.69', '191.16', '57.10', '94.62', '259.61', '110.12', '125.30', '156.05', '158.75', '77.27', '194.45', '135.20', '60.41', '164.12', '57.80', '91.99', '177.47', '155.81', '144.71', '72.96', '114.36', '94.44', '18.60', '210.90', '64.00', '111.31', '145.05', '124.45', '126.92', '54.41', '58.80', '159.25', '108.47', '142.92', '155.06', '147.05', '187.61', '107.81', '-85.05', '85.05', '140.39', '216.30', '62.21', '81.41', '146.11', '106.15', '60.36', '140.52', '53.35', '322.32', '65.87', '109.69', '127.62', '123.66', '-92.80', '92.80', '89.60', '84.05', '55.61', '88.85', '80.51', '181.10', '81.30', '75.57', '180.69', '104.41', '149.22', '241.32', '59.30', '89.05', '116.81', '55.30', '79.55', '73.25', '59.35', '9.80', '62.79', '123.00', '130.00', '79.62', '79.13', '68.27', '69.30', '48.05', '79.67', '90.11', '125.15', '116.15', '197.58', '145.32', '240.31', '80.40', '70.00', '104.85', '229.61', '139.32', '61.39', '61.61', '57.35', '116.21', '106.43', '63.42', '148.19', '61.00', '78.24', '192.40', '126.00', '47.05', '107.52', '137.80', '121.60', '109.90', '185.85', '132.07', '244.75', '1.61', '181.70', '142.01', '139.02', '116.27', '176.46', '123.72', '95.65', '112.67', '160.89', '120.13', '62.74', '159.70', '72.10', '151.25', '139.25', '73.07', '132.96', '57.41', '72.42', '157.99', '94.12', '133.52', '192.61', '64.02', '144.06', '99.06', '124.14', '143.05', '136.90', '71.60', '135.70', '158.27', '126.10', '99.76', '69.85', '81.00', '139.56', '97.86', '105.69', '63.35', '64.95', '-56.35', '56.35', '165.47', '189.40', '109.60', '159.40', '67.00', '119.57', '154.30', '135.31', '193.91', '152.81', '80.41', '156.62', '155.52', '147.06', '145.00', '56.81', '72.00', '45.55', '153.30', '-130.30', '126.57', '122.59', '58.86', '139.61', '70.37', '126.65', '104.35', '89.80', '116.00', '101.68', '67.16', '89.82', '135.06', '88.35', '284.30', '183.12', '130.39', '168.50', '143.19', '138.19', '88.23', '156.72', '94.56', '106.05', '68.25', '156.12', '121.95', '124.70', '87.30', '94.15', '123.80', '79.19', '277.67', '144.96', '132.40', '202.37', '198.11', '-132.33', '312.19', '52.30', '68.46', '170.01', '67.56', '199.55', '115.83', '97.35', '152.50', '124.00', '124.15', '68.82', '78.00', '109.65', '72.36', '87.53', '133.25', '65.00', '129.05', '111.30', '98.55', '114.95', '329.30', '156.00', '65.80', '84.75', '121.96', '87.06', '-44.55', '44.55', '112.21', '86.56', '83.46', '206.30', '71.87', '56.21', '91.56', '266.73', '143.25', '179.22', '61.01', '73.50', '131.82', '110.65', '143.15', '93.15', '108.85', '137.50', '141.95', '147.70', '146.45', '86.25', '85.30', '77.65', '100.56', '84.55', '81.25', '130.07', '144.42', '78.90', '61.35', '136.32', '89.92', '205.86', '55.26', '88.09', '123.05', '129.45', '144.45', '56.80', '100.00', '60.00', '119.50', '91.80', '115.34', '116.76', '46.05', '149.57', '101.22', '83.40', '142.62', '58.35', '161.21', '113.52', '118.30', '99.85', '95.13', '109.92', '189.66', '79.01', '59.60', '90.35', '134.50', '97.25', '142.76', '135.12', '120.72', '88.33', '77.04', '134.44', '119.75', '114.35', '58.50', '109.56', '70.85', '131.57', '130.25', '73.04', '93.20', '69.96', '154.51', '78.40', '161.05', '144.36', '122.79', '54.30', '82.94', '238.86', '131.17', '150.06', '63.36', '284.05', '161.65', '71.20', '101.30', '126.80', '55.01', '139.81', '132.87', '52.80', '50.05', '179.60', '112.31', '55.37', '64.80', '120.50', '163.86', '115.73', '148.86', '124.91', '197.62', '71.84', '53.21', '91.19', '118.19', '72.56', '-86.60', '57.87', '83.85', '43.00', '141.96', '118.92', '64.75', '152.42', '103.55', '127.71', '92.15', '76.86', '50.85', '101.00', '80.80', '96.58', '82.00', '122.33', '38.35', '128.20', '127.05', '126.96', '98.90', '121.31', '101.25', '89.35', '126.54', '75.44', '207.35', '65.30', '120.29', '86.80', '66.69', '168.96', '96.12', '110.44', '206.55', '141.65', '165.42', '91.65', '81.36', '152.31', '114.41', '162.56', '114.72', '96.36', '59.81', '78.34', '165.12', '46.55', '144.12', '59.76', '69.10', '121.56', '95.76', '92.90', '87.85', '6.30', '74.15', '149.20', '121.90', '84.00', '84.63', '116.50', '210.00', '78.12', '142.08', '110.67', '102.72', '128.46', '71.69', '71.67', '100.32', '101.46', '126.11', '100.67', '71.05', '79.65', '118.33', '209.10', '123.40', '133.05', '191.15', '88.75', '79.37', '79.00', '92.40', '50.00', '114.81', '152.55', '148.00', '128.36', '125.16', '178.32', '81.65', '139.26', '116.28', '87.51', '91.97', '62.81', '-54.05', '102.87', '100.62', '256.57', '96.40', '64.67', '107.80', '90.20', '91.15', '69.76', '110.40', '138.06', '67.10', '122.30', '-82.05', '75.65', '160.01', '50.10', '104.39', '131.76', '76.17', '109.26', '106.92', '59.32', '67.52', '98.15', '99.44', '59.06', '104.71', '148.61', '54.58', '200.92', '74.00', '168.01', '96.35', '63.00', '75.35', '53.00', '106.07', '111.41', '168.31', '88.56', '67.07', '110.81', '95.46', '66.06', '131.16', '103.32', '52.60', '116.30', '102.04', '67.35', '117.96', '73.26', '197.21', '266.62', '86.08', '120.92', '69.40', '154.25', '110.51', '118.31', '155.90', '94.25', '138.70', '133.46', '90.85', '-82.60', '84.25', '100.71', '69.24', '110.80', '156.53', '51.35', '223.97', '92.16', '84.50', '108.89', '94.86', '129.72', '93.06', '75.00', '144.81', '142.09', '94.85', '77.74', '60.85', '-88.85', '92.85', '129.71', '122.46', '95.90', '45.80', '109.19', '69.70', '73.70', '125.40', '110.72', '92.45', '138.95', '62.14', '125.08', '103.90', '5.55', '78.78', '77.05', '107.50', '88.30', '-73.35', '73.35', '187.97', '150.41', '-79.55', '145.94', '182.22', '117.87', '46.80', '103.41', '134.16', '93.81', '160.69', '83.35', '289.30', '118.61', '61.86', '111.85', '86.88', '115.63', '52.31', '66.19', '68.99', '158.65', '100.90', '204.65', '63.80', '87.45', '196.30', '99.70', '79.23', '5.30', '51.60', '97.56', '78.30', '67.76', '75.75', '96.01', '153.20', '137.16', '104.82', '137.87', '-63.10', '118.95', '43.55', '106.98', '122.55', '113.75', '73.90', '76.40', '85.40', '138.15', '124.57', '9.35', '115.90', '82.10', '134.00', '91.35', '115.61', '162.18', '90.90', '75.11', '137.45', '111.42', '101.76', '97.36', '100.65', '92.46', '135.66', '97.87', '130.51', '123.77', '93.66', '53.81', '42.55', '61.10', '102.30', '143.21', '110.95', '94.35', '99.95', '48.00', '12.70', '74.75', '116.40', '68.03', '66.26', '-92.15', '76.05', '99.65', '64.10', '83.29', '242.81', '87.46', '93.85', '126.66', '150.96', '162.71', '91.40', '82.95', '216.35', '71.35', '175.85', '9.95', '88.92', '59.87', '126.06', '163.01', '114.79', '81.75', '120.96', '138.96', '222.05', '99.19', '133.86', '136.26', '169.86', '145.06', '113.65', '72.48', '236.20', '79.05', '127.00', '139.80', '74.40', '71.75', '68.30', '73.20', '107.22', '69.75', '12.05', '90.65', '110.00', '69.36', '94.26', '62.09', '100.02', '97.88', '113.22', '84.70', '64.07', '119.16', '55.35', '108.17', '146.46', '56.82', '88.65', '97.85', '129.06', '106.86', '-43.05', '43.05', '151.20', '67.17', '68.85', '137.22', '196.10', '90.00', '78.80', '73.00', '111.15', '165.20', '89.75', '71.36', '102.73', '73.36', '89.15', '89.98', '171.96', '98.22', '66.24', '101.38', '91.25', '93.55', '57.06', '94.71', '131.46', '96.66', '120.23', '-127.05', '54.12', '48.80', '71.77', '95.69', '68.15', '-82.85', '82.85', '97.92', '112.92', '119.12', '133.06', '133.64', '143.71', '161.45', '106.35', '-61.85', '10.35', '115.00', '115.51', '80.35', '90.06', '135.02', '49.61', '90.66', '14.03', '161.49', '82.98', '96.65', '147.25', '61.67', '119.67', '137.82', '241.97', '90.98', '55.10', '64.94', '69.79', '69.97', '143.50', '88.40', '-4.55', '102.70', '41.55', '95.45', '54.36', '128.22', '102.66', '235.62', '58.67', '133.26', '101.74', '99.72', '89.76', '75.56', '83.80', '114.97', '108.76', '83.87', '-81.80', '102.95', '92.94', '54.10', '124.90', '190.10', '177.42', '125.11', '146.57', '61.88', '85.13', '52.01', '73.14', '76.39', '101.80', '66.57', '70.17', '-87.10', '91.42', '70.92', '93.19', '85.25', '108.36', '99.81', '90.96', '231.05', '110.20', '82.11', '110.76', '77.45', '102.35', '93.75', '8.80', '103.92', '128.15', '98.19', '67.69', '67.09', '40.61', '93.90', '-83.60', '122.70', '140.53', '222.10', '80.43', '174.46', '104.16', '147.66', '110.50', '114.00', '110.52', '88.86', '161.91', '141.72', '113.46', '85.85', '229.97', '146.27', '96.27', '115.70', '123.42', '26.04', '94.82', '136.86', '154.60', '89.45', '103.45', '67.55', '92.65', '165.17', '104.75', '88.26', '70.13', '49.05', '97.19', '110.19', '134.11', '117.88', '111.12', '51.80', '-78.05', '57.36', '121.22', '89.46', '125.12', '152.82', '94.99', '100.12', '104.27', '131.20', '127.20', '135.40', '99.29', '-55.10', '152.24', '117.15', '69.35', '158.67', '188.90', '104.44', '85.73', '145.73', '86.32', '116.93', '127.86', '89.16', '58.10', '85.15', '88.15', '87.15', '101.45', '56.46', '136.67', '106.29', '89.65', '57.00', '78.35', '96.42', '95.61', '103.11', '97.94', '198.64', '95.27', '53.10', '-103.10', '213.11', '62.27', '96.31', '87.96', '91.94', '94.13', '95.87', '87.65', '155.75', '74.70', '93.65', '63.47', '97.30', '74.80', '98.25', '87.66', '73.05', '51.41', '127.26', '97.32', '96.44', '118.32', '95.82', '74.95', '62.25', '103.88', '143.40', '80.78', '42.80', '289.86', '80.25', '123.25', '115.32', '98.56', '121.26', '65.35', '92.56', '123.78', '83.00', '127.09', '-52.55', '95.52', '80.11', '107.62', '92.75', '72.80', '113.81', '74.87', '-75.55', '124.76', '130.38', '99.17', '100.17', '105.42', '59.72', '86.31', '109.98', '249.06', '111.96', '61.80', '49.30', '125.46', '50.81', '100.69', '128.18', '95.06', '84.96', '-39.05', '66.70', '96.72', '98.75', '87.90', '65.27', '68.65', '60.35', '97.20', '94.90', '86.45', '88.00', '113.50', '97.90', '9.36', '89.18', '62.00', '126.31', '84.01', '-161.55', '44.05', '100.44', '76.56', '113.51', '123.57', '96.94', '103.19', '93.67', '124.38', '93.29', '163.70', '67.34', '79.25', '160.55', '131.45', '94.95', '123.15', '89.40', '86.46', '108.06', '95.15', '109.25', '75.66', '94.07', '94.31', '86.76', '73.63', '88.88', '211.92', '228.80', '58.56', '98.76', '82.40', '40.55', '51.10', '80.06', '86.20', '70.44', '104.77', '64.32', '86.65', '118.85', '42.05', '93.72', '-78.60', '132.66', '133.02', '115.15', '99.79', '111.77', '79.77', '94.92', '106.06', '101.20', '96.70', '103.50', '171.36', '83.43', '91.90', '132.92', '8.30', '85.86', '-91.60', '135.55', '94.59', '89.44', '93.78', '129.66', '83.94', '120.15', '93.47', '136.37', '92.37', '113.76', '86.15', '152.17', '-42.55', '83.44', '98.82', '82.28', '121.38', '164.76', '87.91', '99.43', '194.76', '95.89', '102.15', '99.45', '97.75', '78.70', '75.48', '113.20', '180.45', '58.26', '72.57', '173.55', '115.44', '85.78', '84.45', '242.20', '97.62', '108.00', '93.45', '255.42', '90.38', '89.12', '108.52', '64.26', '85.26', '93.12', '105.12', '125.69', '-78.85', '73.87', '82.86', '110.22', '51.30', '131.73', '91.63', '95.88', '57.31', '82.37', '93.01', '85.31', '52.10', '81.45', '99.00', '167.50', '104.45', '72.98', '100.25', '85.65', '8.10', '81.71', '90.74', '65.16', '111.45', '81.22', '90.40', '46.96', '66.04', '100.88', '97.23', '188.30', '107.00', '193.25', '128.82', '119.00', '76.41', '102.39', '69.47', '166.56', '148.67', '93.25', '105.53', '119.28', '84.65', '80.00', '72.06', '89.30', '141.06', '78.58', '104.34', '82.38', '47.21', '58.40', '89.36', '168.55', '58.07', '68.77', '102.52', '74.25', '116.95', '82.48', '159.60', '50.39', '84.41', '56.87', '96.03', '114.74', '104.99', '88.50', '102.62', '94.32', '276.95', '109.20', '80.85', '42.30', '129.12', '83.76', '49.60', '79.68', '100.51', '90.43', '97.26', '137.04', '88.81', '121.69', '137.62', '105.81', '96.95', '84.95', '89.70', '94.40', '53.50', '96.90', '102.65', '9.81', '85.16', '-41.55', '89.31', '109.17', '91.59', '85.36', '137.21', '97.00', '142.73', '90.26', '71.76', '59.27', '84.66', '207.36', '70.65', '81.11', '117.40', '83.16', '85.89', '132.00', '100.07', '56.15', '92.93', '99.73', '144.65', '133.95', '101.50', '98.45', '83.30', '7.80', '122.00', '79.35', '181.90', '90.08', '55.67', '76.23', '141.79', '84.06', '92.27', '114.78', '92.52', '83.84', '67.59', '136.11', '107.19', '100.75', '81.13', '137.00', '-70.55', '88.19', '105.19', '87.00', '128.76', '100.01', '131.19', '111.38', '200.38', '120.41', '132.77', '94.91', '131.37', '83.75', '132.65', '110.84', '65.03', '95.25', '87.17', '-108.35', '101.95', '-106.55', '104.73', '125.33', '78.15', '87.56', '103.81', '134.57', '99.40', '119.76', '84.15', '91.71', '138.12', '59.22', '59.49', '108.75', '125.22', '85.75', '80.50', '165.81', '-81.35', '81.35', '101.52', '38.05', '88.20', '87.50', '110.41', '59.28', '101.53', '52.00', '103.86', '-73.55', '19.09', '184.30', '83.25', '187.32', '177.06', '108.68', '108.12', '69.00', '-70.05', '98.41', '72.71', '74.19', '105.72', '134.61', '63.08', '172.98', '138.88', '99.49', '97.57', '67.87', '40.05', '91.34', '91.39', '-73.05', '134.18', '82.02', '80.70', '-71.05', '204.18', '145.25', '83.45', '103.25', '107.25', '90.70', '159.15', '108.45', '88.93', '69.42', '60.21', '133.56', '113.88', '94.36', '76.25', '93.36', '57.70', '53.22', '122.40', '103.94', '89.03', '80.56', '68.32', '63.11', '39.55', '127.18', '119.40', '107.40', '71.15', '136.00', '131.50', '62.16', '117.90', '129.70', '96.25', '111.53', '144.73', '139.19', '90.47', '86.62', '57.60', '129.96', '126.72', '94.75', '-76.55', '138.37', '111.36', '104.52', '91.07', '89.22', '91.32', '79.85', '52.25', '77.75', '129.00', '39.80', '190.90', '106.68', '164.16', '162.37', '132.01', '108.07', '98.80', '47.30', '103.61', '82.45', '81.63', '55.80', '56.93', '178.19', '133.34', '143.98', '86.75', '86.95', '96.15', '54.75', '5.05', '-45.55', '130.56', '46.90', '127.32', '100.98', '94.63', '97.43', '96.73', '68.50', '98.13', '91.83', '85.94', '100.73', '103.05', '220.02', '129.77', '99.96', '77.73', '93.42', '72.15', '67.24', '55.00', '110.09', '78.61', '65.22', '83.65', '56.76', '129.65', '76.73', '62.82', '64.04', '132.36', '45.05', '82.81', '185.44', '117.13', '46.63', '112.66', '126.64', '70.02', '82.65', '107.27', '90.12', '71.50', '162.47', '79.22', '84.90', '87.88', '70.14', '180.65', '48.10', '124.53', '167.75', '119.95', '60.37', '213.66', '104.50', '67.65', '92.20', '89.95', '55.93', '70.27', '104.87', '127.97', '84.48', '106.26', '76.91', '115.46', '89.38', '134.12', '105.66', '82.26', '89.11', '92.22', '94.64', '80.76', '76.51', '102.69', '89.24', '89.77', '71.73', '117.46', '60.44', '87.76', '91.92', '115.56', '45.31', '121.65', '140.29', '172.66', '90.25', '83.11', '48.45', '85.38', '53.95', '118.93', '53.45', '81.66', '74.66', '67.83', '150.75', '100.91', '116.92', '-79.10', '82.15', '87.42', '92.50', '24.56', '71.90', '81.84', '65.29', '53.80', '122.56', '46.30', '64.35', '52.87', '113.86', '67.99', '141.42', '174.50', '130.45', '73.37', '79.72', '104.49', '87.64', '132.17', '126.62', '108.54', '53.76', '145.02', '79.98', '8.51', '79.90', '81.95', '149.15', '104.33', '69.68', '67.30', '91.72', '56.62', '61.60', '126.88', '136.73', '62.45', '117.82', '127.37', '252.36', '84.12', '189.30', '140.82', '88.62', '105.70', '72.40', '119.27', '83.82', '87.40', '84.43', '99.07', '82.16', '68.00', '146.75', '111.95', '85.82', '59.75', '107.72', '70.73', '197.46', '210.01', '81.42', '52.56', '93.88', '79.79', '95.00', '54.56', '88.08', '78.83', '79.41', '89.52', '114.06', '85.91', '103.76', '90.33', '93.32', '183.65', '54.60', '74.31', '78.22', '19.77', '102.88', '67.58', '104.07', '92.31', '116.62', '106.99', '125.06', '129.93', '-96.05', '101.69', '77.97', '70.62', '31.35', '90.77', '85.69', '59.86', '115.50', '83.02', '80.21', '101.70', '99.25', '99.66', '66.88', '42.69', '68.08', '68.68', '66.28', '67.48', '74.86', '134.65', '66.25', '65.68', '64.48', '-69.05', '172.26', '193.80', '76.93', '82.75', '69.38', '81.06', '119.44', '88.47', '108.94', '57.12', '84.81', '90.04', '137.53', '62.70', '59.38', '109.50', '71.39', '76.24', '78.26', '79.86', '88.32', '137.75', '84.93', '54.35', '95.73', '127.99', '98.72', '131.06', '56.00', '37.55', '111.90', '92.01', '93.08', '103.26', '94.03', '130.20', '116.57', '129.50', '136.92', '161.35', '79.78', '149.92', '136.54', '144.20', '92.62', '71.25', '103.00', '70.15', '144.07', '165.95', '53.46', '128.94', '96.50', '80.45', '127.01', '119.94', '87.47', '72.35', '66.59', '146.22', '69.57', '98.28', '91.43', '-81.15', '81.15', '80.04', '122.27', '84.44', '61.62', '60.06', '106.47', '132.43', '-67.55', '127.51', '127.57', '126.03', '72.12', '-51.60', '81.51', '92.95', '90.42', '80.03', '110.26', '78.50', '183.60', '86.82', '76.70', '99.21', '106.31', '90.75', '100.23', '92.00', '76.71', '82.33', '106.95', '103.09', '152.20', '99.97', '95.02', '-76.60', '102.12', '47.81', '71.71', '48.41', '118.27', '178.31', '86.14', '130.61', '94.02', '119.49', '73.11', '80.14', '119.41', '44.21', '82.87', '181.92', '77.16', '-58.30', '75.33', '77.08', '94.19', '49.56', '84.64', '85.70', '112.25', '96.18', '101.91', '10.79', '78.65', '104.66', '135.80', '131.68', '149.28', '90.29', '72.03', '78.93', '110.63', '107.56', '66.51', '99.78', '50.21', '73.68', '79.12', '118.29', '102.56', '60.83', '131.34', '79.26', '-52.80', '89.68', '118.21', '377.88', '86.52', '108.81', '126.71', '149.52', '86.50', '83.58', '105.01', '105.23', '117.36', '88.45', '136.31', '98.52', '117.06', '100.92', '181.18', '78.66', '122.21', '21.79', '83.19', '78.06', '-74.10', '102.45', '139.71', '80.65', '4.30', '102.50', '71.02', '60.03', '135.65', '91.95', '18.05', '125.45', '75.43', '75.17', '60.47', '146.94', '99.50', '70.21', '73.92', '97.73', '74.54', '86.19', '172.64', '75.45', '65.84', '93.61', '85.87', '88.84', '81.57', '105.75', '80.96', '57.47', '101.82', '127.31', '95.03', '94.38', '97.64', '49.80', '61.13', '-72.60', '41.29', '87.12', '68.87', '164.01', '81.94', '157.31', '77.76', '45.85', '51.65', '53.69', '152.46', '1.30', '118.86', '97.95', '65.88', '99.71', '106.13', '125.13', '80.86', '87.52', '85.92', '191.00', '49.81', '77.23', '56.27', '68.22', '67.62', '54.96', '92.06', '100.39', '112.02', '-75.10', '50.35', '122.22', '108.29', '62.77', '135.81', '60.97', '61.57', '63.97', '62.17', '63.98', '83.93', '76.26', '65.44', '78.75', '113.45', '94.73', '83.49', '73.82', '49.10', '68.13', '139.65', '97.81', '76.43', '95.53', '118.26', '88.52', '147.29', '41.05', '29.30', '133.00', '65.11', '85.21', '85.06', '75.24', '-51.80', '71.66', '82.57', '89.49', '-83.65', '61.42', '155.82', '192.80', '77.03', '99.56', '107.63', '95.44', '83.20', '87.70', '102.00', '90.51', '-55.60', '235.86', '103.71', '117.56', '70.87', '57.82', '140.12', '158.68', '93.24', '83.33', '144.66', '126.01', '98.84', '68.52', '114.11', '59.82', '46.00', '74.29', '61.32', '60.12', '107.38', '87.95', '81.31', '128.19', '76.90', '48.30', '88.02', '84.89', '85.07', '58.90', '77.63', '90.28', '87.20', '165.35', '106.25', '88.53', '45.41', '85.90', '-65.55', '59.00', '80.20', '85.32', '76.53', '57.66', '93.64', '169.75', '40.98', '64.84', '65.76', '98.61', '40.20', '64.24', '79.15', '132.88', '41.76', '-67.80', '85.93', '107.01', '72.51', '105.76', '79.18', '96.71', '74.88', '76.28', '67.21', '73.83', '68.48', '111.88', '166.42', '118.81', '47.85', '134.75', '142.65', '49.01', '91.38', '54.85', '90.44', '76.04', '90.15', '89.19', '128.87', '111.91', '68.64', '80.69', '75.96', '169.32', '207.80', '61.63', '66.65', '105.95', '78.47', '85.50', '114.40', '112.26', '111.66', '77.40', '94.46', '-65.80', '134.46', '92.34', '78.36', '-55.80', '92.33', '226.92', '-78.65', '120.66', '84.84', '140.58', '76.22', '105.32', '89.32', '63.20', '78.20', '77.11', '81.90', '115.26', '95.70', '110.54', '83.90', '73.93', '217.80', '73.66', '93.18', '78.76', '101.06', '80.90', '46.62', '112.86', '65.43', '191.80', '189.81', '67.91', '180.06', '79.75', '-61.30', '61.30', '84.72', '80.44', '82.62', '89.20', '67.72', '123.81', '95.28', '61.40', '107.64', '59.70', '-67.05', '70.70', '84.26', '75.21', '117.65', '131.65', '132.33', '74.36', '68.88', '73.08', '115.69', '-68.05', '89.04', '129.03', '98.16', '104.22', '78.18', '30.30', '49.12', '81.76', '81.18', '103.15', '157.02', '97.89', '52.61', '95.99', '49.35', '130.81', '35.05', '212.00', '82.29', '78.43', '107.73', '-71.60', '58.32', '99.92', '94.00', '70.45', '85.54', '77.15', '54.00', '96.64', '91.74', '104.06', '153.50', '57.20', '104.43', '60.66', '57.25', '65.82', '69.50', '193.97', '44.30', '-63.55', '85.49', '-70.60', '108.66', '-64.55', '92.58', '82.68', '71.98', '144.95', '226.97', '83.52', '123.54', '84.57', '80.15', '46.64', '61.02', '39.05', '125.20', '173.59', '116.25', '79.40', '104.01', '-68.30', '-99.55', '111.61', '66.47', '79.50', '56.24', '87.62', '132.47', '175.20', '79.44', '87.94', '104.36', '165.11', '81.38', '199.86', '131.28', '137.25', '131.21', '83.23', '91.22', '78.81', '59.95', '66.43', '89.00', '-164.55', '164.46', '101.90', '128.75', '55.85', '92.84', '56.78', '171.11', '58.91', '65.17', '110.82', '152.72', '41.21', '52.02', '133.19', '82.92', '48.49', '116.09', '90.78', '88.74', '73.51', '116.41', '68.63', '73.91', '104.64', '99.03', '66.92', '56.60', '57.15', '88.73', '126.23', '67.45', '117.93', '89.28', '67.50', '68.04', '67.15', '89.90', '83.70', '76.15', '131.31', '91.27', '75.06', '91.06', '98.07', '81.40', '87.89', '123.06', '75.23', '45.78', '75.58', '80.88', '85.62', '98.66', '63.79', '69.62', '122.31', '57.85', '64.62', '67.26', '-64.05', '80.53', '187.85', '63.18', '-63.05', '47.80', '55.31', '76.45', '47.00', '66.50', '92.54', '63.13', '61.33', '69.92', '61.93', '40.25', '69.28', '116.06', '78.48', '78.29', '70.18', '103.95', '85.23', '45.39', '181.00', '127.56', '123.90', '177.31', '75.71', '100.68', '109.91', '185.93', '147.56', '76.02', '66.61', '70.98', '39.00', '107.20', '110.25', '86.37', '95.75', '69.59', '77.70', '92.29', '164.90', '93.76', '74.03', '74.45', '77.56', '83.61', '65.25', '77.98', '123.18', '66.20', '85.17', '103.98', '92.11', '32.42', '50.60', '75.36', '29.70', '55.59', '113.33', '148.80', '105.78', '93.48', '159.19', '-104.25', '104.25', '101.65', '86.38', '86.69', '123.50', '63.31', '133.31', '114.66', '49.74', '115.24', '95.40', '78.19', '113.18', '46.61', '100.45', '87.49', '80.33', '73.18', '66.72', '63.15', '121.20', '67.63', '143.82', '57.42', '85.41', '41.81', '70.20', '70.06', '67.73', '216.17', '71.93', '75.38', '54.95', '81.97', '39.30', '91.13', '79.03', '53.87', '131.58', '121.94', '36.05', '57.33', '66.73', '89.53', '122.15', '143.56', '153.95', '77.25', '125.51', '117.72', '59.69', '82.32', '198.71', '72.31', '166.13', '99.58', '162.78', '-175.80', '46.98', '116.48', '77.57', '106.56', '128.57', '146.38', '76.31', '69.65', '75.15', '-66.35', '73.67', '47.33', '60.23', '80.62', '73.56', '122.84', '43.15', '66.42', '102.38', '135.69', '91.20', '33.30', '34.07', '106.08', '283.79', '105.00', '116.20', '45.60', '70.50', '173.20', '147.40', '55.07', '110.45', '102.03', '106.21', '89.33', '131.86', '-117.80', '115.13', '81.72', '78.72', '82.07', '63.34', '66.89', '73.41', '110.38', '122.58', '73.98', '-68.10', '55.94', '-72.10', '69.95', '86.91', '50.08', '58.06', '102.23', '166.92', '57.72', '-69.10', '82.49', '67.36', '69.67', '76.58', '110.16', '40.95', '72.69', '45.30', '58.81', '99.48', '55.88', '-35.55', '35.55', '43.35', '55.62', '119.58', '64.52', '73.15', '141.70', '83.99', '83.42', '89.25', '208.97', '-46.55', '70.90', '79.92', '95.38', '94.58', '75.01', '76.99', '68.17', '77.41', '63.50', '68.90', '70.16', '71.61', '117.54', '75.90', '80.29', '44.10', '112.50', '45.37', '98.62', '89.94', '55.13', '95.57', '75.74', '78.95', '107.39', '100.26', '181.06', '185.21', '140.57', '36.99', '81.70', '64.91', '2.55', '172.97', '192.25', '66.66', '65.64', '151.00', '10.10', '69.45', '73.13', '53.89', '75.37', '79.64', '160.61', '111.48', '57.48', '76.94', '96.48', '96.96', '80.67', '95.34', '108.61', '94.94', '83.07', '69.93', '87.97', '90.07', '59.24', '84.32', '32.25', '40.30', '-80.60', '61.26', '262.56', '84.28', '-85.55', '77.90', '-34.35', '58.58', '61.58', '60.98', '178.88', '16.67', '45.20', '71.42', '45.36', '70.57', '110.15', '57.96', '61.45', '75.95', '114.46', '172.45', '97.68', '174.90', '55.25', '61.56', '100.06', '75.20', '69.48', '54.47', '177.96', '83.22', '98.71', '136.83', '74.99', '100.16', '174.88', '114.77', '85.45', '61.38', '137.06', '48.96', '72.32', '109.68', '76.18', '67.70', '68.79', '64.64', '113.98', '82.24', '38.55', '56.02', '89.50', '140.70', '192.00', '52.67', '67.98', '56.85', '62.67', '81.37', '62.31', '75.18', '23.19', '67.93', '48.20', '72.66', '57.03', '118.82', '46.26', '183.11', '97.69', '85.12', '83.67', '-94.05', '89.23', '72.14', '65.54', '209.22', '73.69', '107.97', '66.53', '101.94', '71.32', '147.41', '72.73', '106.20', '-69.55', '42.41', '104.31', '48.60', '44.35', '-39.55', '43.01', '60.09', '60.69', '65.75', '95.36', '63.32', '54.67', '73.19', '99.15', '74.65', '79.04', '51.96', '75.69', '190.13', '-60.60', '79.69', '181.98', '-61.05', '157.91', '47.16', '63.19', '74.04', '83.95', '103.08', '-82.80', '102.48', '88.38', '77.92', '80.52', '64.78', '69.63', '184.31', '137.46', '88.21', '43.30', '73.44', '84.62', '69.09', '74.12', '38.22', '-73.10', '47.76', '72.65', '72.11', '88.95', '81.14', '60.61', '78.08', '76.08', '88.71', '55.72', '102.18', '71.16', '106.09', '69.91', '77.89', '53.27', '103.31', '60.75', '80.89', '112.75', '92.51', '119.42', '88.31', '128.16', '63.22', '87.28', '154.26', '157.96', '38.52', '37.74', '58.66', '59.26', '110.11', '65.78', '98.57', '85.22', '77.17', '128.12', '62.22', '47.35', '82.88', '78.99', '92.59', '41.86', '69.99', '74.74', '97.41', '68.72', '109.70', '61.11', '115.11', '56.19', '90.95', '-3.30', '115.86', '100.40', '53.29', '73.21', '73.48', '85.72', '44.00', '80.31', '108.15', '73.75', '78.71', '136.68', '72.04', '117.00', '135.13', '92.47', '-57.80', '74.90', '71.44', '87.19', '-83.80', '111.69', '92.43', '89.73', '153.06', '86.84', '72.21', '57.30', '168.71', '65.67', '78.02', '76.92', '87.81', '63.75', '38.80', '42.90', '122.78', '-72.35', '94.68', '73.22', '76.68', '51.42', '92.04', '62.08', '60.84', '71.12', '79.70', '95.01', '116.75', '115.25', '74.28', '113.59', '-60.55', '58.92', '-67.10', '-48.60', '63.90', '45.35', '92.23', '88.48', '-69.85', '108.11', '107.03', '74.44', '113.15', '116.51', '107.11', '94.24', '89.93', '-62.05', '91.12', '95.98', '50.22', '63.78', '87.78', '102.24', '113.19', '68.56', '65.56', '217.86', '58.96', '67.38', '73.65', '43.10', '76.65', '117.34', '98.03', '85.39', '125.38', '72.63', '53.53', '71.49', '118.74', '60.58', '125.91', '98.73', '128.56', '150.46', '123.95', '70.86', '59.17', '72.18', '150.63', '73.95', '121.25', '66.12', '149.81', '71.45', '79.31', '147.31', '64.43', '107.33', '73.24', '-48.35', '48.35', '60.59', '117.11', '48.13', '84.08', '132.90', '109.78', '58.73', '114.51', '65.15', '-65.05', '66.01', '71.40', '75.40', '90.56', '116.94', '167.20', '85.28', '117.39', '56.56', '72.38', '68.78', '114.49', '98.00', '70.22', '74.23', '68.43', '58.75', '130.06', '64.15', '44.82', '60.54', '176.54', '44.54', '43.61', '74.91', '108.50', '52.07', '96.61', '77.93', '85.08', '63.59', '54.52', '23.43', '69.27', '54.04', '73.77', '71.29', '59.52', '98.33', '120.19', '68.11', '71.92', '121.83', '-74.15', '60.90', '74.71', '119.82', '70.75', '-55.30', '71.46', '109.83', '82.42', '127.90', '56.73', '62.63', '74.72', '87.26', '61.87', '70.26', '95.20', '69.22', '52.32', '66.93', '58.19', '70.93', '103.38', '44.60', '81.99', '50.78', '91.08', '83.91', '66.68', '58.57', '119.63', '53.60', '44.69', '87.74', '79.87', '83.12', '137.70', '109.44', '89.14', '110.06', '67.94', '154.32', '63.56', '139.82', '41.30', '91.49', '56.16', '85.98', '71.65', '174.51', '61.90', '126.20', '162.70', '118.02', '66.37', '65.32', '66.45', '194.44', '144.00', '75.50', '60.70', '58.53', '64.98', '67.46', '86.09', '122.91', '67.12', '75.27', '62.43', '108.22', '63.86', '185.82', '190.86', '53.56', '71.64', '77.96', '111.26', '124.66', '78.07', '96.86', '118.89', '110.02', '87.23', '95.16', '-59.05', '86.73', '121.98', '120.42', '121.02', '99.87', '94.76', '112.38', '-55.05', '33.55', '70.56', '44.76', '78.94', '165.89', '184.92', '48.09', '73.40', '84.38', '115.62', '65.34', '55.98', '71.59', '81.79', '136.94', '65.58', '66.21', '110.93', '33.05', '65.70', '168.12', '120.22', '107.70', '61.15', '71.06', '121.15', '86.34', '62.02', '43.44', '99.61', '81.59', '71.51', '115.92', '87.33', '86.02', '65.50', '58.89', '71.62', '59.48', '54.09', '71.18', '117.53', '85.46', '95.39', '80.84', '47.10', '105.90', '55.02', '87.98', '75.67', '54.81', '-98.55', '41.00', '53.85', '-57.55', '84.99', '117.07', '113.57', '68.18', '70.23', '153.11', '75.62', '96.59', '67.71', '76.72', '132.70', '68.75', '72.24', '71.70', '59.40', '74.52', '73.43', '70.25', '74.41', '5.16', '157.87', '94.51', '74.96', '186.71', '38.10', '-72.55', '58.77', '87.44', '44.81', '121.06', '68.95', '87.07', '82.21', '53.06', '119.22', '115.98', '118.37', '82.51', '85.48', '61.95', '114.61', '79.17', '74.47', '84.86', '95.77', '70.11', '52.11', '-65.35', '77.52', '82.89', '106.54', '-60.30', '62.32', '112.16', '75.49', '70.59', '-66.60', '76.83', '62.48', '58.62', '-65.60', '77.94', '93.11', '84.20', '70.09', '54.34', '56.52', '65.62', '78.21', '114.96', '124.12', '72.82', '63.40', '116.16', '120.78', '81.20', '59.84', '74.69', '69.34', '105.82', '66.98', '-61.80', '46.60', '110.69', '73.96', '91.52', '52.62', '119.69', '78.73', '71.07', '69.66', '77.20', '97.38', '71.86', '133.84', '138.78', '46.01', '72.20', '126.52', '67.31', '73.39', '76.34', '65.18', '51.97', '54.97', '77.09', '152.15', '53.77', '79.57', '80.01', '97.37', '103.24', '65.65', '73.89', '79.09', '113.70', '65.90', '88.36', '92.98', '65.45', '126.70', '121.44', '127.45', '78.89', '60.65', '117.62', '116.45', '70.68', '90.79', '62.86', '112.18', '90.48', '64.96', '111.76', '75.08', '77.59', '50.46', '77.12', '171.31', '83.34', '76.19', '97.84', '80.58', '64.92', '72.29', '81.03', '82.79', '66.16', '57.29', '71.04', '45.06', '71.97', '95.54', '206.57', '70.43', '123.19', '85.95', '115.77', '101.71', '85.44', '103.48', '77.26', '176.19', '65.04', '116.31', '66.76', '111.25', '86.43', '72.67', '82.31', '113.67', '130.71', '163.32', '-64.85', '117.18', '86.89', '56.57', '69.89', '58.37', '65.57', '62.57', '61.98', '60.99', '59.46', '160.40', '63.77', '48.36', '89.07', '68.76', '65.52', '72.22', '70.03', '41.10', '51.74', '91.48', '107.24', '-80.05', '76.48', '59.42', '66.18', '50.53', '71.08', '147.20', '-58.55', '79.97', '89.88', '64.36', '83.98', '68.51', '87.77', '110.56', '77.64', '51.47', '48.93', '85.04', '-58.05', '63.21', '104.98', '82.63', '89.56', '84.79', '103.23', '61.28', '119.14', '84.98', '82.83', '47.25', '55.28', '42.85', '75.92', '92.92', '138.84', '65.47', '76.77', '59.16', '62.40', '63.99', '-60.05', '61.96', '63.25', '78.25', '68.45', '150.21', '123.24', '84.83', '81.74', '91.16', '192.17', '-64.60', '98.18', '241.68', '113.16', '111.78', '64.41', '145.61', '-62.55', '79.76', '231.72', '56.65', '88.87', '114.88', '51.00', '67.19', '51.98', '71.94', '188.57', '80.34', '83.37', '100.89', '62.97', '106.37', '65.09', '104.94', '93.63', '48.19', '126.49', '113.08', '70.32', '90.93', '74.57', '74.84', '96.69', '-51.30', '98.98', '160.75', '74.93', '74.89', '94.11', '44.36', '44.16', '78.11', '101.31', '83.32', '115.38', '67.40', '93.91', '71.99', '69.37', '99.84', '77.66', '58.25', '106.90', '79.36', '122.45', '100.58', '64.45', '139.40', '82.09', '74.17', '99.24', '58.65', '66.75', '-45.49', '73.79', '99.20', '61.59', '41.16', '89.34', '111.21', '121.09', '87.69', '79.16', '43.50', '114.71', '83.71', '108.19', '119.19', '69.73', '90.27', '63.73', '95.42', '56.10', '123.96', '122.94', '220.67', '94.04', '74.79', '95.95', '65.61', '172.61', '63.68', '88.76', '51.39', '54.39', '77.22', '109.14', '94.06', '59.12', '59.90', '78.69', '83.54', '109.58', '98.78', '69.84', '68.71', '87.86', '59.37', '18.10', '85.18', '73.99', '79.74', '112.98', '85.33', '102.36', '66.58', '78.39', '-42.60', '42.60', '83.96', '56.14', '58.84', '96.67', '81.17', '66.32', '90.39', '69.19', '71.31', '66.96', '70.99', '62.94', '76.37', '77.72', '85.64', '94.84', '64.42', '63.89', '60.29', '87.37', '108.16', '102.64', '64.13', '66.91', '102.28', '12.44', '54.19', '87.01', '69.87', '94.17', '88.24', '75.46', '85.58', '40.74', '90.87', '-64.10', '71.48', '111.54', '94.34', '87.21', '91.57', '56.32', '71.83', '-77.40', '122.75', '113.90', '76.95', '69.15', '62.88', '65.08', '118.69', '177.77', '70.38', '156.08', '162.06', '75.12', '92.63', '50.87', '63.38', '138.98', '100.03', '108.69', '74.68', '65.92', '51.79', '77.36', '80.59', '91.73', '84.58', '57.77', '13.02', '-59.55', '109.95', '57.74', '108.27', '63.14', '81.78', '80.12', '57.14', '118.58', '52.95', '75.14', '74.94', '64.31', '80.48', '147.91', '51.13', '68.93', '49.93', '76.82', '53.52', '107.36', '55.91', '78.98', '40.80', '41.41', '57.63', '99.26', '166.45', '-60.80', '66.67', '90.71', '36.71', '40.01', '65.95', '79.45', '75.32', '72.88', '58.13', '78.42', '52.28', '50.48', '88.37', '73.52', '60.95', '124.63', '120.97', '182.78', '162.30', '64.66', '81.69', '63.93', '70.58', '122.57', '110.53', '139.86', '59.93', '64.90', '88.68', '111.86', '92.24', '402.36', '123.08', '91.04', '76.29', '73.49', '110.94', '72.68', '61.22', '87.61', '-63.60', '100.97', '66.14', '98.93', '51.49', '94.77', '56.69', '66.40', '69.98', '101.14', '89.86', '41.46', '76.89', '76.11', '111.50', '55.38', '37.05', '90.94', '77.71', '72.84', '-57.05', '-65.10', '88.98', '108.90', '66.90', '104.95', '-130.60', '76.97', '48.50', '86.68', '102.98', '45.00', '79.08', '95.56', '61.21', '76.03', '78.32', '83.14', '111.97', '53.82', '67.51', '109.52', '79.82', '56.75', '107.75', '68.53', '64.20', '58.24', '122.06', '-68.35', '50.32', '110.91', '45.66', '84.59', '63.52', '58.12', '115.74', '112.88', '35.00', '36.55', '-111.55', '53.30', '116.67', '60.50', '66.63', '84.61', '78.49', '79.06', '95.19', '114.75', '49.86', '86.44', '63.46', '34.87', '76.84', '62.65', '64.46', '93.86', '129.36', '45.10', '122.76', '74.27', '54.87', '88.91', '96.08', '74.83', '65.41', '62.04', '72.33', '72.45', '50.82', '83.68', '67.02', '84.46', '66.15', '95.83', '99.94', '80.93', '65.19', '110.92', '86.61', '98.88', '125.00', '98.38', '99.04', '92.02', '105.34', '110.75', '18.89', '110.43', '84.49', '76.75', '81.68', '65.07', '79.34', '72.62', '86.28', '73.84', '85.96', '72.64', '64.21', '87.83', '81.50', '60.72', '84.02', '91.24', '65.39', '121.14', '83.31', '44.93', '81.67', '86.86', '63.94', '72.93', '46.23', '86.39', '51.69', '30.55', '104.18', '90.62', '63.91', '69.81', '54.06', '113.17', '87.58', '78.04', '114.44', '41.60', '60.62', '130.13', '59.20', '41.52', '87.73', '55.69', '83.66', '54.26', '72.58', '111.49', '72.91', '37.30', '129.41', '94.48', '47.60', '83.72', '110.66', '110.57', '80.77', '165.60', '60.25', '127.84', '42.87', '132.18', '69.44', '61.43', '86.97', '90.45', '77.83', '96.99', '73.71', '110.58', '54.82', '90.97', '111.18', '132.06', '-62.10', '-55.55', '63.82', '68.92', '106.59', '114.18', '110.34', '72.17', '80.73', '60.16', '53.01', '74.61', '112.95', '57.21', '51.36', '112.20', '114.54', '-63.30', '96.28', '-101.55', '72.77', '95.66', '60.18', '83.79', '83.59', '94.33', '68.41', '-56.05', '55.96', '89.74', '82.96', '96.82', '62.76', '67.29', '43.47', '106.91', '-84.05', '124.44', '112.74', '127.38', '78.46', '54.14', '83.63', '90.18', '136.08', '103.13', '49.67', '76.69', '42.10', '58.33', '87.75', '70.95', '70.91', '86.67', '-62.60', '75.34', '79.53', '62.68', '76.42', '105.63', '74.49', '78.09', '53.12', '73.28', '89.67', '106.84', '43.56', '64.65', '149.60', '87.16', '71.95', '65.42', '70.04', '134.29', '64.56', '71.28', '107.82', '195.36', '73.02', '112.64', '139.12', '98.14', '146.97', '73.62', '89.69', '84.03', '88.69', '112.14', '92.13', '69.49', '43.80', '49.02', '75.86', '-134.55', '81.61', '82.19', '125.44', '57.01', '70.81', '78.01', '76.81', '57.13', '122.50', '72.95', '66.81', '77.91', '82.76', '87.67', '64.18', '142.32', '8.84', '45.96', '71.53', '84.77', '86.03', '112.43', '45.15', '87.39', '65.23', '62.50', '88.54', '104.57', '31.05', '68.37', '70.40', '67.20', '61.94', '81.91', '50.16', '56.95', '71.52', '70.63', '107.95', '109.08', '51.81', '65.94', '106.45', '82.74', '81.73', '96.04', '110.99', '72.26', '70.34', '86.64', '-66.55', '46.35', '85.43', '76.06', '85.29', '76.47', '83.89', '61.20', '65.06', '67.95', '69.18', '103.91', '92.88', '100.78', '91.82', '84.39', '75.31', '84.92', '138.00', '81.54', '69.03', '69.74', '89.48', '61.18', '73.32', '-110.05', '62.15', '70.54', '50.27', '84.29', '72.78', '172.84', '76.98', '60.78', '51.62', '86.33', '99.77', '156.06', '56.22', '85.88', '72.54', '94.21', '81.64', '77.61', '77.43', '71.24', '75.04', '125.76', '154.15', '106.19', '69.51', '108.72', '7.05', '66.22', '49.62', '74.50', '98.69', '64.63', '68.19', '72.49', '67.66', '71.72', '79.14', '23.95', '68.31', '66.48', '72.16', '60.82', '114.94', '-41.60', '83.64', '70.79', '61.69', '-56.10', '112.51', '71.79', '111.39', '57.08', '88.66', '40.03', '106.63', '92.91', '78.68', '88.06', '62.26', '102.77', '79.91', '72.53', '107.58', '-88.10', '95.78', '81.49', '104.23', '62.41', '67.88', '61.65', '49.07', '82.22', '83.06', '112.47', '96.81', '105.74', '92.09', '77.86', '82.17', '103.20', '40.85', '91.96', '65.93', '44.27', '70.24', '108.13', '109.74', '116.65', '66.13', '53.16', '102.90', '76.38', '162.44', '67.54', '59.68', '68.86', '97.18', '90.81', '63.07', '67.53', '-53.10', '55.46', '108.98', '62.73', '37.60', '56.04', '55.56', '67.64', '96.21', '113.58', '68.07', '76.50', '28.99', '100.49', '65.97', '67.92', '85.97', '63.09', '111.81', '116.58', '105.99', '102.09', '112.04', '60.14', '83.73', '67.90', '94.53', '87.03', '40.10', '44.85', '77.88', '74.43', '22.05', '58.16', '91.46', '65.12', '55.09', '56.70', '105.62', '99.37', '59.18', '109.00', '74.08', '81.34', '78.92', '79.29', '140.51', '47.61', '82.06', '84.33', '82.71', '58.31', '50.52', '52.94', '60.20', '88.12', '96.91', '91.29', '39.41', '74.14', '77.49', '64.37', '83.51', '-0.80', '0.80', '111.87', '44.12', '37.49', '79.21', '87.11', '-59.80', '60.67', '62.47', '79.88', '122.88', '70.39', '99.53', '79.47', '71.82', '92.17', '43.60', '97.06', '94.93', '97.78', '91.03', '114.14', '80.57', '131.44', '68.98', '88.99', '37.80', '81.53', '98.32', '58.43', '50.43', '133.63', '64.82', '47.42', '51.01', '52.21', '71.19', '82.23', '97.16', '107.15', '60.42', '65.48', '77.28', '24.60', '63.95', '65.20', '76.09', '85.20', '64.25', '-64.35', '70.84', '154.62', '42.96', '92.48', '-60.10', '41.80', '66.94', '112.15', '110.89', '129.11', '102.13', '124.09', '116.69', '82.14', '101.26', '1.83', '82.18', '94.88', '99.59', '79.99', '64.14', '90.49', '55.74', '104.96', '77.34', '70.07', '127.88', '48.42', '92.69', '54.42', '87.04', '72.09', '80.09', '83.03', '72.01', '78.37', '58.63', '39.10', '105.93', '76.44', '49.71', '94.43', '46.71', '87.63', '83.39', '94.14', '64.69', '135.90', '-65.85', '71.23', '69.20', '65.89', '60.68', '49.09', '68.29', '74.33', '115.94', '103.69', '86.04', '81.46', '112.87', '56.33', '104.51', '75.53', '66.95', '111.89', '94.20', '69.13', '109.46', '8.00', '60.56', '55.65', '74.82', '67.06', '37.79', '110.96', '85.79', '86.23', '52.03', '37.01', '65.73', '74.34', '47.22', '84.27', '76.33', '107.09', '108.49', '88.97', '138.71', '90.03', '45.99', '80.54', '113.29', '56.66', '77.06', '62.07', '106.66', '92.39', '51.58', '85.68', '50.15', '53.15', '60.33', '48.44', '50.44', '80.66', '70.96', '112.65', '115.36', '56.41', '103.63', '72.50', '60.73', '71.03', '84.17', '80.26', '84.74', '81.56', '97.66', '85.66', '58.02', '90.23', '97.98', '90.64', '53.70', '63.06', '77.84', '81.39', '75.59', '101.83', '51.90', '40.56', '39.16', '64.44', '67.42', '86.18', '73.88', '67.77', '74.98', '52.79', '38.78', '75.26', '81.26', '52.47', '62.13', '83.77', '66.79', '102.89', '59.36', '75.68', '90.22', '63.23', '98.97', '50.66', '68.61', '86.49', '113.25', '70.77', '90.67', '83.09', '86.59', '135.27', '92.97', '81.32', '68.02', '54.83', '44.88', '71.33', '77.99', '78.53', '78.23', '56.01', '101.88', '113.06', '109.39', '90.54', '73.94', '86.92', '77.29', '113.11', '72.61', '-2.80', '2.80', '101.12', '108.14', '127.40', '104.11', '107.69', '79.51', '90.01', '58.98', '92.77', '76.12', '101.37', '50.58', '90.57', '41.75', '72.81', '57.65', '66.27', '66.31', '88.39', '77.07', '71.56', '83.48', '72.83', '68.97', '-54.55', '106.14', '85.42', '82.70', '50.56', '63.84', '77.01', '107.13', '81.04', '91.37', '73.33', '48.14', '-94.95', '-84.55', '72.59', '86.07', '80.38', '67.18', '61.46', '100.50', '106.04', '77.44', '67.75', '46.07', '43.67', '66.39', '101.54', '51.71', '-59.35', '86.98', '73.54', '37.50', '56.49', '57.69', '87.32', '77.67', '62.18', '62.59', '-44.69', '77.18', '55.89', '73.23', '72.19', '56.06', '46.56', '104.02', '84.09', '70.66', '72.94', '110.62', '103.27', '71.27', '127.79', '84.16', '55.86', '93.68', '90.88', '103.43', '60.04', '80.13', '89.72', '44.73', '38.81', '57.04', '9.45', '100.57', '53.17', '114.21', '89.39', '114.26', '120.58', '112.94', '89.83', '135.38', '91.76', '59.61', '59.41', '72.52', '48.61', '114.34', '46.03', '68.59', '62.71', '51.32', '46.31', '81.81', '60.07', '81.88', '83.28', '55.39', '98.96', '114.07', '69.83', '68.67', '83.18', '55.15', '77.42', '107.31', '40.48', '47.34', '87.92', '52.74', '77.24', '46.74', '66.54', '83.69', '76.21', '-50.73', '112.58', '55.14', '107.96', '191.28', '74.53', '62.33', '70.82', '79.28', '55.47', '54.16', '68.91', '36.30', '-54.33', '86.79', '90.24', '89.71', '73.17', '118.71', '79.49', '40.11', '7.30', '32.55', '304.30', '88.34', '114.28', '75.51', '69.21', '79.27', '112.08', '61.66', '99.18', '106.48', '78.13', '82.36', '142.42', '59.15', '88.22', '65.86', '81.44', '39.50', '68.01', '48.47', '88.57', '81.92', '65.37', '65.02', '59.23', '66.29', '99.64', '76.63', '48.66', '144.88', '65.69', '55.18', '60.43', '103.14', '116.34', '57.81', '-58.35', '70.08', '101.34', '60.38', '81.87', '84.14', '91.23', '35.30', '61.75', '87.22', '83.88', '60.64', '82.39', '81.28', '94.98', '94.16', '68.94', '101.62', '123.63', '56.61', '59.64', '58.15', '72.76', '78.91', '-51.55', '139.49', '52.34', '86.17', '109.13', '48.37', '75.02', '48.97', '60.17', '30.00', '110.39', '71.54', '36.85', '64.81', '63.28', '50.75', '111.22', '64.54', '98.44', '87.34', '76.78', '60.96', '53.72', '91.33', '84.69', '97.50', '89.51', '91.81', '48.51', '-61.10', '50.73', '80.18', '173.76', '-63.85', '107.17', '80.91', '89.96', '111.64', '71.11', '59.11', '109.79', '61.74', '97.29', '79.66', '39.85', '93.52', '94.72', '70.36', '80.39', '44.46', '51.12', '99.68', '74.09', '68.54', '30.38', '78.51', '77.58', '41.62', '60.87', '48.12', '86.63', '60.86', '105.56', '51.85', '95.09', '112.91', '62.72', '73.29', '83.97', '84.23', '71.38', '67.44', '51.86', '74.37', '87.18', '71.34', '74.01', '70.41', '125.65', '49.28', '99.69', '-85.00', '41.35', '92.57', '83.83', '10.00', '60.13', '57.38', '64.99', '60.49', '42.25', '59.19', '66.08', '96.68', '67.04', '87.08', '46.85', '61.37', '60.40', '61.53', '69.31', '55.03', '75.07', '93.37', '64.06', '61.34', '86.13', '81.58', '61.47', '59.65', '113.04', '58.69', '101.39', '108.56', '82.77', '108.62', '92.71', '106.50', '48.70', '78.33', '106.89', '70.12', '45.70', '114.19', '102.71', '83.08', '45.09', '54.08', '59.01', '61.91', '86.12', '69.82', '57.90', '90.61', '103.37', '88.44', '63.67', '108.77', '74.64', '68.26', '110.90', '119.99', '81.52', '80.02', '205.90', '75.78', '106.44', '80.71', '67.11', '108.28', '59.50', '112.79', '89.41', '71.09', '96.02', '101.04', '88.83', '93.51', '39.36', '69.32', '85.24', '94.69', '48.02', '67.78', '61.89', '-61.60', '113.31', '87.71', '114.02', '102.82', '99.39', '87.14', '88.03', '92.79', '67.39', '92.83', '80.63', '80.36', '50.37', '44.98', '97.04', '19.67', '45.86', '44.44', '62.37', '22.07', '92.49', '34.80', '102.11', '66.64', '79.20', '42.00', '25.55', '47.87', '363.10', '82.93', '111.40', '71.96', '65.01', '57.11', '102.84', '72.74', '47.91', '67.13', '63.92', '67.82', '99.09', '62.92', '79.38', '74.39', '119.31', '69.43', '96.53', '57.75', '52.65', '45.71', '59.63', '-52.05', '82.20', '119.39', '98.54', '68.89', '59.66', '75.19', '54.65', '44.38', '79.42', '59.94', '71.74', '94.96', '40.60', '72.79', '64.87', '95.97', '81.29', '115.20', '65.33', '80.49', '81.01', '21.30', '109.06', '129.32', '79.71', '62.23', '100.11', '85.52', '84.87', '72.07', '120.07', '60.63', '64.17', '72.92', '-41.05', '47.27', '37.61', '60.51', '27.00', '58.82', '61.25', '-41.80', '96.63', '-80.67', '85.81', '77.02', '75.93', '60.39', '44.71', '80.68', '54.66', '56.58', '73.59', '104.70', '68.38', '-41.35', '53.18', '89.02', '-77.80', '56.71', '66.23', '56.77', '105.16', '47.18', '52.57', '63.26', '15.53', '74.38', '93.83', '70.71', '49.11', '73.47', '76.20', '57.50', '98.39', '39.60', '107.34', '52.92', '99.02', '77.48', '56.74', '45.34', '68.62', '88.14', '109.43', '86.83', '109.88', '65.99', '47.72', '44.13', '31.02', '104.12', '-69.35', '50.71', '102.86', '51.91', '-44.24', '65.91', '53.09', '85.71', '72.43', '86.26', '68.36', '59.25', '81.83', '68.66', '48.88', '74.58', '104.59', '48.28', '47.68', '77.32', '71.43', '-59.60', '93.28', '88.96', '49.92', '105.71', '44.06', '100.70', '44.66', '49.04', '50.76', '61.54', '80.47', '49.45', '49.00', '73.97', '58.71', '25.00', '96.13', '416.05', '63.16', '37.28', '-39.73', '47.03', '59.03', '64.39', '83.13', '98.02', '96.84', '107.44', '39.65', '47.02', '74.56', '46.42', '38.79', '45.82', '108.84', '78.59', '88.04', '103.57', '79.11', '142.31', '66.74', '73.78', '89.78', '82.43', '61.16', '108.88', '102.57', '50.40', '103.06', '75.28', '52.38', '75.84', '80.19', '75.63', '97.40', '31.80', '86.36', '101.73', '73.57', '88.72', '54.72', '-69.65', '89.58', '84.94', '76.57', '77.39', '69.01', '90.86', '55.11', '46.54', '101.40', '102.43', '56.54', '79.52', '73.38', '169.61', '99.88', '58.52', '116.44', '52.72', '-79.05', '90.59', '102.63', '53.71', '73.34', '80.72', '70.31', '111.27', '-58.60', '74.26', '20.05', '85.51', '7.50', '50.45', '78.52', '64.70', '98.58', '56.45', '86.40', '53.57', '108.18', '113.39', '47.49', '76.36', '96.97', '74.73', '-91.55', '67.03', '46.67', '101.33', '74.48', '43.24', '97.54', '62.49', '113.32', '90.84', '75.91', '48.67', '-63.80', '38.01', '71.91', '-88.55', '70.88', '60.94', '49.25', '92.72', '101.01', '85.57', '63.01', '54.74', '55.92', '87.27', '32.05', '95.43', '64.71', '61.82', '76.14', '92.36', '99.23', '90.46', '140.28', '44.40', '47.99', '104.58', '108.25', '-51.05', '149.76', '117.03', '46.79', '76.46', '72.44', '154.28', '66.09', '107.42', '46.78', '75.87', '51.59', '108.20', '63.81', '74.42', '70.52', '58.18', '72.27', '165.28', '14.06', '57.18', '97.96', '-57.10', '74.07', '52.58', '11.10', '79.58', '85.11', '54.07', '373.42', '88.16', '47.36', '39.75', '-143.18', '143.18', '79.96', '-54.30', '62.34', '84.68', '45.53', '52.15', '105.24', '83.53', '77.54', '46.14', '54.46', '72.34', '48.53', '107.88', '129.43', '50.93', '46.13', '77.79', '66.52', '111.29', '50.31', '47.31', '92.28', '89.64', '46.11', '74.67', '145.62', '107.51', '68.06', '76.49', '62.56', '53.90', '113.03', '121.37', '58.09', '77.77', '80.08', '81.08', '81.23', '48.48', '51.56', '53.75', '61.09', '41.08', '49.26', '49.82', '63.44', '124.29', '53.86', '55.08', '48.56', '95.41', '-50.55', '69.64', '50.26', '78.31', '65.13', '63.62', '70.47', '68.33', '42.59', '41.63', '39.68', '66.86', '96.54', '64.83', '111.70', '114.50', '116.29', '101.75', '113.82', '53.11', '51.07', '47.23', '79.46', '59.89', '96.38', '14.05', '49.63', '64.40', '82.53', '75.13', '86.47', '100.20', '82.59', '64.16', '39.81', '86.99', '78.27', '74.18', '106.74', '76.79', '73.06', '108.87', '100.19', '62.19', '94.23', '36.91', '58.88', '43.59', '100.27', '57.94', '121.23', '66.03', '73.76', '98.51', '93.09', '38.60', '81.93', '-66.30', '98.04', '117.12', '100.64', '75.88', '57.34', '120.56', '82.99', '44.19', '88.46', '59.09', '102.97', '54.93', '82.13', '92.89', '104.29', '105.03', '54.31', '104.38', '78.14', '63.24', '65.40', '54.90', '103.04', '42.32', '60.31', '50.70', '87.79', '88.43', '67.97', '109.15', '74.13', '59.98', '40.82', '58.78', '80.79', '48.86', '61.50', '-45.76', '48.26', '-40.55', '50.86', '59.73', '55.50', '68.70', '68.73', '78.17', '109.18', '83.62', '84.78', '72.23', '50.07', '-85.61', '84.54', '59.02', '51.22', '73.64', '48.81', '44.99', '54.62', '77.62', '88.27', '-5.05', '44.62', '68.34', '66.38', '51.82', '89.54', '47.01', '108.40', '64.58', '-41.09', '-190.30', '89.97', '117.84', '138.17', '81.07', '46.99', '43.39', '57.43', '101.19', '36.39', '102.61', '86.53', '39.12', '47.57', '74.62', '106.76', '49.32', '57.62', '137.76', '88.17', '81.86', '90.02', '-84.99', '66.46', '99.08', '18.36', '90.52', '45.45', '-55.85', '79.73', '82.66', '126.13', '58.20', '83.38', '-59.85', '75.94', '102.75', '84.56', '107.12', '39.96', '145.26', '133.81', '91.87', '88.77', '64.53', '45.72', '52.06', '44.52', '77.51', '69.29', '62.93', '119.56', '89.13', '92.73', '100.53', '102.54', '71.78', '163.51', '87.59', '60.93', '68.28', '64.74', '452.80', '73.53', '92.12', '52.86', '103.99', '50.47', '58.59', '73.58', '74.51', '59.44', '108.03', '47.82', '75.29', '107.32', '109.59', '81.43', '-85.81', '95.14', '85.84', '74.78', '128.00', '73.72', '47.51', '52.82', '96.77', '82.97', '45.24', '100.48', '171.86', '101.18', '114.04', '65.98', '89.29', '73.42', '104.14', '46.69', '106.36', '103.18', '-89.80', '52.19', '95.94', '100.43', '-60.35', '101.59', '47.38', '97.53', '-50.05', '114.13', '56.96', '109.38', '59.34', '46.75', '50.34', '37.40', '80.07', '90.91', '93.26', '50.57', '98.79', '25.49', '70.48', '20.17', '80.28', '51.54', '63.53', '79.63', '30.77', '74.63', '62.29', '85.03', '69.17', '61.73', '60.46', '35.44', '40.50', '47.90', '101.28', '69.16', '95.96', '79.94', '65.66', '63.02', '83.36', '49.69', '100.33', '87.38', '172.31', '95.59', '93.93', '77.47', '23.05', '111.03', '92.53', '64.03', '87.84', '68.47', '55.70', '117.78', '20.16', '80.74', '96.75', '73.03', '117.02', '45.47', '84.11', '43.02', '80.92', '64.29', '71.47', '61.64', '81.77', '-67.61', '41.85', '44.87', '47.84', '69.77', '36.93', '124.42', '-78.86', '87.24', '109.37', '105.50', '88.63', '75.83', '98.92', '75.77', '95.63', '49.59', '-63.65', '88.89', '86.70', '44.18', '43.62', '57.26', '99.51', '54.51', '94.47', '70.42', '128.38', '98.94', '98.86', '59.14', '58.27', '47.13', '-76.35', '48.99', '56.13', '75.22', '-57.60', '99.34', '106.88', '82.50', '85.63', '57.95', '98.70', '49.52', '35.70', '74.24', '50.72', '61.49', '37.88', '115.95', '47.94', '122.13', '72.46', '188.80', '33.35', '-60.85', '65.96', '42.89', '101.07', '64.50', '33.80', '53.31', '89.66', '116.03', '41.36', '29.82', '64.77', '78.97', '61.31', '153.42', '38.16', '93.49', '51.87', '105.97', '66.87', '106.02', '48.85', '54.38', '104.20', '35.81', '47.04', '81.98', '89.99', '103.44', '40.33', '54.24', '49.44', '44.64', '106.70', '82.69', '-53.08', '81.21', '92.18', '69.14', '50.41', '81.27', '54.21', '93.13', '101.48', '110.70', '44.80', '-49.55', '82.72', '86.41', '52.45', '-66.85', '8.55', '68.58', '93.03', '57.19', '56.90', '57.17', '56.34', '95.86', '96.57', '69.33', '54.76', '-47.88', '69.46', '49.34', '59.53', '53.42', '96.79', '98.34', '48.73', '30.05', '139.33', '61.36', '43.93', '103.40', '99.54', '104.61', '100.59', '47.45', '60.91', '75.89', '79.43', '112.81', '52.89', '43.29', '43.90', '45.42', '53.93', '70.29', '52.29', '58.47', '54.50', '89.61', '68.49', '61.29', '51.08', '47.46', '56.47', '52.26', '61.24', '42.66', '43.73', '42.67', '87.57', '43.86', '43.26', '43.27', '66.07', '107.66', '83.92', '93.69', '94.79', '114.16', '85.59', '124.95', '152.45', '4.80', '107.84', '107.90', '52.84', '55.57', '50.06', '100.08', '143.46', '-49.30', '45.84', '20.89', '67.22', '46.21', '77.38', '59.92', '58.21', '105.84', '-33.80', '98.06', '100.28', '52.20', '74.59', '-54.80', '108.78', '52.49', '-56.80', '72.89', '85.27', '47.19', '-66.72', '40.93', '99.63', '93.14', '47.96', '-49.09', '72.28', '82.12', '35.21', '53.41', '89.43', '97.21', '76.13', '-61.55', '51.88', '54.53', '74.32', '94.42', '63.03', '79.95', '47.92', '43.72', '53.91', '53.32', '88.42', '58.94', '45.90', '103.51', '93.73', '74.06', '61.44', '86.66', '61.68', '-49.05', '38.54', '46.09', '101.41', '67.43', '43.68', '45.43', '54.59', '91.18', '55.48', '75.39', '100.04', '81.82', '49.66', '76.16', '81.02', '33.83', '95.08', '102.91', '49.65', '88.18', '52.64', '86.54', '108.71', '100.09', '119.70', '98.83', '82.47', '47.07', '94.18', '146.31', '60.19', '66.82', '59.13', '79.48', '48.38', '105.29', '32.80', '98.17', '100.46', '90.73', '65.77', '61.51', '45.98', '80.99', '52.91', '45.97', '37.72', '71.63', '-74.35', '55.58', '51.15', '131.63', '104.48', '104.88', '96.19', '82.91', '63.74', '79.54', '54.25', '44.22', '42.31', '13.35', '97.74', '79.89', '53.73', '105.07', '40.78', '47.74', '101.72', '58.38', '49.95', '46.02', '72.02', '81.24', '27.80', '35.76', '55.83', '64.23', '73.46', '113.28', '-48.55', '78.62', '194.57', '54.28', '53.68', '60.88', '100.36', '77.53', '60.77', '102.08', '155.20', '88.59', '78.16', '48.27', '59.07', '-85.30', '41.06', '-63.35', '62.69', '98.59', '102.46', '59.99', '33.31', '42.86', '117.75', '112.19', '99.32', '75.61', '66.99', '54.84', '46.45', '63.54', '51.23', '-65.90', '63.87', '-36.80', '36.80', '52.50', '37.56', '66.02', '96.34', '63.33', '43.40', '96.49', '47.20', '44.59', '48.63', '66.78', '87.13', '78.03', '49.37', '84.18', '52.37', '107.71', '52.36', '43.97', '158.57', '70.83', '98.29', '43.36', '78.38', '45.73', '83.57', '64.33', '44.15', '85.19', '101.67', '59.43', '50.51', '87.68', '92.99', '96.45', '66.71', '58.29', '51.09', '116.11', '43.89', '114.68', '-57.85', '57.64', '84.04', '63.39', '123.45', '68.74', '56.42', '31.85', '60.48', '64.76', '60.27', '46.86', '75.16', '48.65', '45.65', '54.70', '62.51', '67.23', '105.17', '100.41', '57.02', '45.50', '53.25', '40.18', '61.81', '41.40', '54.61', '-142.80', '44.07', '101.78', '58.79', '72.37', '104.28', '50.98', '-80.00', '-74.24', '55.76', '46.17', '149.34', '-54.60', '50.50', '98.11', '53.07', '48.92', '61.97', '109.72', '63.45', '159.05', '69.53', '106.72', '54.40', '52.35', '70.28', '-64.90', '105.64', '138.36', '90.16', '97.45', '51.44', '41.27', '51.50', '56.29', '56.28', '58.42', '94.83', '89.09', '97.24', '88.28', '71.17', '35.78', '98.53', '66.11', '-68.85', '46.32', '56.43', '97.59', '80.97', '101.47', '122.20', '-47.55', '96.78', '68.83', '192.53', '61.84', '73.31', '126.15', '48.18', '73.45', '40.43', '50.02', '46.58', '88.58', '111.52', '129.25', '41.19', '100.99', '101.02', '49.54', '90.68', '49.14', '73.27', '53.14', '17.50', '45.02', '57.84', '77.95', '92.03', '111.68', '89.79', '44.39', '95.74', '27.05', '45.33', '48.75', '75.64', '-36.55', '50.36', '98.63', '96.26', '79.39', '62.52', '62.53', '56.88', '52.75', '51.04', '56.50', '26.06', '48.87', '58.48', '51.95', '54.86', '39.25', '96.32', '92.70', '48.17', '58.45', '41.89', '34.61', '85.99', '97.58', '-40.60', '48.83', '58.44', '50.63', '53.61', '39.35', '36.41', '60.71', '54.63', '63.72', '62.58', '49.98', '42.63', '119.97', '102.26', '40.68', '53.59', '58.39', '51.78', '154.19', '49.50', '70.49', '-50.80', '58.14', '51.43', '60.24', '28.05', '75.54', '-48.05', '-35.41', '-49.48', '54.29', '51.75', '96.83', '39.15', '54.68', '57.44', '-46.30', '54.73', '103.29', '46.06', '71.88', '148.26', '100.95', '98.49', '28.55', '50.97', '62.90', '37.00', '63.83', '44.20', '60.79', '52.90', '48.54', '39.01', '59.59', '48.68', '60.89', '101.92', '96.92', '57.32', '96.37', '37.86', '60.11', '54.71', '47.26', '-290.80', '290.80', '49.75', '50.88', '79.83', '43.69', '66.84', '85.14', '49.20', '-69.40', '64.79', '64.34', '46.15', '57.93', '-71.35', '134.24', '60.57', '45.58', '96.23', '60.76', '63.70', '47.06', '56.97', '62.44', '120.74', '42.48', '46.16', '56.12', '49.15', '53.79', '-44.05', '88.64', '32.30', '42.35', '34.66', '61.14', '102.68', '35.16', '45.49', '46.70', '55.16', '96.43', '66.49', '38.76', '39.70', '49.06', '42.09', '57.91', '61.17', '41.26', '56.08', '55.95', '16.56', '71.26', '42.46', '40.66', '-54.10', '-50.30', '46.66', '44.86', '51.45', '86.57', '70.64', '119.43', '118.65', '99.82', '-40.05', '49.40', '129.44', '42.42', '96.89', '70.33', '56.99', '32.81', '86.48', '60.81', '66.34', '43.32', '57.86', '102.44', '42.47', '38.21', '96.14', '43.52', '52.96', '85.83', '47.17', '58.93', '94.74', '47.15', '60.74', '102.93', '-52.30', '46.52', '61.27', '51.76', '20.85', '54.23', '53.02', '49.48', '45.87', '43.07', '56.11', '36.82', '90.13', '51.24', '56.17', '106.53', '41.64', '-44.73', '51.21', '-79.35', '42.52', '117.21', '61.99', '99.52', '46.39', '47.59', '42.19', '19.53', '42.49', '56.53', '90.32', '45.77', '50.11', '15.60', '46.37', '42.17', '96.09', '44.56', '48.76', '57.76', '-55.35', '106.40', '53.92', '49.94', '110.28', '53.63', '98.01', '52.04', '53.58', '59.96', '51.48', '102.49', '54.49', '50.65', '77.19', '89.01', '44.67', '52.93', '47.53', '51.73', '52.77', '122.49', '37.85', '53.08', '46.27', '41.50', '47.65', '52.70', '51.70', '-42.30', '37.10', '102.01', '58.36', '47.52', '40.84', '56.94', '14.32', '34.74', '50.64', '47.50', '120.12', '58.11', '59.58', '49.29', '56.40', '46.81', '43.21', '46.65', '41.39', '38.85', '94.57', '56.18', '31.97', '35.65', '52.17', '46.77', '48.57', '54.57', '47.97', '45.57', '114.87', '53.97', '47.37', '-50.50', '92.19', '50.95', '49.73', '49.13', '51.52', '54.92', '56.92', '52.71', '48.04', '32.51', '40.81', '36.96', '47.29', '50.29', '46.08', '92.86', '35.10', '7.55', '58.70', '6.50', '8.75', '53.13', '31.00', '35.79', '44.26', '54.45', '49.87', '130.97', '64.19', '51.29', '134.52', '58.03', '76.27', '-28.55', '80.61', '42.82', '45.40', '42.12', '52.98', '35.42', '42.39', '50.77', '-77.85', '46.92', '55.49', '37.66', '97.71', '39.34', '140.76', '40.52', '-45.05', '-52.60', '48.91', '36.47', '-53.60', '-105.85', '37.24', '54.18', '31.78', '55.78', '32.56', '49.47', '50.67', '51.94', '43.45', '53.65', '19.58', '49.88', '39.86', '32.53', '51.93', '-48.80', '48.22', '43.46', '41.87', '92.08', '51.20', '58.99', '48.46', '54.99', '-56.60', '41.82', '58.95', '67.81', '58.54', '56.25', '79.33', '46.94', '66.83', '-53.85', '44.53', '46.50', '30.70', '42.72', '56.03', '128.11', '39.09', '75.25', '-53.35', '55.87', '96.76', '50.18', '52.14', '40.26', '80.64', '-38.69', '85.76', '46.84', '48.64', '50.19', '55.84', '56.44', '34.73', '137.57', '44.41', '45.61', '58.41', '-62.35', '43.78', '54.94', '56.37', '74.77', '54.69', '42.57', '44.37', '51.27', '40.67', '58.76', '28.44', '34.85', '-41.88', '72.08', '254.80', '42.64', '74.11', '21.53', '102.20', '63.37', '65.79', '163.46', '-44.30', '52.63', '54.44', '45.76', '49.79', '40.07', '50.28', '49.68', '63.49', '-53.80', '42.36', '47.63', '83.26', '50.83', '43.65', '-33.35', '56.89', '44.45', '32.16', '51.99', '47.77', '64.51', '31.64', '53.66', '111.11', '49.33', '159.66', '-102.05', '42.71', '57.97', '45.88', '297.18', '20.83', '53.37', '90.92', '48.15', '39.94', '43.53', '52.48', '52.54', '42.94', '36.60', '29.90', '-47.10', '51.31', '-54.85', '-19.05', '19.05', '100.82', '27.55', '43.49', '51.89', '61.19', '51.25', '50.68', '49.46', '48.95', '49.53', '-41.84', '52.43', '46.43', '95.62', '41.02', '42.83', '40.08', '146.80', '33.10', '47.62', '145.49', '17.06', '47.78', '-37.10', '87.54', '49.22', '-47.80', '36.77', '49.36', '49.97', '46.97', '37.25', '54.27', '32.77', '36.36', '43.31', '52.68', '36.40', '89.06', '59.54', '32.21', '43.76', '42.21', '19.80', '53.51', '-83.09', '41.51', '43.63', '71.41', '98.36', '64.59', '31.25', '48.07', '49.99', '39.42', '-46.80', '46.28', '120.37', '37.36', '46.25', '54.79', '40.86', '-36.69', '122.51', '43.75', '40.35', '41.44', '42.04', '44.43', '52.23', '48.90', '40.17', '35.11', '52.81', '-43.55', '-44.80', '69.71', '49.78', '46.18', '47.98', '-43.14', '38.98', '49.17', '45.81', '55.77', '88.78', '52.88', '53.64', '102.40', '106.78', '86.58', '94.97', '138.50', '53.34', '40.12', '66.33', '101.44', '60.53', '47.32', '42.07', '58.49', '46.73', '-41.49', '94.52', '113.91', '62.91', '46.04', '-48.30', '43.11', '44.90', '-92.60', '61.48', '94.87', '31.12', '47.28', '24.75', '67.41', '59.47', '26.05', '91.84', '52.66', '41.24', '66.44', '37.62', '40.02', '-80.55', '96.74', '50.96', '43.88', '152.28', '41.34', '31.61', '44.70', '23.00', '34.56', '54.89', '49.51', '-45.30', '43.85', '20.76', '65.36', '82.46', '43.20', '-72.05', '73.73', '92.78', '53.47', '56.72', '44.31', '32.59', '54.91', '123.12', '35.75', '47.71', '-98.78', '39.28', '138.72', '95.58', '53.20', '57.40', '36.35', '-50.60', '-49.10', '36.43', '42.24', '49.49', '57.23', '49.83', '35.80', '43.96', '33.41', '89.91', '53.67', '130.62', '50.01', '43.92', '44.01', '-43.30', '30.36', '31.86', '52.99', '50.59', '31.01', '-52.85', '62.84', '-51.35', '-42.05', '32.86', '39.76', '42.16', '33.96', '42.74', '40.38', '88.82', '53.19', '43.34', '46.33', '39.13', '43.06', '46.93', '36.34', '61.23', '45.83', '42.70', '37.70', '84.52', '34.16', '40.83', '46.83', '50.91', '39.61', '53.04', '45.62', '43.81', '42.61', '47.41', '30.41', '55.19', '49.18', '148.31', '44.77', '52.22', '46.95', '143.39', '59.97', '43.77', '133.37', '49.16', '57.78', '44.94', '52.73', '97.77', '110.64', '50.92', '52.12', '33.49', '35.49', '60.52', '40.72', '32.76', '-70.30', '59.78', '31.60', '64.97', '52.78', '42.56', '32.35', '27.99', '40.06', '66.56', '83.24', '89.89', '48.58', '44.49', '49.38', '33.44', '57.92', '49.03', '40.21', '48.78', '42.40', '41.20', '46.29', '52.59', '51.38', '40.59', '36.63', '49.58', '93.84', '42.98', '41.78', '54.98', '15.36', '-49.35', '100.94', '30.26', '49.57', '45.95', '-42.33', '119.86', '51.92', '17.52', '50.13', '39.92', '140.14', '34.45', '31.10', '47.70', '41.09', '-78.30', '134.45', '44.65', '42.08', '47.08', '58.22', '40.47', '54.88', '36.45', '35.67', '46.46', '37.46', '-51.10', '90.53', '40.04', '46.44', '48.23', '44.08', '170.16', '69.86', '102.14', '39.21', '57.79', '45.79', '39.18', '64.11', '33.50', '56.20', '39.88', '-41.30', '115.81', '37.33', '37.92', '44.33', '48.31', '39.72', '29.72', '38.53', '37.93', '108.64', '40.90', '37.90', '41.22', '43.83', '43.28', '65.49', '58.87', '46.34', '44.57', '46.40', '35.13', '-57.40', '46.12', '-104.80', '26.55', '50.42', '37.18', '42.45', '-22.96', '94.54', '55.81', '131.33', '56.48', '32.75', '38.99', '57.07', '39.59', '37.78', '29.63', '50.69', '28.45', '39.58', '37.77', '38.97', '50.38', '41.47', '52.76', '30.78', '31.68', '43.16', '47.95', '44.96', '41.23', '37.09', '59.33', '33.36', '41.33', '37.13', '84.37', '-102.80', '36.21', '41.28', '82.41', '136.56', '25.05', '26.57', '28.27', '48.72', '67.08', '95.93', '52.39', '59.91', '52.16', '54.78', '48.43', '70.46', '34.75', '37.65', '48.32', '47.83', '35.22', '42.15', '102.59', '48.39', '84.31', '46.59', '35.35', '32.88', '84.53', '52.18', '45.56', '38.84', '-33.55', '51.40', '49.70', '47.66', '86.29', '47.40', '50.99', '87.09', '36.52', '45.92', '33.85', '39.90', '40.51', '50.09', '33.72', '90.58', '47.09', '119.66', '-40.80', '52.46', '45.52', '36.84', '40.45', '48.24', '43.43', '26.54', '48.52', '31.75', '50.03', '-48.85', '44.61', '49.39', '50.94', '35.38', '40.27', '49.08', '227.46', '57.16', '37.96', '48.16', '42.77', '35.19', '45.75', '50.54', '60.45', '47.54', '24.06', '17.24', '16.40', '96.98', '37.89', '151.43', '-53.30', '42.68', '47.48', '52.09', '52.27', '53.62', '156.75', '42.65', '47.75', '8.15', '128.40', '42.03', '43.23', '32.50', '32.39', '43.22', '43.82', '40.22', '51.14', '-39.30', '39.39', '49.89', '40.79', '34.71', '-49.60', '43.17', '37.43', '49.77', '40.54', '51.26', '49.76', '35.87', '54.33', '63.51', '45.54', '41.92', '52.69', '50.24', '42.51', '29.97', '47.43', '62.89', '40.09', '61.79', '26.30', '40.76', '43.08', '63.48', '28.61', '49.41', '42.43', '39.47', '44.24', '40.64', '35.89', '44.83', '101.57', '46.53', '42.99', '40.37', '-52.10', '42.38', '48.98', '39.64', '87.82', '53.40', '54.37', '-45.80', '62.12', '49.27', '30.27', '40.49', '44.74', '50.14', '38.74', '40.53', '65.74', '67.57', '36.32', '50.12', '44.72', '56.51', '42.29', '78.28', '47.69', '46.48', '52.33', '129.89', '70.53', '51.46', '42.26', '36.26', '47.64', '31.40', '62.66', '21.43', '43.58', '52.41', '34.46', '27.83', '-43.80', '100.54', '58.34', '43.95', '69.02', '62.39', '37.38', '48.79', '49.96', '48.77', '42.95', '-46.73', '40.36', '39.74', '85.47', '59.79', '42.11', '49.91', '25.52', '44.91', '59.31', '34.90', '36.08', '30.88', '49.90', '37.11', '43.51', '174.83', '38.09', '133.39', '152.77', '44.34', '36.69', '52.53', '52.40', '95.29', '91.21', '39.02', '53.94', '37.82', '45.63', '-71.85', '29.25', '46.19', '84.82', '48.62', '36.59', '40.77', '42.92', '-89.55', '33.62', '77.37', '34.15', '36.74', '94.28', '40.75', '41.90', '56.38', '59.29', '50.33', '42.53', '40.73', '-47.85', '40.71', '43.12', '38.32', '41.01', '33.52', '-35.80', '47.88', '34.65', '43.70', '39.49', '-99.35', '45.22', '73.16', '44.89', '36.48', '-59.77', '53.54', '30.71', '33.15', '40.65', '-44.85', '-40.73', '24.20', '40.63', '39.40', '38.92', '-50.10', '-37.30', '50.79', '194.30', '40.57', '37.57', '71.37', '46.57', '36.97', '44.50', '31.04', '36.89', '44.63', '57.83', '-46.60', '33.94', '50.74', '35.12', '52.52', '41.11', '-53.90', '52.44', '104.04', '46.49', '41.68', '46.47', '42.88', '37.47', '36.87', '44.95', '39.56', '39.84', '60.92', '-42.80', '32.63', '39.83', '38.63', '25.50', '38.64', '48.21', '32.46', '53.43', '50.90', '45.21', '43.18', '31.73', '39.19', '40.99', '50.61', '-45.60', '43.41', '41.07', '37.98', '-90.60', '40.69', '35.27', '26.21', '91.14', '85.74', '40.62', '-53.24', '39.73', '42.13', '25.60', '34.92', '36.12', '24.05', '36.11', '56.26', '138.20', '-46.85', '-40.30', '46.87', '148.97', '44.25', '167.25', '49.43', '37.84', '52.42', '49.84', '62.36', '45.64', '40.97', '50.20', '31.36', '42.50', '37.22', '24.55', '40.96', '29.21', '233.80', '39.14', '20.82', '36.57', '35.98', '47.79', '143.57', '81.09', '39.38', '27.41', '226.80', '36.51', '34.13', '23.68', '55.04', '82.58', '29.76', '37.67', '35.86', '35.01', '54.48', '30.45', '31.65', '4.25', '59.39', '60.34', '41.74', '37.83', '38.83', '30.96', '41.99', '39.53', '63.61', '40.58', '-80.97', '115.27', '34.58', '41.17', '51.19', '37.58', '33.60', '-88.60', '-21.80', '56.39', '53.74', '15.90', '37.27', '33.76', '48.94', '48.69', '39.32', '35.56', '41.12', '-51.85', '37.51', '39.91', '37.07', '43.13', '32.23', '38.69', '30.21', '40.92', '49.64', '42.28', '38.67', '33.87', '48.40', '53.36', '53.44', '38.65', '38.77', '54.54', '32.60', '24.30', '31.44', '36.23', '57.71', '40.15', '45.69', '60.22', '35.26', '37.02', '44.02', '33.21', '46.41', '38.61', '126.34', '36.20', '38.57', '47.86', '43.99', '45.07', '-50.35', '23.55', '46.38', '42.18', '47.14', '25.30', '60.32', '28.86', '35.57', '28.56', '44.58', '41.88', '51.16', '34.95', '36.75', '34.94', '36.73', '-27.05', '-37.55', '41.84', '46.36', '48.11', '30.03', '-50.85', '39.69', '51.57', '52.83', '20.50', '38.51', '31.63', '46.89', '48.89', '64.22', '39.62', '30.24', '57.73', '35.31', '60.26', '-36.05', '49.23', '30.82', '210.96', '53.03', '42.02', '37.35', '-33.05', '45.59', '121.54', '36.56', '36.66', '22.59', '33.13', '150.38', '57.24', '56.36', '16.57', '55.36', '40.14', '-74.55', '49.24', '36.09', '38.93', '39.52', '16.82', '34.53', '37.06', '25.69', '40.13', '33.66', '50.89', '39.48', '43.25', '-39.80', '52.08', '33.81', '30.56', '61.41', '43.38', '42.44', '28.76', '35.25', '28.36', '26.01', '34.84', '24.82', '36.98', '38.19', '-46.35', '35.18', '139.91', '43.66', '42.34', '31.98', '44.03', '29.50', '41.67', '35.72', '66.77', '57.98', '51.84', '23.20', '29.48', '30.60', '41.66', '47.67', '-32.60', '36.81', '26.65', '-28.60', '-43.60', '44.48', '48.84', '106.52', '47.73', '42.20', '46.51', '41.61', '40.39', '44.04', '37.97', '39.17', '43.98', '32.57', '33.12', '-43.93', '34.96', '31.15', '30.53', '42.75', '-45.10', '33.23', '-38.28', '-39.48', '40.34', '-48.10', '33.71', '-44.35', '42.06', '33.09', '40.29', '24.80', '40.94', '35.47', '56.91', '39.71', '35.46', '41.38', '34.35', '38.87', '46.88', '41.03', '44.51', '31.20', '-43.85', '42.84', '31.99', '28.09', '-45.85', '39.99', '34.19', '42.01', '40.88', '49.72', '169.26', '97.97', '53.49', '35.97', '48.59', '24.78', '39.27', '35.95', '39.03', '-34.80', '-5.80', '41.94', '35.93', '30.89', '39.11', '43.74', '62.38', '26.47', '39.06', '51.34', '36.15', '42.14', '41.83', '15.37', '-38.68', '24.51', '138.14', '43.71', '38.88', '31.91', '43.37', '25.35', '40.32', '55.82', '46.24', '39.45', '39.63', '47.44', '-37.80', '-56.65', '-42.10', '26.02', '23.28', '36.06', '43.94', '30.39', '26.78', '39.20', '41.45', '29.51', '34.18', '47.93', '35.45', '46.20', '43.64', '33.37', '39.95', '40.31', '43.87', '34.93', '44.42', '35.73', '37.52', '34.33', '-39.35', '35.37', '31.51', '-30.05', '46.91', '34.52', '39.31', '88.70', '27.88', '45.91', '54.43', '33.27', '15.66', '145.37', '33.97', '27.70', '-47.60', '41.04', '58.17', '43.48', '37.15', '34.44', '31.59', '42.58', '349.30', '-26.55', '43.84', '49.42', '43.42', '41.95', '34.20', '485.30', '132.72', '38.58', '31.71', '35.06', '25.85', '28.97', '27.79', '31.96', '146.16', '-35.05', '43.54', '28.46', '36.38', '39.43', '37.32', '37.31', '48.71', '92.66', '46.82', '55.79', '36.58', '36.88', '37.75', '34.64', '35.50', '35.90', '32.19', '39.08', '35.15', '34.25', '33.65', '23.82', '-37.85', '48.03', '34.83', '36.02', '39.93', '37.81', '34.22', '38.90', '37.20', '-33.84', '33.93', '29.75', '26.18', '41.31', '25.34', '37.17', '40.16', '59.04', '37.73', '23.54', '39.54', '29.99', '42.62', '-44.10', '-36.28', '37.87', '37.12', '30.83', '-44.60', '136.01', '33.70', '26.76', '-39.85', '36.50', '172.93', '32.61', '41.72', '45.93', '34.69', '52.97', '34.49', '51.33', '44.84', '36.44', '43.03', '44.28', '25.51', '37.04', '37.64', '36.42', '-34.30', '29.91', '42.54', '40.87', '38.75', '34.59', '30.68', '47.58', '35.77', '30.98', '40.42', '56.84', '69.54', '55.29', '33.95', '51.18', '37.54', '56.86', '31.52', '48.74', '36.90', '33.90', '41.69', '20.08', '34.43', '29.12', '37.45', '42.97', '-41.85', '43.79', '38.29', '33.86', '64.89', '34.47', '35.84', '37.59', '-42.85', '40.46', '57.22', '53.33', '50.17', '58.51', '30.23', '-54.71', '59.08', '23.53', '40.40', '27.23', '39.79', '36.14', '38.59', '33.18', '36.17', '-39.13', '30.16', '33.75', '30.75', '41.43', '35.04', '38.91', '141.00', '44.47', '38.82', '30.72', '43.91', '19.24', '70.89', '23.08', '33.11', '38.70', '26.99', '-47.45', '43.09', '31.92', '29.85', '35.85', '36.67', '34.86', '42.91', '32.45', '50.23', '-35.30', '31.22', '42.73', '37.23', '-41.00', '42.78', '47.89', '35.51', '50.25', '31.29', '38.56', '48.33', '44.11', '35.96', '29.95', '44.92', '51.17', '100.31', '31.13', '213.27', '61.83', '36.92', '29.73', '44.79', '45.51', '36.13', '36.49', '37.69', '47.39', '41.79', '48.29', '17.84', '32.28', '52.13', '-66.73', '17.94', '-42.35', '41.98', '53.48', '43.57', '20.52', '40.70', '36.28', '23.61', '-29.04', '44.23', '29.69', '41.18', '44.78', '36.70', '28.38', '36.27', '-34.28', '9.96', '44.17', '40.91', '25.01', '26.00', '33.92', '36.33', '-41.10', '38.71', '145.92', '41.70', '30.28', '36.68', '41.91', '35.09', '35.82', '-43.10', '30.50', '36.25', '36.24', '33.24', '35.03', '-25.80', '35.63', '-34.05', '31.41', '33.25', '112.37', '48.82', '36.18', '33.17', '10.60', '39.98', '33.16', '65.59', '-46.10', '24.21', '35.34', '27.77', '36.72', '25.82', '42.81', '-45.35', '41.49', '27.71', '35.91', '37.94', '33.67', '45.68', '30.58', '33.06', '127.47', '30.86', '-33.49', '41.25', '36.65', '-40.85', '158.55', '36.95', '49.31', '33.59', '32.37', '22.80', '54.77', '35.23', '42.76', '35.07', '157.86', '27.66', '36.86', '50.84', '36.78', '68.69', '32.58', '41.93', '51.83', '26.13', '31.72', '30.51', '395.30', '28.85', '31.38', '14.00', '32.27', '50.62', '36.03', '33.48', '35.88', '27.37', '45.74', '37.95', '38.95', '39.77', '24.47', '24.58', '37.14', '48.01', '28.73', '30.81', '33.56', '35.59', '32.17', '36.07', '33.34', '-27.23', '2.30', '36.64', '32.08', '58.04', '35.14', '38.73', '30.94', '44.32', '41.73', '28.81', '30.92', '33.33', '39.24', '18.99', '-33.54', '36.46', '62.78', '26.31', '50.04', '46.68', '73.74', '39.33', '27.82', '34.42', '39.57', '161.92', '35.61', '36.79', '37.39', '87.02', '35.54', '24.66', '35.52', '25.04', '37.41', '19.97', '44.14', '28.31', '14.49', '28.83', '41.71', '42.22', '-30.29', '44.29', '40.89', '38.66', '32.82', '39.37', '30.66', '40.24', '-4.30', '33.91', '22.30', '46.76', '23.41', '50.49', '29.98', '26.51', '13.09', '26.90', '31.81', '32.24', '-40.35', '38.96', '28.07', '31.95', '44.09', '39.04', '89.63', '131.62', '33.53', '-39.60', '52.24', '37.26', '39.82', '33.51', '-31.55', '33.08', '33.63', '38.89', '35.28', '35.74', '33.79', '160.38', '32.06', '33.43', '37.42', '11.89', '-32.80', '-29.80', '40.23', '38.39', '33.89', '41.32', '43.33', '40.28', '43.14', '37.03', '36.94', '41.77', '38.68', '34.51', '26.16', '35.66', '27.89', '51.28', '23.33', '76.54', '58.97', '54.32', '186.61', '26.63', '69.58', '30.62', '-38.85', '17.62', '-31.05', '29.74', '36.62', '276.30', '17.41', '56.83', '37.91', '32.07', '34.21', '35.83', '34.57', '39.07', '38.49', '24.96', '35.71', '48.34', '29.56', '-35.48', '24.84', '29.06', '-47.15', '33.74', '27.12', '36.16', '28.39', '33.14', '35.94', '-26.64', '-40.10', '37.37', '36.54', '42.37', '30.42', '62.64', '-41.86', '-28.95', '25.77', '30.85', '33.38', '47.12', '39.51', '-22.80', '23.79', '35.39', '-33.30', '28.90', '39.29', '28.77', '45.94', '28.93', '25.32', '31.76', '24.36', '41.13', '36.76', '-37.60', '-29.55', '32.87', '25.07', '29.29', '-28.80', '27.15', '31.08', '32.54', '25.56', '35.43', '16.02', '30.90', '25.23', '42.33', '23.29', '26.79', '28.59', '29.79', '-30.55', '36.29', '35.62', '25.64', '-3.80', '179.16', '27.40', '28.57', '127.48', '30.95', '24.04', '-28.30', '17.51', '23.40', '34.78', '23.85', '37.29', '-6.80', '36.83', '35.64', '57.09', '23.09', '42.79', '-36.35', '26.73', '35.92', '41.14', '31.83', '31.82', '23.10', '31.93', '61.78', '-36.60', '-31.30', '27.32', '34.82', '26.50', '16.05', '26.97', '30.61', '30.10', '41.96', '149.45', '33.68', '34.76', '31.62', '-36.10', '22.65', '31.90', '20.40', '-29.30', '24.59', '34.50', '32.41', '-37.35', '25.79', '46.22', '35.99', '28.79', '31.18', '13.63', '29.67', '36.19', '37.16', '31.16', '22.58', '143.63', '41.48', '33.98', '29.89', '28.02', '27.63', '32.48', '39.22', '26.60', '23.21', '32.52', '30.49', '31.67', '33.46', '30.46', '38.86', '30.97', '-39.10', '21.21', '26.35', '37.19', '33.78', '32.38', '32.79', '61.76', '-51.58', '127.93', '31.77', '25.59', '17.48', '-103.30', '31.11', '18.93', '32.02', '-36.85', '33.28', '63.71', '31.50', '27.22', '18.91', '31.47', '27.85', '20.13', '25.46', '33.29', '31.70', '25.44', '35.24', '33.02', '25.21', '-29.05', '31.89', '29.02', '-35.10', '30.29', '33.69', '33.19', '26.22', '29.57', '31.31', '27.28', '37.48', '39.97', '30.31', '27.38', '39.46', '35.58', '33.84', '30.12', '30.40', '25.81', '-30.80', '33.47', '21.70', '39.23', '-45.90', '37.76', '27.65', '38.62', '35.17', '34.23', '33.03', '30.06', '-30.39', '30.84', '32.43', '33.32', '29.78', '22.56', '37.53', '31.19', '27.81', '31.88', '29.07', '34.63', '22.61', '36.53', '37.68', '27.20', '17.55', '15.25', '144.50', '25.13', '52.51', '-34.60', '11.62', '26.88', '24.14', '26.86', '-41.45', '19.56', '23.16', '19.66', '24.45', '22.88', '25.61', '20.15', '33.99', '-37.00', '29.92', '30.91', '14.97', '158.95', '33.45', '35.20', '25.95', '17.05', '28.48', '33.26', '-30.30', '-27.80', '24.49', '28.49', '18.55', '25.48', '35.41', '14.28', '37.99', '24.50', '-25.84', '30.19', '28.32', '27.17', '28.96', '33.07', '24.74', '23.52', '28.95', '27.72', '25.92', '35.02', '29.49', '-27.20', '34.72', '18.29', '28.69', '29.88', '21.84', '33.77', '32.47', '30.79', '34.67', '29.46', '32.26', '30.04', '34.54', '-20.55', '26.41', '30.01', '31.21', '33.01', '28.15', '26.40', '28.87', '31.66', '30.69', '36.61', '24.53', '-35.35', '40.41', '17.82', '31.14', '40.19', '22.01', '26.34', '24.65', '17.59', '33.73', '32.62', '139.45', '29.64', '340.80', '34.79', '26.29', '26.71', '24.89', '29.68', '31.09', '-20.64', '25.28', '23.49', '19.04', '39.67', '22.26', '26.25', '28.65', '32.74', '28.08', '-27.55', '32.22', '20.33', '34.68', '25.38', '25.22', '25.74', '30.99', '13.85', '29.18', '27.58', '-24.24', '-26.80', '27.73', '22.46', '-27.30', '116.18', '24.07', '-21.75', '25.17', '24.12', '21.45', '29.44', '30.08', '15.29', '28.12', '27.24', '23.92', '26.64', '27.50', '30.64', '26.28', '26.61', '24.71', '466.55', '-32.35', '-24.60', '-62.80', '-22.29', '19.21', '32.18', '28.22', '24.02', '30.32', '-30.60', '-23.30', '24.72', '31.79', '23.74', '12.10', '22.00', '30.09', '30.17', '30.07', '34.48', '25.88', '27.61', '18.06', '26.83', '-37.47', '36.04', '-26.05', '26.27', '24.37', '27.69', '29.87', '26.56', '23.38', '30.57', '28.82', '29.08', '18.30', '30.65', '-35.60', '31.49', '28.92', '26.94', '29.77', '26.59', '27.43', '-21.91', '25.70', '27.49', '28.89', '17.39', '32.04', '-20.80', '18.14', '-28.05', '25.89', '22.85', '31.03', '-35.85', '31.84', '101.84', '29.19', '30.48', '30.76', '28.17', '23.34', '-25.30', '11.29', '20.41', '30.37', '-34.85', '-27.48', '24.33', '38.94', '27.11', '29.71', '24.29', '30.63', '21.04', '27.10', '30.73', '20.20', '-24.80', '20.58', '29.15', '25.11', '30.52', '30.93', '18.90', '29.65', '21.85', '28.66', '29.96', '21.83', '21.23', '30.54', '23.81', '28.84', '25.99', '30.34', '-24.57', '23.91', '24.17', '22.37', '23.58', '24.16', '28.37', '-33.85', '28.19', '25.36', '22.89', '70.19', '28.88', '26.10', '31.87', '22.33', '175.35', '30.33', '30.13', '27.53', '28.67', '26.58', '4.90', '-17.05', '25.58', '25.31', '24.10', '22.53', '27.08', '28.29', '-110.36', '110.36', '29.47', '9.40', '26.37', '25.68', '22.84', '20.68', '25.10', '31.39', '23.98', '-27.93', '27.29', '19.49', '26.84', '27.57', '27.09', '27.59', '27.68', '30.02', '24.99', '-25.55', '20.21', '16.74', '58.74', '-24.64', '-33.60', '-33.41', '26.91', '25.76', '-22.30', '27.76', '-24.55', '22.67', '-22.64', '18.70', '30.47', '22.66', '27.84', '12.54', '30.74', '23.23', '22.03', '21.96', '18.23', '32.03', '27.31', '28.91', '16.26', '128.29', '13.19', '21.97', '26.77', '27.13', '-26.30', '-29.88', '-31.10', '29.27', '27.26', '29.59', '18.15', '24.32', '30.18', '25.16', '15.69', '13.42', '26.70', '32.36', '24.13', '23.06', '25.14', '32.44', '108.21', '28.68', '24.86', '23.66', '22.49', '27.46', '31.74', '26.53', '25.91', '25.42', '26.49', '195.39', '25.09', '31.17', '31.69', '32.29', '22.29', '23.56', '25.97', '-12.80', '27.16', '26.45', '27.74', '27.51', '21.78', '25.93', '21.12', '28.23', '-81.55', '25.06', '15.39', '26.67', '-20.10', '33.04', '-23.80', '30.67', '-33.10', '27.62', '26.32', '26.44', '26.43', '-31.60', '29.94', '308.80', '32.49', '27.45', '28.94', '27.34', '20.98', '25.78', '23.93', '22.95', '26.36', '13.83', '170.00', '163.55', '264.35', '235.85', '138.60', '112.01', '175.12', '145.55', '188.16', '172.86', '100.85', '190.14', '82.03', '99.36', '76.62', '118.72', '70.69', '105.06', '103.74', '91.86', '120.71', '91.26', '95.24', '84.21', '88.25', '137.15', '90.69', '135.95', '103.66', '91.93', '99.42', '78.54', '93.00', '125.54', '132.75', '109.97', '95.31', '91.68', '97.31', '91.70', '105.15', '80.75', '118.00', '126.77', '68.24', '201.11', '91.69', '109.40', '95.12', '93.94', '124.86', '91.98', '-49.80', '124.98', '91.54', '86.51', '55.60', '63.63', '230.22', '63.04', '63.64', '82.34', '70.78', '82.04', '126.78', '58.00', '64.68', '55.64', '65.83', '71.68', '118.06', '63.12', '80.23', '90.09', '63.17', '55.45', '71.01', '112.24', '62.80', '105.28', '105.40', '109.31', '83.01', '98.20', '55.44', '118.20', '80.22', '58.08', '115.06', '59.85', '109.62', '57.46', '61.07', '59.56', '124.56', '141.11', '72.87', '118.25', '126.94', '41.54', '105.27', '80.24', '69.23', '60.02', '69.08', '65.51', '57.54', '67.33', '78.84', '76.66', '38.30', '120.43', '51.66', '62.62', '71.58', '109.45', '120.95', '105.43', '93.56', '65.26', '115.52', '58.72', '156.95', '93.95', '129.78', '105.20', '62.20', '67.47', '118.91', '-77.30', '-53.05', '65.63', '64.09', '118.22', '85.34', '-57.30', '84.07', '45.19', '91.75', '56.63', '57.57', '54.01', '57.52', '105.11', '91.51', '120.54', '93.04', '124.20', '60.28', '70.97', '78.87', '76.87', '58.23', '118.94', '95.23', '91.45', '72.86', '84.71', '93.44', '69.26', '61.06', '78.44', '109.23', '91.64', '68.20', '86.71', '132.95', '80.95', '88.29', '71.57', '95.51', '66.97', '55.40', '78.86', '82.73', '93.98', '67.32', '78.74', '63.58', '93.89', '67.28', '86.96', '64.47', '51.06', '86.72', '86.74', '67.27', '63.65', '78.45', '67.68', '63.57', '96.11', '55.32', '103.54', '49.19', '61.04', '69.61', '91.91', '78.67', '126.84', '109.53', '94.70', '91.78', '69.88', '93.71', '75.81', '93.99', '105.37', '81.33', '93.21', '61.12', '78.79', '69.94', '83.74', '78.64', '105.33', '65.71', '111.79', '61.71', '65.31', '57.88', '83.04', '54.11', '86.93', '75.97', '62.46', '104.40', '70.94', '83.17', '62.61', '124.50', '54.15', '78.77', '82.27', '-74.80', '115.12', '75.98', '63.69', '93.46', '115.14', '65.72', '69.72', '69.04', '54.13', '82.54', '93.54', '120.64', '63.27', '95.11', '62.01', '65.28', '53.28', '55.66', '68.12', '53.83', '76.76', '68.96', '55.54', '109.28', '78.57', '68.23', '76.96', '144.72', '136.93', '80.83', '97.15', '115.04', '97.14', '93.87', '67.49', '91.28', '91.66', '84.88', '93.62', '105.04', '118.70', '95.04', '69.25', '82.44', '80.42', '53.88', '63.43', '82.84', '78.82', '75.52', '91.53', '57.45', '80.32', '56.67', '70.76', '63.76', '62.96', '64.72', '62.95', '55.33', '70.74', '91.47', '121.88', '105.68', '68.14', '93.53', '109.27', '70.51', '55.99', '67.37', '-57.35', '68.42', '-84.35', '124.27', '77.14', '95.18', '-47.30', '112.13', '99.16', '60.15', '45.18', '53.23', '105.38', '34.30', '109.66', '173.57', '91.58', '91.77', '58.64', '76.64', '-119.45', '70.72', '99.38', '57.28', '64.93', '97.22', '97.13', '55.90', '77.13', '45.12', '103.68', '62.42', '57.27', '-72.30', '93.74', '65.24', '62.24', '61.92', '55.71', '45.44', '82.82', '55.42', '29.37', '38.23', '53.24', '65.53', '63.29', '57.39', '64.49', '93.97', '38.43', '67.96', '55.12', '48.25', '62.03', '59.62', '61.70', '88.49', '54.20', '97.17', '29.80', '57.68', '75.73', '29.00', '59.51', '55.51', '51.51', '105.31', '-47.02', '-46.05', '78.63', '69.07', '53.26', '93.59', '67.89', '130.70', '-47.05', '55.41', '55.63', '34.00', '55.52', '38.00', '95.32', '56.31', '32.78', '124.74', '105.18', '55.24', '55.43', '54.02', '38.42', '57.59', '90.99', '28.52', '144.37', '45.25', '105.54', '55.53', '51.72', '34.05', '45.11', '55.75', '55.20', '90.89', '56.64', '142.74', '59.67', '58.46', '29.41', '59.71', '51.77', '54.22', '57.58', '54.17', '51.02', '55.97', '32.00', '38.48', '93.17', '-49.85', '45.13', '132.81', '55.17', '38.12', '57.53', '97.12', '51.63', '45.23', '56.59', '34.01', '32.10', '34.06', '62.98', '38.02', '59.57', '68.44', '64.38', '62.99', '41.53', '53.39', '31.56', '-56.85', '-34.55', '64.27', '44.68', '27.97', '69.11', '34.40', '67.84', '62.83', '45.48', '-80.30', '38.47', '-77.05', '45.29', '110.83', '41.57', '61.03', '55.27', '57.67', '64.88', '55.22', '34.10', '84.22', '38.37', '115.97', '38.25', '34.02', '27.92', '34.60', '59.74', '98.26', '38.44', '53.96', '90.34', '45.16', '54.03', '51.11', '51.68', '53.99', '38.03', '58.68', '61.52', '45.27', '38.31', '56.68', '34.27', '45.46', '65.14', '93.07', '41.59', '32.67', '140.06', '61.08', '55.68', '31.27', '57.61', '53.38', '-38.55', '38.27', '45.17', '28.04', '51.53', '57.51', '56.79', '32.96', '45.89', '170.46', '32.90', '38.34', '38.33', '53.84', '51.67', '55.73', '-38.05', '59.83', '28.78', '37.08', '38.06', '29.32', '29.22', '38.17', '38.15', '57.37', '55.34', '28.70', '45.04', '29.10', '45.28', '56.07', '93.79', '29.35', '27.06', '32.85', '-114.55', '-38.80', '51.03', '29.20', '38.13', '29.81', '-36.30', '135.91', '28.60', '31.45', '38.18', '38.20', '28.00', '64.28', '45.26', '-47.35', '34.34', '41.58', '32.89', '-38.30', '38.08', '38.45', '-37.05', '29.16', '45.01', '29.17', '28.01', '28.35', '33.82', '32.99', '-43.35', '62.28', '34.12', '29.04', '31.33', '29.39', '38.38', '34.97', '55.23', '38.11', '32.69', '38.41', '-32.05', '28.16', '34.14', '-36.33', '34.70', '38.36', '32.93', '27.96', '62.54', '38.14', '35.68', '32.68', '57.49', '34.38', '34.98', '41.56', '29.54', '32.11', '57.99', '34.28', '38.46', '28.33', '55.21', '37.44', '58.83', '45.03', '34.99', '17.14', '38.40', '32.66', '64.73', '61.72', '35.69', '29.03', '36.22', '54.64', '32.13', '-32.30', '22.70', '34.89', '34.11', '29.42', '34.31', '35.36', '53.78', '-32.55', '32.70', '38.28', '32.65', '29.13', '34.09', '34.08', '27.94', '36.31', '-25.04', '191.21', '31.32', '45.08', '36.01', '35.32', '33.58', '32.15', '35.33', '28.63', '38.04', '31.58', '34.32', '34.03', '17.33', '31.43', '38.24', '51.61', '28.50', '41.42', '35.08', '53.98', '29.84', '33.20', '32.84', '34.36', '-38.10', '-31.93', '51.64', '34.26', '32.32', '28.75', '33.54', '32.95', '60.08', '31.57', '31.42', '59.77', '33.61', '31.48', '21.68', '42.27', '-31.80', '272.88', '34.88', '-38.60', '32.33', '-38.35', '31.23', '32.98', '28.10', '33.40', '109.64', '31.53', '32.72', '34.39', '21.52', '32.31', '31.26', '35.48', '57.89', '32.34', '28.06', '21.07', '32.83', '32.92', '34.04', '29.83', '35.29', '32.01', '33.57', '32.64', '32.91', '30.25', '29.31', '18.67', '27.19', '31.28', '34.29', '34.24', '31.37', '29.43', '-32.32', '29.34', '33.22', '29.24', '27.39', '33.64', '29.38', '27.91', '299.30', '29.62', '29.60', '29.61', '31.24', '32.94', '28.14', '34.37', '29.45', '32.20', '34.41', '18.68', '32.73', '28.03', '28.54', '30.11', '21.66', '31.46', '32.12', '28.58', '27.04', '29.33', '21.36', '32.40', '27.02', '28.41', '28.11', '30.22', '27.07', '27.01', '28.18', '31.54', '32.71', '26.95', '-25.05', '26.85', '28.47', '18.77', '33.42', '27.93', '21.19', '32.14', '29.53', '31.34', '29.58', '-34.10', '30.14', '29.52', '27.54']\n"
          ]
        }
      ]
    },
    {
      "cell_type": "markdown",
      "source": [],
      "metadata": {
        "id": "HTLYIxz1WkgT"
      }
    },
    {
      "cell_type": "markdown",
      "source": [
        "## Adding total_amount_sum column"
      ],
      "metadata": {
        "id": "rZSM_RanLW7R"
      }
    },
    {
      "cell_type": "code",
      "source": [
        "filtered_df.select(col('total_amount'),col('total_amount_sum')).orderBy(col('total_amount').desc()).show()"
      ],
      "metadata": {
        "colab": {
          "base_uri": "https://localhost:8080/"
        },
        "id": "hYWsncb3KyH5",
        "outputId": "6cf721b2-4d5e-43ab-ca02-adcf7b2ec105"
      },
      "execution_count": 23,
      "outputs": [
        {
          "output_type": "stream",
          "name": "stdout",
          "text": [
            "+------------+----------------+\n",
            "|total_amount|total_amount_sum|\n",
            "+------------+----------------+\n",
            "|       99.97|           99.97|\n",
            "|       99.96|           83.30|\n",
            "|       99.96|           80.80|\n",
            "|       99.96|           80.80|\n",
            "|       99.96|           83.30|\n",
            "|       99.96|           81.97|\n",
            "|       99.96|           83.30|\n",
            "|       99.95|           99.95|\n",
            "|       99.95|           83.30|\n",
            "|       99.95|           89.95|\n",
            "|       99.95|           91.95|\n",
            "|       99.94|           91.31|\n",
            "|       99.92|           90.30|\n",
            "|       99.90|           82.00|\n",
            "|       99.87|           83.25|\n",
            "|       99.85|           96.10|\n",
            "|       99.85|           98.60|\n",
            "|       99.85|           98.60|\n",
            "|       99.84|           99.84|\n",
            "|       99.81|           78.85|\n",
            "+------------+----------------+\n",
            "only showing top 20 rows\n",
            "\n"
          ]
        }
      ]
    },
    {
      "cell_type": "markdown",
      "source": [
        "## Check when Sum is correct or not"
      ],
      "metadata": {
        "id": "ve5UsaJ8LUuv"
      }
    },
    {
      "cell_type": "code",
      "source": [
        "total_sum_df = filtered_df.withColumn('is_sum_correct',\n",
        "                                      when(col('total_amount') == col('total_amount_sum'), True).otherwise(False)\n",
        "                                      )\n",
        "total_sum_df.select(col('total_amount'),col('total_amount_sum'),col('is_sum_correct')).orderBy(col('total_amount').desc()).show()\n"
      ],
      "metadata": {
        "colab": {
          "base_uri": "https://localhost:8080/"
        },
        "id": "6sIrst5JK3ox",
        "outputId": "6c157abf-702f-4a83-abeb-395b7ac8f282"
      },
      "execution_count": 24,
      "outputs": [
        {
          "output_type": "stream",
          "name": "stdout",
          "text": [
            "+------------+----------------+--------------+\n",
            "|total_amount|total_amount_sum|is_sum_correct|\n",
            "+------------+----------------+--------------+\n",
            "|       99.97|           99.97|          true|\n",
            "|       99.96|           83.30|         false|\n",
            "|       99.96|           80.80|         false|\n",
            "|       99.96|           80.80|         false|\n",
            "|       99.96|           83.30|         false|\n",
            "|       99.96|           81.97|         false|\n",
            "|       99.96|           83.30|         false|\n",
            "|       99.95|           99.95|          true|\n",
            "|       99.95|           83.30|         false|\n",
            "|       99.95|           89.95|         false|\n",
            "|       99.95|           91.95|         false|\n",
            "|       99.94|           91.31|         false|\n",
            "|       99.92|           90.30|         false|\n",
            "|       99.90|           82.00|         false|\n",
            "|       99.87|           83.25|         false|\n",
            "|       99.85|           96.10|         false|\n",
            "|       99.85|           98.60|         false|\n",
            "|       99.85|           98.60|         false|\n",
            "|       99.84|           99.84|          true|\n",
            "|       99.81|           78.85|         false|\n",
            "+------------+----------------+--------------+\n",
            "only showing top 20 rows\n",
            "\n"
          ]
        }
      ]
    },
    {
      "cell_type": "markdown",
      "source": [
        "# Checking the correct ones"
      ],
      "metadata": {
        "id": "OWe7XSUeLQ-S"
      }
    },
    {
      "cell_type": "code",
      "source": [
        "total_sum_df_correct = total_sum_df.filter(\n",
        "                                    col('total_amount') == col('total_amount_sum')\n",
        "                                    )\n",
        "\n",
        "print(total_sum_df_correct.count())\n",
        "total_sum_df_correct.show()\n"
      ],
      "metadata": {
        "colab": {
          "base_uri": "https://localhost:8080/"
        },
        "id": "SCoL_VAYK-UI",
        "outputId": "64a04af7-0d3d-4db4-8fb3-ec4bd8133bb4"
      },
      "execution_count": 25,
      "outputs": [
        {
          "output_type": "stream",
          "name": "stdout",
          "text": [
            "9833\n",
            "+--------+--------------------+---------------------+---------------+-------------+----------+------------------+------------+------------+------------+-----------+-----+-------+----------+------------+---------------------+------------+--------------------+-----------+----------------+--------------+\n",
            "|VendorID|tpep_pickup_datetime|tpep_dropoff_datetime|passenger_count|trip_distance|RatecodeID|store_and_fwd_flag|PULocationID|DOLocationID|payment_type|fare_amount|extra|mta_tax|tip_amount|tolls_amount|improvement_surcharge|total_amount|congestion_surcharge|airport_fee|total_amount_sum|is_sum_correct|\n",
            "+--------+--------------------+---------------------+---------------+-------------+----------+------------------+------------+------------+------------+-----------+-----+-------+----------+------------+---------------------+------------+--------------------+-----------+----------------+--------------+\n",
            "|       2| 2022-01-26 15:26:00|  2022-01-26 15:27:00|           NULL|    123474.27|      NULL|              NULL|          60|          60|           0|       17.7|  0.0|    0.5|       0.0|         0.0|                  0.3|       18.50|                NULL|       NULL|           18.50|          true|\n",
            "|       2| 2022-01-18 15:51:00|  2022-01-18 15:55:00|           NULL|    118618.94|      NULL|              NULL|          76|          76|           0|        7.7|  0.0|    0.5|       0.0|         0.0|                  0.3|        8.50|                NULL|       NULL|            8.50|          true|\n",
            "|       2| 2022-01-03 14:17:00|  2022-01-03 14:33:00|           NULL|    100063.36|      NULL|              NULL|         166|          75|           0|      13.44|  0.0|    0.5|       0.0|         0.0|                  0.3|       14.24|                NULL|       NULL|           14.24|          true|\n",
            "|       2| 2022-01-29 20:07:00|  2022-01-29 20:44:00|           NULL|     93552.26|      NULL|              NULL|         222|         130|           0|      33.08|  0.0|    0.5|       0.0|         0.0|                  0.3|       33.88|                NULL|       NULL|           33.88|          true|\n",
            "|       2| 2022-03-16 00:20:00|  2022-03-16 00:28:00|           NULL|     60992.28|      NULL|              NULL|         112|         256|           0|       9.64|  0.0|    0.5|       0.0|         0.0|                  0.3|       10.44|                NULL|       NULL|           10.44|          true|\n",
            "|       2| 2022-03-01 07:36:00|  2022-03-01 08:07:00|           NULL|     59918.99|      NULL|              NULL|         213|         159|           0|      22.84|  0.0|    0.5|       0.0|         0.0|                  0.3|       23.64|                NULL|       NULL|           23.64|          true|\n",
            "|       2| 2022-02-10 14:36:00|  2022-02-10 15:00:00|           NULL|     43822.85|      NULL|              NULL|          61|          25|           0|      17.23|  0.0|    0.5|       0.0|         0.0|                  0.3|       18.03|                NULL|       NULL|           18.03|          true|\n",
            "|       2| 2022-03-22 16:38:00|  2022-03-22 17:42:00|           NULL|      40161.8|      NULL|              NULL|         112|         188|           0|      30.75|  0.0|    0.5|       0.0|         0.0|                  0.3|       31.55|                NULL|       NULL|           31.55|          true|\n",
            "|       2| 2022-03-02 09:03:00|  2022-03-02 09:15:00|           NULL|     33249.83|      NULL|              NULL|         119|         116|           0|      10.86|  0.0|    0.5|       0.0|         0.0|                  0.3|       11.66|                NULL|       NULL|           11.66|          true|\n",
            "|       2| 2022-01-01 14:00:00|  2022-01-01 15:15:00|           NULL|     23724.06|      NULL|              NULL|         193|         141|           0|       27.2|  0.0|    0.5|       0.0|        6.55|                  0.3|       34.55|                NULL|       NULL|           34.55|          true|\n",
            "|       1| 2022-01-06 17:35:29|  2022-01-06 18:15:01|            1.0|        620.0|       2.0|                 N|         132|         113|           2|       52.0| 3.75|    0.5|       0.0|        6.55|                  0.3|       63.10|                 2.5|       1.25|           63.10|          true|\n",
            "|       1| 2022-01-07 08:10:45|  2022-01-07 08:20:30|            1.0|        601.5|       1.0|                 N|         236|         140|           2|        8.0|  2.5|    0.5|       0.0|         0.0|                  0.3|       11.30|                 2.5|        0.0|           11.30|          true|\n",
            "|       1| 2022-01-05 14:42:37|  2022-01-05 15:25:13|            2.0|        572.6|       2.0|                 N|         186|         132|           2|       52.0|  2.5|    0.5|       0.0|        6.55|                  0.3|       61.85|                 2.5|        0.0|           61.85|          true|\n",
            "|       1| 2022-01-16 18:54:19|  2022-01-16 19:41:10|            1.0|        470.8|       1.0|                 N|         173|          78|           2|       45.5|  0.0|    0.5|       0.0|        6.55|                  0.3|       52.85|                 0.0|        0.0|           52.85|          true|\n",
            "|       1| 2022-01-16 17:43:35|  2022-01-16 18:26:03|            1.0|        390.0|       1.0|                 N|         164|         197|           2|       40.0|  2.5|    0.5|       0.0|        6.55|                  0.3|       49.85|                 2.5|        0.0|           49.85|          true|\n",
            "|       2| 2022-03-06 16:07:48|  2022-03-06 22:20:57|            1.0|       363.67|       4.0|                 N|         180|         265|           2|     1777.0|  0.0|    0.0|       0.0|        6.55|                  0.3|    1,783.85|                 0.0|        0.0|        1,783.85|          true|\n",
            "|       1| 2022-03-23 16:19:49|  2022-03-23 21:49:00|            2.0|        304.3|       5.0|                 N|          28|         265|           3|        0.0|  0.0|    0.0|       0.0|        35.3|                  0.3|       35.60|                 0.0|        0.0|           35.60|          true|\n",
            "|       1| 2022-03-23 21:49:40|  2022-03-23 21:50:04|            2.0|        304.3|       5.0|                 N|         265|         265|           1|      435.0|  0.0|    0.0|       0.0|         0.0|                  0.3|      435.30|                 0.0|        0.0|          435.30|          true|\n",
            "|       1| 2022-01-23 12:07:11|  2022-01-23 16:14:46|            1.0|        257.7|       5.0|                 N|         132|         265|           1|      650.0| 1.25|    0.0|       0.0|       31.55|                  0.3|      683.10|                 0.0|       1.25|          683.10|          true|\n",
            "|       2| 2022-02-04 16:42:21|  2022-02-04 21:23:29|            1.0|        248.5|       1.0|                 N|         175|         129|           2|      402.5|  1.0|    0.5|       0.0|         0.0|                  0.3|      404.30|                 0.0|        0.0|          404.30|          true|\n",
            "+--------+--------------------+---------------------+---------------+-------------+----------+------------------+------------+------------+------------+-----------+-----+-------+----------+------------+---------------------+------------+--------------------+-----------+----------------+--------------+\n",
            "only showing top 20 rows\n",
            "\n"
          ]
        }
      ]
    },
    {
      "cell_type": "markdown",
      "source": [
        "## Checking the incorrect ones"
      ],
      "metadata": {
        "id": "KonETC7VLLd5"
      }
    },
    {
      "cell_type": "code",
      "source": [
        "total_sum_df.cache()"
      ],
      "metadata": {
        "colab": {
          "base_uri": "https://localhost:8080/"
        },
        "id": "IPZKtr7hQC6q",
        "outputId": "1000add2-3b46-4be1-e819-4548c04772ae"
      },
      "execution_count": 27,
      "outputs": [
        {
          "output_type": "execute_result",
          "data": {
            "text/plain": [
              "DataFrame[VendorID: bigint, tpep_pickup_datetime: timestamp_ntz, tpep_dropoff_datetime: timestamp_ntz, passenger_count: double, trip_distance: double, RatecodeID: double, store_and_fwd_flag: string, PULocationID: bigint, DOLocationID: bigint, payment_type: bigint, fare_amount: double, extra: double, mta_tax: double, tip_amount: double, tolls_amount: double, improvement_surcharge: double, total_amount: string, congestion_surcharge: double, airport_fee: double, total_amount_sum: string, is_sum_correct: boolean]"
            ]
          },
          "metadata": {},
          "execution_count": 27
        }
      ]
    },
    {
      "cell_type": "code",
      "source": [
        "total_sum_df_incorrect = total_sum_df.filter(\n",
        "                                    col('total_amount') != col('total_amount_sum')\n",
        "                                    )\n",
        "\n",
        "print(total_sum_df_incorrect.count())\n",
        "total_sum_df_incorrect.show()"
      ],
      "metadata": {
        "colab": {
          "base_uri": "https://localhost:8080/"
        },
        "id": "56ggaqnjLBbh",
        "outputId": "a1bb3364-b534-4ecd-b14b-0b65753db31f"
      },
      "execution_count": 28,
      "outputs": [
        {
          "output_type": "stream",
          "name": "stdout",
          "text": [
            "80879\n",
            "+--------+--------------------+---------------------+---------------+-------------+----------+------------------+------------+------------+------------+-----------+-----+-------+----------+------------+---------------------+------------+--------------------+-----------+----------------+--------------+\n",
            "|VendorID|tpep_pickup_datetime|tpep_dropoff_datetime|passenger_count|trip_distance|RatecodeID|store_and_fwd_flag|PULocationID|DOLocationID|payment_type|fare_amount|extra|mta_tax|tip_amount|tolls_amount|improvement_surcharge|total_amount|congestion_surcharge|airport_fee|total_amount_sum|is_sum_correct|\n",
            "+--------+--------------------+---------------------+---------------+-------------+----------+------------------+------------+------------+------------+-----------+-----+-------+----------+------------+---------------------+------------+--------------------+-----------+----------------+--------------+\n",
            "|       2| 2022-02-15 18:24:00|  2022-02-15 18:37:00|           NULL|    348798.53|      NULL|              NULL|          13|         107|           0|       20.6|  0.0|    0.5|       4.0|         0.0|                  0.3|       27.90|                NULL|       NULL|           21.40|         false|\n",
            "|       2| 2022-02-02 07:34:00|  2022-02-02 07:53:00|           NULL|    323919.67|      NULL|              NULL|          75|          48|           0|      17.72|  0.0|    0.5|      3.42|         0.0|                  0.3|       24.44|                NULL|       NULL|           18.52|         false|\n",
            "|       2| 2022-02-27 18:57:00|  2022-02-27 19:08:00|           NULL|    314364.45|      NULL|              NULL|         125|         107|           0|       9.96|  0.0|    0.5|      2.83|         0.0|                  0.3|       16.09|                NULL|       NULL|           10.76|         false|\n",
            "|       2| 2022-01-11 11:48:00|  2022-01-11 12:00:00|           NULL|    306159.28|      NULL|              NULL|         116|         238|           0|      14.96|  0.0|    0.5|      3.94|         0.0|                  0.3|       22.20|                NULL|       NULL|           15.76|         false|\n",
            "|       2| 2022-03-14 13:52:00|  2022-03-14 14:10:00|           NULL|    286259.84|      NULL|              NULL|         249|         162|           0|      17.35|  0.0|    0.5|      4.47|         0.0|                  0.3|       25.12|                NULL|       NULL|           18.15|         false|\n",
            "|       2| 2022-01-20 17:57:00|  2022-01-20 18:12:00|           NULL|    274658.81|      NULL|              NULL|          50|         141|           0|      13.74|  0.0|    0.5|      1.81|         0.0|                  0.3|       18.85|                NULL|       NULL|           14.54|         false|\n",
            "|       2| 2022-02-19 13:09:00|  2022-02-19 13:20:00|           NULL|    267432.23|      NULL|              NULL|         140|         161|           0|        8.8|  0.0|    0.5|      2.57|         0.0|                  0.3|       14.67|                NULL|       NULL|            9.60|         false|\n",
            "|       2| 2022-02-15 15:45:00|  2022-02-15 16:09:00|           NULL|     263173.0|      NULL|              NULL|          48|         236|           0|      16.89|  0.0|    0.5|       0.0|         0.0|                  0.3|       20.19|                NULL|       NULL|           17.69|         false|\n",
            "|       2| 2022-03-14 05:43:00|  2022-03-14 05:52:00|           NULL|     256280.8|      NULL|              NULL|         237|          43|           0|       9.53|  0.0|    0.5|      2.73|         0.0|                  0.3|       15.56|                NULL|       NULL|           10.33|         false|\n",
            "|       2| 2022-02-24 05:10:00|  2022-02-24 05:29:00|           NULL|    253093.44|      NULL|              NULL|         263|         138|           0|      29.87|  0.0|    0.5|      7.75|        6.55|                  0.3|       47.47|                NULL|       NULL|           37.22|         false|\n",
            "|       2| 2022-03-08 07:46:00|  2022-03-08 08:12:00|           NULL|    251855.42|      NULL|              NULL|          33|         162|           0|      26.25|  0.0|    0.5|       0.0|         0.0|                  0.3|       29.55|                NULL|       NULL|           27.05|         false|\n",
            "|       2| 2022-01-31 07:17:00|  2022-01-31 07:44:00|           NULL|    250984.47|      NULL|              NULL|          56|         137|           0|      28.58|  0.0|    0.5|      8.29|        6.55|                  0.3|       46.72|                NULL|       NULL|           35.93|         false|\n",
            "|       2| 2022-03-15 08:14:00|  2022-03-15 08:36:00|           NULL|    247709.73|      NULL|              NULL|         148|         161|           0|      16.91|  0.0|    0.5|      4.66|         0.0|                  0.3|       24.87|                NULL|       NULL|           17.71|         false|\n",
            "|       2| 2022-02-14 23:19:00|  2022-02-14 23:30:00|           NULL|    242748.06|      NULL|              NULL|         211|          87|           0|       9.67|  0.0|    0.5|      1.38|         0.0|                  0.3|       14.35|                NULL|       NULL|           10.47|         false|\n",
            "|       2| 2022-03-06 03:31:00|  2022-03-06 03:48:00|           NULL|    229371.98|      NULL|              NULL|         249|         255|           0|      17.61|  0.0|    0.5|      4.56|         0.0|                  0.3|       25.47|                NULL|       NULL|           18.41|         false|\n",
            "|       2| 2022-03-11 14:18:00|  2022-03-11 14:43:00|           NULL|    217883.08|      NULL|              NULL|         244|          68|           0|      29.34|  0.0|    0.5|      7.14|         0.0|                  0.3|       39.78|                NULL|       NULL|           30.14|         false|\n",
            "|       2| 2022-03-07 05:20:00|  2022-03-07 05:37:00|           NULL|     211629.1|      NULL|              NULL|          74|         261|           0|      30.94|  0.0|    0.5|      5.63|         0.0|                  0.3|       39.87|                NULL|       NULL|           31.74|         false|\n",
            "|       2| 2022-01-15 21:04:00|  2022-01-15 21:14:00|           NULL|    201283.16|      NULL|              NULL|          79|         233|           0|      11.03|  0.0|    0.5|      3.02|         0.0|                  0.3|       17.35|                NULL|       NULL|           11.83|         false|\n",
            "|       2| 2022-03-07 08:30:00|  2022-03-07 08:54:00|           NULL|    199945.06|      NULL|              NULL|          52|         170|           0|      27.61|  0.0|    0.5|       6.8|         0.0|                  0.3|       37.71|                NULL|       NULL|           28.41|         false|\n",
            "|       2| 2022-01-05 07:00:00|  2022-01-05 07:18:00|           NULL|    193150.52|      NULL|              NULL|          42|          70|           0|      29.98|  0.0|    0.5|      8.05|        6.55|                  0.3|       45.38|                NULL|       NULL|           37.33|         false|\n",
            "+--------+--------------------+---------------------+---------------+-------------+----------+------------------+------------+------------+------------+-----------+-----+-------+----------+------------+---------------------+------------+--------------------+-----------+----------------+--------------+\n",
            "only showing top 20 rows\n",
            "\n"
          ]
        }
      ]
    },
    {
      "cell_type": "code",
      "source": [
        "total_sum_df_incorrect_zero_amount = total_sum_df_incorrect.filter(\n",
        "                                    col('total_amount') < 0\n",
        "                                    )\n",
        "\n",
        "print(total_sum_df_incorrect_zero_amount.count())\n",
        "total_sum_df_incorrect_zero_amount.show()"
      ],
      "metadata": {
        "colab": {
          "base_uri": "https://localhost:8080/"
        },
        "id": "Hf9-zg8ZLJ0j",
        "outputId": "56be72be-33f9-4c36-a14a-f21afcc32aa6"
      },
      "execution_count": 31,
      "outputs": [
        {
          "output_type": "stream",
          "name": "stdout",
          "text": [
            "341\n",
            "+--------+--------------------+---------------------+---------------+-------------+----------+------------------+------------+------------+------------+-----------+-----+-------+----------+------------+---------------------+------------+--------------------+-----------+----------------+--------------+\n",
            "|VendorID|tpep_pickup_datetime|tpep_dropoff_datetime|passenger_count|trip_distance|RatecodeID|store_and_fwd_flag|PULocationID|DOLocationID|payment_type|fare_amount|extra|mta_tax|tip_amount|tolls_amount|improvement_surcharge|total_amount|congestion_surcharge|airport_fee|total_amount_sum|is_sum_correct|\n",
            "+--------+--------------------+---------------------+---------------+-------------+----------+------------------+------------+------------+------------+-----------+-----+-------+----------+------------+---------------------+------------+--------------------+-----------+----------------+--------------+\n",
            "|       2| 2022-03-30 16:39:28|  2022-03-30 19:07:15|            1.0|       181.21|       5.0|                 N|         265|         142|           4|     -500.0|  0.0|    0.0|      0.01|         0.0|                 -0.3|     -500.29|                 0.0|        0.0|         -500.30|         false|\n",
            "|       2| 2022-03-27 19:18:52|  2022-03-27 22:43:02|            1.0|       117.21|       4.0|                 N|         170|         170|           4|     -547.0|  0.0|   -0.5|       0.0|       -6.55|                 -0.3|     -556.85|                -2.5|        0.0|         -554.35|         false|\n",
            "|       2| 2022-01-31 22:22:53|  2022-02-01 00:34:41|            1.0|       116.91|       4.0|                 N|         138|         265|           4|     -388.0| -0.5|   -0.5|       0.0|       -18.3|                 -0.3|     -408.85|                 0.0|      -1.25|         -407.60|         false|\n",
            "|       2| 2022-03-28 07:08:18|  2022-03-28 09:24:59|            2.0|        86.37|       4.0|                 N|         132|         265|           4|     -361.0|  0.0|   -0.5|       0.0|       -6.55|                 -0.3|     -369.60|                 0.0|      -1.25|         -368.35|         false|\n",
            "|       2| 2022-02-17 16:05:40|  2022-02-17 17:49:26|            2.0|        75.79|       4.0|                 N|         132|         265|           4|     -235.5| -1.0|   -0.5|      25.0|       -6.55|                 -0.3|     -220.10|                 0.0|      -1.25|         -243.85|         false|\n",
            "|       2| 2022-03-07 12:25:44|  2022-03-07 13:14:57|            2.0|        66.64|       4.0|                 N|         132|           1|           2|     -112.0|  0.0|   -0.5|       0.0|       -18.3|                 -0.3|     -132.35|                 0.0|      -1.25|         -131.10|         false|\n",
            "|       2| 2022-01-07 15:37:09|  2022-01-07 16:23:34|            3.0|        53.05|       3.0|                 N|         132|           1|           4|     -113.0|  0.0|    0.0|       0.0|       -20.3|                 -0.3|     -134.85|                 0.0|      -1.25|         -133.60|         false|\n",
            "|       2| 2022-01-14 19:25:02|  2022-01-14 20:32:19|            2.0|        51.16|       5.0|                 N|         186|         265|           4|     -250.0|  0.0|    0.0|     51.87|       -6.55|                 -0.3|     -207.48|                -2.5|        0.0|         -256.85|         false|\n",
            "|       2| 2022-02-21 08:53:22|  2022-02-21 09:40:22|            1.0|        50.92|       4.0|                 N|         138|         265|           2|        0.0|  0.0|   -0.5|       0.0|         0.0|                 -0.3|       -2.05|                 0.0|      -1.25|           -0.80|         false|\n",
            "|       2| 2022-03-14 19:44:40|  2022-03-14 20:49:19|            1.0|        49.64|       4.0|                 N|         137|         265|           4|     -212.5| -1.0|   -0.5|      20.0|       -6.55|                 -0.3|     -203.35|                -2.5|        0.0|         -220.85|         false|\n",
            "|       2| 2022-03-11 15:24:00|  2022-03-11 17:12:18|            1.0|        48.44|       3.0|                 N|         132|           1|           2|     -119.0|  0.0|    0.0|       0.0|       -24.3|                 -0.3|     -144.85|                 0.0|      -1.25|         -143.60|         false|\n",
            "|       2| 2022-03-10 05:49:53|  2022-03-10 06:30:38|            1.0|        48.25|       4.0|                 N|         132|         265|           4|      -97.0| -0.5|   -0.5|       0.0|       -6.55|                 -0.3|     -106.10|                 0.0|      -1.25|         -104.85|         false|\n",
            "|       2| 2022-02-18 19:29:54|  2022-02-18 20:16:56|            2.0|        47.62|       4.0|                 N|         138|         259|           4|      -58.0| -1.0|   -0.5|       0.0|       -6.55|                 -0.3|      -67.60|                 0.0|      -1.25|          -66.35|         false|\n",
            "|       2| 2022-02-25 13:07:48|  2022-02-25 14:19:56|            1.0|        47.59|       5.0|                 N|         132|         265|           4|     -170.0|  0.0|    0.0|       0.0|      -29.05|                 -0.3|     -200.60|                 0.0|      -1.25|         -199.35|         false|\n",
            "|       2| 2022-03-26 15:10:07|  2022-03-26 16:33:30|            1.0|        47.48|       5.0|                 N|         138|         265|           4|     -170.0|  0.0|    0.0|       0.0|        -9.0|                 -0.3|     -180.55|                 0.0|      -1.25|         -179.30|         false|\n",
            "|       2| 2022-01-11 06:19:19|  2022-01-11 07:03:04|            1.0|        47.01|       4.0|                 N|         132|         265|           4|      -93.0|  0.0|   -0.5|       0.0|       -6.55|                 -0.3|     -101.60|                 0.0|      -1.25|         -100.35|         false|\n",
            "|       2| 2022-01-12 21:27:20|  2022-01-12 22:02:16|            2.0|        46.67|       4.0|                 N|         132|         265|           2|      -91.0| -0.5|   -0.5|       0.0|       -13.1|                 -0.3|     -106.65|                 0.0|      -1.25|         -105.40|         false|\n",
            "|       2| 2022-02-05 20:53:58|  2022-02-05 21:42:45|            2.0|        46.58|       4.0|                 N|         138|         265|           2|     -155.5| -0.5|   -0.5|       0.0|         0.0|                 -0.3|     -158.05|                 0.0|      -1.25|         -156.80|         false|\n",
            "|       2| 2022-02-21 17:24:31|  2022-02-21 18:12:13|            1.0|        46.46|       4.0|                 N|         132|         265|           2|      -88.5|  0.0|   -0.5|       0.0|       -13.1|                 -0.3|     -103.65|                 0.0|      -1.25|         -102.40|         false|\n",
            "|       2| 2022-03-02 07:44:19|  2022-03-02 09:02:33|            2.0|        45.75|       5.0|                 N|         138|         265|           2|     -200.0|  0.0|    0.0|       0.0|       -35.3|                 -0.3|     -236.85|                 0.0|      -1.25|         -235.60|         false|\n",
            "+--------+--------------------+---------------------+---------------+-------------+----------+------------------+------------+------------+------------+-----------+-----+-------+----------+------------+---------------------+------------+--------------------+-----------+----------------+--------------+\n",
            "only showing top 20 rows\n",
            "\n"
          ]
        }
      ]
    },
    {
      "cell_type": "code",
      "source": [
        "test_df = total_sum_df_incorrect_zero_amount.withColumn('total_amount2',\n",
        "                                     when(col('total_amount') != col('total_amount_sum'),\n",
        "                                          format_number(col('total_amount_sum')*-1, 2)\n",
        "                                          )\\\n",
        "                                          .otherwise(\n",
        "                                              format_number(col('total_amount')*-1, 2))\n",
        "\n",
        "                                     )\n",
        "\n",
        "print(test_df.count())\n",
        "test_df.show(200)"
      ],
      "metadata": {
        "colab": {
          "base_uri": "https://localhost:8080/"
        },
        "id": "jDBRwVoCLJtm",
        "outputId": "6c998020-2ade-4167-f90b-6c6111a069d4"
      },
      "execution_count": 44,
      "outputs": [
        {
          "output_type": "stream",
          "name": "stdout",
          "text": [
            "341\n",
            "+--------+--------------------+---------------------+---------------+-------------+----------+------------------+------------+------------+------------+-----------+-----+-------+----------+------------+---------------------+------------+--------------------+-----------+----------------+--------------+-------------+\n",
            "|VendorID|tpep_pickup_datetime|tpep_dropoff_datetime|passenger_count|trip_distance|RatecodeID|store_and_fwd_flag|PULocationID|DOLocationID|payment_type|fare_amount|extra|mta_tax|tip_amount|tolls_amount|improvement_surcharge|total_amount|congestion_surcharge|airport_fee|total_amount_sum|is_sum_correct|total_amount2|\n",
            "+--------+--------------------+---------------------+---------------+-------------+----------+------------------+------------+------------+------------+-----------+-----+-------+----------+------------+---------------------+------------+--------------------+-----------+----------------+--------------+-------------+\n",
            "|       2| 2022-03-30 16:39:28|  2022-03-30 19:07:15|            1.0|       181.21|       5.0|                 N|         265|         142|           4|     -500.0|  0.0|    0.0|      0.01|         0.0|                 -0.3|     -500.29|                 0.0|        0.0|         -500.30|         false|       500.30|\n",
            "|       2| 2022-03-27 19:18:52|  2022-03-27 22:43:02|            1.0|       117.21|       4.0|                 N|         170|         170|           4|     -547.0|  0.0|   -0.5|       0.0|       -6.55|                 -0.3|     -556.85|                -2.5|        0.0|         -554.35|         false|       554.35|\n",
            "|       2| 2022-01-31 22:22:53|  2022-02-01 00:34:41|            1.0|       116.91|       4.0|                 N|         138|         265|           4|     -388.0| -0.5|   -0.5|       0.0|       -18.3|                 -0.3|     -408.85|                 0.0|      -1.25|         -407.60|         false|       407.60|\n",
            "|       2| 2022-03-28 07:08:18|  2022-03-28 09:24:59|            2.0|        86.37|       4.0|                 N|         132|         265|           4|     -361.0|  0.0|   -0.5|       0.0|       -6.55|                 -0.3|     -369.60|                 0.0|      -1.25|         -368.35|         false|       368.35|\n",
            "|       2| 2022-02-17 16:05:40|  2022-02-17 17:49:26|            2.0|        75.79|       4.0|                 N|         132|         265|           4|     -235.5| -1.0|   -0.5|      25.0|       -6.55|                 -0.3|     -220.10|                 0.0|      -1.25|         -243.85|         false|       243.85|\n",
            "|       2| 2022-03-07 12:25:44|  2022-03-07 13:14:57|            2.0|        66.64|       4.0|                 N|         132|           1|           2|     -112.0|  0.0|   -0.5|       0.0|       -18.3|                 -0.3|     -132.35|                 0.0|      -1.25|         -131.10|         false|       131.10|\n",
            "|       2| 2022-01-07 15:37:09|  2022-01-07 16:23:34|            3.0|        53.05|       3.0|                 N|         132|           1|           4|     -113.0|  0.0|    0.0|       0.0|       -20.3|                 -0.3|     -134.85|                 0.0|      -1.25|         -133.60|         false|       133.60|\n",
            "|       2| 2022-01-14 19:25:02|  2022-01-14 20:32:19|            2.0|        51.16|       5.0|                 N|         186|         265|           4|     -250.0|  0.0|    0.0|     51.87|       -6.55|                 -0.3|     -207.48|                -2.5|        0.0|         -256.85|         false|       256.85|\n",
            "|       2| 2022-02-21 08:53:22|  2022-02-21 09:40:22|            1.0|        50.92|       4.0|                 N|         138|         265|           2|        0.0|  0.0|   -0.5|       0.0|         0.0|                 -0.3|       -2.05|                 0.0|      -1.25|           -0.80|         false|         0.80|\n",
            "|       2| 2022-03-14 19:44:40|  2022-03-14 20:49:19|            1.0|        49.64|       4.0|                 N|         137|         265|           4|     -212.5| -1.0|   -0.5|      20.0|       -6.55|                 -0.3|     -203.35|                -2.5|        0.0|         -220.85|         false|       220.85|\n",
            "|       2| 2022-03-11 15:24:00|  2022-03-11 17:12:18|            1.0|        48.44|       3.0|                 N|         132|           1|           2|     -119.0|  0.0|    0.0|       0.0|       -24.3|                 -0.3|     -144.85|                 0.0|      -1.25|         -143.60|         false|       143.60|\n",
            "|       2| 2022-03-10 05:49:53|  2022-03-10 06:30:38|            1.0|        48.25|       4.0|                 N|         132|         265|           4|      -97.0| -0.5|   -0.5|       0.0|       -6.55|                 -0.3|     -106.10|                 0.0|      -1.25|         -104.85|         false|       104.85|\n",
            "|       2| 2022-02-18 19:29:54|  2022-02-18 20:16:56|            2.0|        47.62|       4.0|                 N|         138|         259|           4|      -58.0| -1.0|   -0.5|       0.0|       -6.55|                 -0.3|      -67.60|                 0.0|      -1.25|          -66.35|         false|        66.35|\n",
            "|       2| 2022-02-25 13:07:48|  2022-02-25 14:19:56|            1.0|        47.59|       5.0|                 N|         132|         265|           4|     -170.0|  0.0|    0.0|       0.0|      -29.05|                 -0.3|     -200.60|                 0.0|      -1.25|         -199.35|         false|       199.35|\n",
            "|       2| 2022-03-26 15:10:07|  2022-03-26 16:33:30|            1.0|        47.48|       5.0|                 N|         138|         265|           4|     -170.0|  0.0|    0.0|       0.0|        -9.0|                 -0.3|     -180.55|                 0.0|      -1.25|         -179.30|         false|       179.30|\n",
            "|       2| 2022-01-11 06:19:19|  2022-01-11 07:03:04|            1.0|        47.01|       4.0|                 N|         132|         265|           4|      -93.0|  0.0|   -0.5|       0.0|       -6.55|                 -0.3|     -101.60|                 0.0|      -1.25|         -100.35|         false|       100.35|\n",
            "|       2| 2022-01-12 21:27:20|  2022-01-12 22:02:16|            2.0|        46.67|       4.0|                 N|         132|         265|           2|      -91.0| -0.5|   -0.5|       0.0|       -13.1|                 -0.3|     -106.65|                 0.0|      -1.25|         -105.40|         false|       105.40|\n",
            "|       2| 2022-02-05 20:53:58|  2022-02-05 21:42:45|            2.0|        46.58|       4.0|                 N|         138|         265|           2|     -155.5| -0.5|   -0.5|       0.0|         0.0|                 -0.3|     -158.05|                 0.0|      -1.25|         -156.80|         false|       156.80|\n",
            "|       2| 2022-02-21 17:24:31|  2022-02-21 18:12:13|            1.0|        46.46|       4.0|                 N|         132|         265|           2|      -88.5|  0.0|   -0.5|       0.0|       -13.1|                 -0.3|     -103.65|                 0.0|      -1.25|         -102.40|         false|       102.40|\n",
            "|       2| 2022-03-02 07:44:19|  2022-03-02 09:02:33|            2.0|        45.75|       5.0|                 N|         138|         265|           2|     -200.0|  0.0|    0.0|       0.0|       -35.3|                 -0.3|     -236.85|                 0.0|      -1.25|         -235.60|         false|       235.60|\n",
            "|       2| 2022-01-28 18:08:24|  2022-01-28 18:58:27|            1.0|        45.06|       4.0|                 N|         132|         265|           3|      -84.5| -1.0|   -0.5|       0.0|       -6.55|                 -0.3|      -94.10|                 0.0|      -1.25|          -92.85|         false|        92.85|\n",
            "|       2| 2022-01-26 17:42:57|  2022-01-26 19:27:50|            1.0|        44.83|       1.0|                 N|         132|         124|           2|     -128.0| -1.0|   -0.5|       0.0|      -13.55|                 -0.3|     -144.60|                 0.0|      -1.25|         -143.35|         false|       143.35|\n",
            "|       2| 2022-02-26 01:26:13|  2022-02-26 01:56:26|            1.0|        43.62|       4.0|                 N|         132|         265|           4|      -68.0| -0.5|   -0.5|       0.0|       -6.55|                 -0.3|      -77.10|                 0.0|      -1.25|          -75.85|         false|        75.85|\n",
            "|       2| 2022-02-01 23:31:22|  2022-02-02 00:24:03|            1.0|        43.35|       5.0|                 N|         233|         265|           2|     -200.0|  0.0|    0.0|       0.0|         0.0|                 -0.3|     -202.80|                -2.5|        0.0|         -200.30|         false|       200.30|\n",
            "|       2| 2022-03-17 09:16:01|  2022-03-17 10:16:40|            1.0|        41.81|       3.0|                 N|         132|           1|           2|        0.0|  0.0|    0.0|       0.0|         0.0|                 -0.3|       -1.55|                 0.0|      -1.25|           -0.30|         false|         0.30|\n",
            "|       2| 2022-02-28 19:11:20|  2022-02-28 19:53:52|            1.0|        40.53|       4.0|                 N|         230|         265|           4|      -66.5| -1.0|   -0.5|       0.0|       -6.55|                 -0.3|      -77.35|                -2.5|        0.0|          -74.85|         false|        74.85|\n",
            "|       2| 2022-03-09 15:08:18|  2022-03-09 16:26:13|            1.0|        39.57|       1.0|                 N|         132|          42|           4|      -69.5|  0.0|   -0.5|       0.0|       -6.55|                 -0.3|      -78.10|                 0.0|      -1.25|          -76.85|         false|        76.85|\n",
            "|       2| 2022-03-14 15:48:43|  2022-03-14 17:13:53|            1.0|        39.03|       5.0|                 N|         132|           1|           4|     -200.0|  0.0|    0.0|       0.0|         0.0|                 -0.3|     -201.55|                 0.0|      -1.25|         -200.30|         false|       200.30|\n",
            "|       2| 2022-02-05 03:25:27|  2022-02-05 04:26:27|            1.0|        38.75|       5.0|                 N|         211|         265|           4|     -355.0|  0.0|    0.0|     71.56|         0.0|                 -0.3|     -286.24|                -2.5|        0.0|         -355.30|         false|       355.30|\n",
            "|       2| 2022-03-09 15:16:58|  2022-03-09 16:13:21|            2.0|        38.04|       1.0|                 N|         132|          18|           4|      -59.0|  0.0|   -0.5|       0.0|       -6.55|                 -0.3|      -67.60|                 0.0|      -1.25|          -66.35|         false|        66.35|\n",
            "|       2| 2022-03-23 23:24:15|  2022-03-24 00:17:11|            3.0|        37.41|       5.0|                 N|         132|           1|           3|     -154.0|  0.0|    0.0|       0.0|       -18.3|                 -0.3|     -173.85|                 0.0|      -1.25|         -172.60|         false|       172.60|\n",
            "|       2| 2022-02-24 18:46:35|  2022-02-24 19:47:01|            1.0|        37.35|       4.0|                 N|         132|         265|           2|        0.0|  0.0|   -0.5|       0.0|         0.0|                 -0.3|       -2.05|                 0.0|      -1.25|           -0.80|         false|         0.80|\n",
            "|       2| 2022-01-31 19:26:39|  2022-01-31 20:02:41|            1.0|        37.15|       1.0|                 N|         132|          66|           4|      -50.5| -1.0|   -0.5|       0.0|         0.0|                 -0.3|      -53.55|                 0.0|      -1.25|          -52.30|         false|        52.30|\n",
            "|       2| 2022-01-05 16:38:10|  2022-01-05 18:08:35|            1.0|        36.69|       3.0|                 N|         132|          29|           4|     -122.5| -1.0|    0.0|       0.0|       -6.55|                 -0.3|     -131.60|                 0.0|      -1.25|         -130.35|         false|       130.35|\n",
            "|       2| 2022-03-10 23:52:27|  2022-03-11 00:46:55|            1.0|        35.87|       5.0|                 N|         138|         265|           4|     -145.0|  0.0|    0.0|       0.0|       -83.0|                 -0.3|     -229.55|                 0.0|      -1.25|         -228.30|         false|       228.30|\n",
            "|       2| 2022-02-14 09:48:18|  2022-02-14 10:38:11|            1.0|        34.07|       1.0|                 N|         132|         265|           3|      -89.0|  0.0|   -0.5|       0.0|       -6.55|                 -0.3|      -97.60|                 0.0|      -1.25|          -96.35|         false|        96.35|\n",
            "|       2| 2022-01-24 20:48:08|  2022-01-24 23:19:13|            1.0|        33.59|       2.0|                 N|         132|         132|           2|      -52.0|  0.0|   -0.5|       0.0|         0.0|                 -0.3|      -56.55|                -2.5|      -1.25|          -52.80|         false|        52.80|\n",
            "|       2| 2022-03-14 21:18:26|  2022-03-14 22:43:19|            1.0|        33.52|       1.0|                 N|         132|         132|           2|      -87.5| -0.5|   -0.5|       0.0|         0.0|                 -0.3|      -90.05|                 0.0|      -1.25|          -88.80|         false|        88.80|\n",
            "|       2| 2022-03-07 20:04:45|  2022-03-07 21:21:15|            1.0|        32.33|       1.0|                 N|         132|         219|           4|      -95.5| -0.5|   -0.5|       0.0|         0.0|                 -0.3|      -98.05|                 0.0|      -1.25|          -96.80|         false|        96.80|\n",
            "|       2| 2022-02-25 22:48:43|  2022-02-25 23:18:41|            3.0|        32.31|       4.0|                 N|         138|         265|           2|      -60.5| -0.5|   -0.5|       0.0|       -6.55|                 -0.3|      -69.60|                 0.0|      -1.25|          -68.35|         false|        68.35|\n",
            "|       2| 2022-01-04 17:07:59|  2022-01-04 17:46:21|            1.0|        32.29|       4.0|                 N|         246|         265|           4|      -66.0| -1.0|   -0.5|       0.0|        -3.0|                 -0.3|      -73.30|                -2.5|        0.0|          -70.80|         false|        70.80|\n",
            "|       2| 2022-02-15 22:03:23|  2022-02-15 22:39:40|            1.0|        32.03|       4.0|                 N|         132|         265|           4|     -118.5| -0.5|   -0.5|       0.0|         0.0|                 -0.3|     -121.05|                 0.0|      -1.25|         -119.80|         false|       119.80|\n",
            "|       2| 2022-02-19 16:31:19|  2022-02-19 17:19:45|            1.0|        31.68|       4.0|                 N|         132|         265|           4|     -108.5|  0.0|   -0.5|       0.0|       -8.21|                 -0.3|     -118.76|                 0.0|      -1.25|         -117.51|         false|       117.51|\n",
            "|       2| 2022-01-10 15:23:52|  2022-01-10 16:07:17|            1.0|        30.44|       1.0|                 N|         140|         134|           4|      -46.5|  0.0|   -0.5|       0.0|       -6.55|                 -0.3|      -56.35|                -2.5|        0.0|          -53.85|         false|        53.85|\n",
            "|       2| 2022-01-30 12:27:00|  2022-01-30 13:12:00|           NULL|        30.18|      NULL|              NULL|         262|           1|           0|     -159.5|  0.0|    0.0|     13.12|       13.75|                  0.3|     -132.33|                NULL|       NULL|         -145.45|         false|       145.45|\n",
            "|       2| 2022-02-28 19:33:14|  2022-02-28 20:00:47|            1.0|        29.96|       1.0|                 N|         132|         145|           3|      -41.5| -1.0|   -0.5|       0.0|         0.0|                 -0.3|      -44.55|                 0.0|      -1.25|          -43.30|         false|        43.30|\n",
            "|       2| 2022-02-14 22:23:17|  2022-02-14 23:39:36|            2.0|        29.86|       1.0|                 N|         163|         161|           4|      -89.0| -0.5|   -0.5|       0.0|         0.0|                 -0.3|      -92.80|                -2.5|        0.0|          -90.30|         false|        90.30|\n",
            "|       2| 2022-03-07 23:33:58|  2022-03-08 00:15:11|            2.0|         29.4|       1.0|                 N|         132|         220|           4|      -77.5| -0.5|   -0.5|       0.0|       -6.55|                 -0.3|      -86.60|                 0.0|      -1.25|          -85.35|         false|        85.35|\n",
            "|       2| 2022-02-21 11:58:10|  2022-02-21 12:34:58|            1.0|        28.96|       2.0|                 N|         132|         265|           4|      -52.0|  0.0|   -0.5|       0.0|         0.0|                 -0.3|      -54.05|                 0.0|      -1.25|          -52.80|         false|        52.80|\n",
            "|       2| 2022-01-16 12:24:13|  2022-01-16 13:22:22|            1.0|         28.9|       1.0|                 N|         132|          49|           2|      -80.0|  0.0|   -0.5|       0.0|         0.0|                 -0.3|      -82.05|                 0.0|      -1.25|          -80.80|         false|        80.80|\n",
            "|       2| 2022-01-30 12:39:28|  2022-01-30 13:13:38|            1.0|         28.7|       1.0|                 N|         138|         265|           4|      -74.0|  0.0|   -0.5|       0.0|       -6.55|                 -0.3|      -82.60|                 0.0|      -1.25|          -81.35|         false|        81.35|\n",
            "|       2| 2022-03-25 23:16:18|  2022-03-26 00:09:53|            1.0|        28.58|       1.0|                 N|         234|         157|           4|      -78.5| -0.5|   -0.5|       0.0|       -6.55|                 -0.3|      -88.85|                -2.5|        0.0|          -86.35|         false|        86.35|\n",
            "|       2| 2022-01-27 19:39:23|  2022-01-27 20:33:40|            2.0|         28.5|       1.0|                 N|         164|         210|           4|      -62.5| -1.0|   -0.5|       0.0|       -6.55|                 -0.3|      -73.35|                -2.5|        0.0|          -70.85|         false|        70.85|\n",
            "|       2| 2022-03-03 15:32:07|  2022-03-03 16:31:53|            2.0|        28.47|       1.0|                 N|         132|          40|           4|      -77.5|  0.0|   -0.5|       0.0|         0.0|                 -0.3|      -79.55|                 0.0|      -1.25|          -78.30|         false|        78.30|\n",
            "|       2| 2022-02-07 23:39:04|  2022-02-08 00:11:33|            2.0|        28.33|       2.0|                 N|         132|          13|           4|      -52.0|  0.0|   -0.5|       0.0|       -6.55|                 -0.3|      -63.10|                -2.5|      -1.25|          -59.35|         false|        59.35|\n",
            "|       2| 2022-03-29 22:59:45|  2022-03-29 23:49:00|            2.0|        28.18|       1.0|                 N|         132|         109|           4|      -76.5| -0.5|   -0.5|       0.0|       -13.1|                 -0.3|      -92.15|                 0.0|      -1.25|          -90.90|         false|        90.90|\n",
            "|       2| 2022-03-25 15:44:21|  2022-03-25 17:12:06|            1.0|         28.0|       2.0|                 N|         132|          88|           4|      -52.0|  0.0|   -0.5|       0.0|       -6.55|                 -0.3|      -63.10|                -2.5|      -1.25|          -59.35|         false|        59.35|\n",
            "|       2| 2022-02-14 19:35:27|  2022-02-14 20:02:38|            2.0|        27.93|       1.0|                 N|         132|         155|           4|      -40.0| -1.0|   -0.5|       0.0|         0.0|                 -0.3|      -43.05|                 0.0|      -1.25|          -41.80|         false|        41.80|\n",
            "|       2| 2022-02-19 18:40:59|  2022-02-19 19:21:36|            1.0|        27.85|       4.0|                 N|         132|         265|           2|     -125.0|  0.0|   -0.5|       0.0|         0.0|                 -0.3|     -127.05|                 0.0|      -1.25|         -125.80|         false|       125.80|\n",
            "|       2| 2022-03-26 18:17:21|  2022-03-26 18:59:14|            1.0|        27.82|       1.0|                 N|         132|         231|           4|      -73.0|  0.0|   -0.5|       0.0|       -6.55|                 -0.3|      -82.85|                -2.5|        0.0|          -80.35|         false|        80.35|\n",
            "|       2| 2022-02-15 15:45:17|  2022-02-15 17:11:29|            2.0|         27.8|       2.0|                 N|         158|         132|           4|      -52.0|  0.0|   -0.5|       0.0|       -6.55|                 -0.3|      -61.85|                -2.5|        0.0|          -59.35|         false|        59.35|\n",
            "|       2| 2022-02-05 15:55:54|  2022-02-05 16:41:38|            2.0|         27.7|       2.0|                 N|         132|         261|           2|        0.0|  0.0|   -0.5|       0.0|         0.0|                 -0.3|       -4.55|                -2.5|      -1.25|           -0.80|         false|         0.80|\n",
            "|       2| 2022-02-22 15:40:16|  2022-02-23 00:00:00|            1.0|        27.65|       1.0|                 N|         132|          89|           2|        0.0|  0.0|   -0.5|       0.0|         0.0|                 -0.3|       -2.05|                 0.0|      -1.25|           -0.80|         false|         0.80|\n",
            "|       2| 2022-01-11 21:26:08|  2022-01-11 22:34:57|            1.0|        27.61|       1.0|                 N|         219|         160|           4|      -78.0| -0.5|   -0.5|       0.0|         0.0|                 -0.3|      -81.80|                -2.5|        0.0|          -79.30|         false|        79.30|\n",
            "|       2| 2022-03-02 23:01:12|  2022-03-02 23:58:33|            1.0|        27.54|       1.0|                 N|         132|         247|           4|      -78.0| -0.5|   -0.5|       0.0|       -6.55|                 -0.3|      -87.10|                 0.0|      -1.25|          -85.85|         false|        85.85|\n",
            "|       2| 2022-03-28 08:46:57|  2022-03-28 10:00:09|            1.0|        27.47|       1.0|                 N|         132|         126|           4|      -75.0|  0.0|   -0.5|       0.0|       -6.55|                 -0.3|      -83.60|                 0.0|      -1.25|          -82.35|         false|        82.35|\n",
            "|       2| 2022-01-13 14:14:42|  2022-01-13 15:06:27|            1.0|        27.35|       1.0|                 N|         132|         181|           2|      -76.0|  0.0|   -0.5|       0.0|         0.0|                 -0.3|      -78.05|                 0.0|      -1.25|          -76.80|         false|        76.80|\n",
            "|       2| 2022-01-21 10:00:37|  2022-01-21 10:24:55|            1.0|        27.29|       4.0|                 N|         138|         265|           4|      -46.5|  0.0|   -0.5|       0.0|       -6.55|                 -0.3|      -55.10|                 0.0|      -1.25|          -53.85|         false|        53.85|\n",
            "|       2| 2022-01-05 06:49:22|  2022-01-05 08:37:14|            1.0|        27.13|       1.0|                 N|         193|         193|           3|      -94.5|  0.0|   -0.5|       0.0|       -6.55|                 -0.3|     -103.10|                 0.0|      -1.25|         -101.85|         false|       101.85|\n",
            "|       2| 2022-01-07 15:14:14|  2022-01-07 16:04:56|            1.0|        27.02|       1.0|                 N|         264|          39|           4|      -48.0|  0.0|   -0.5|       0.0|         0.0|                 -0.3|      -52.55|                -2.5|      -1.25|          -48.80|         false|        48.80|\n",
            "|       2| 2022-03-12 22:24:06|  2022-03-12 23:05:06|            1.0|        26.98|       1.0|                 N|         132|         257|           4|      -73.0| -0.5|   -0.5|       0.0|         0.0|                 -0.3|      -75.55|                 0.0|      -1.25|          -74.30|         false|        74.30|\n",
            "|       2| 2022-02-28 19:41:59|  2022-02-28 20:11:21|            1.0|        26.92|       1.0|                 N|         132|         255|           2|      -44.0| -1.0|   -0.5|       8.0|         0.0|                 -0.3|      -39.05|                 0.0|      -1.25|          -45.80|         false|        45.80|\n",
            "|       2| 2022-01-21 20:25:13|  2022-01-21 21:01:03|            1.0|        26.88|       5.0|                 N|         132|         265|           4|     -160.0|  0.0|    0.0|       0.0|         0.0|                 -0.3|     -161.55|                 0.0|      -1.25|         -160.30|         false|       160.30|\n",
            "|       2| 2022-03-14 09:20:03|  2022-03-14 10:29:03|            1.0|        26.87|       2.0|                 N|         132|         140|           4|      -52.0|  0.0|   -0.5|       0.0|       -6.55|                 -0.3|      -63.10|                -2.5|      -1.25|          -59.35|         false|        59.35|\n",
            "|       2| 2022-02-20 10:37:15|  2022-02-20 11:44:12|            1.0|        26.75|       1.0|                 N|         161|         161|           4|      -78.5| -0.5|   -0.5|       0.0|       -6.55|                 -0.3|      -88.85|                -2.5|        0.0|          -86.35|         false|        86.35|\n",
            "|       2| 2022-01-05 22:18:53|  2022-01-05 22:52:24|            1.0|        26.73|       1.0|                 N|         132|         200|           2|      -69.5| -0.5|   -0.5|       0.0|       -6.55|                 -0.3|      -78.60|                 0.0|      -1.25|          -77.35|         false|        77.35|\n",
            "|       2| 2022-01-31 07:01:43|  2022-01-31 08:02:27|            1.0|         26.7|       1.0|                 N|         132|         176|           4|      -76.0|  0.0|   -0.5|       0.0|      -13.55|                 -0.3|      -91.60|                 0.0|      -1.25|          -90.35|         false|        90.35|\n",
            "|       2| 2022-03-25 15:24:45|  2022-03-25 16:05:29|            1.0|        26.65|       1.0|                 N|         132|         226|           4|      -40.5|  0.0|   -0.5|       0.0|         0.0|                 -0.3|      -42.55|                 0.0|      -1.25|          -41.30|         false|        41.30|\n",
            "|       2| 2022-02-07 15:54:11|  2022-02-07 16:59:48|            2.0|        26.58|       1.0|                 N|         132|         136|           4|      -68.5|  0.0|   -0.5|       0.0|       -6.55|                 -0.3|      -77.10|                 0.0|      -1.25|          -75.85|         false|        75.85|\n",
            "|       2| 2022-02-25 09:16:10|  2022-02-25 09:55:00|            1.0|        26.56|       1.0|                 N|         132|          13|           4|      -69.0|  0.0|   -0.5|       0.0|       -6.55|                 -0.3|      -78.85|                -2.5|        0.0|          -76.35|         false|        76.35|\n",
            "|       2| 2022-01-31 19:37:01|  2022-01-31 20:04:42|            2.0|        26.29|       1.0|                 N|         132|         157|           4|      -38.5| -1.0|   -0.5|       0.0|         0.0|                 -0.3|      -41.55|                 0.0|      -1.25|          -40.30|         false|        40.30|\n",
            "|       2| 2022-01-17 20:16:08|  2022-01-17 20:54:00|            1.0|        26.16|       1.0|                 N|         132|         220|           2|        0.0|  0.0|   -0.5|       0.0|         0.0|                 -0.3|       -2.05|                 0.0|      -1.25|           -0.80|         false|         0.80|\n",
            "|       2| 2022-01-07 09:08:18|  2022-01-07 09:43:40|            1.0|        26.14|       1.0|                 N|         132|         195|           4|      -68.5|  0.0|   -0.5|       0.0|         0.0|                 -0.3|      -70.55|                 0.0|      -1.25|          -69.30|         false|        69.30|\n",
            "|       2| 2022-01-22 10:03:44|  2022-01-22 10:48:46|            3.0|         26.1|       3.0|                 N|         132|         265|           4|      -86.5|  0.0|    0.0|       0.0|       -20.3|                 -0.3|     -108.35|                 0.0|      -1.25|         -107.10|         false|       107.10|\n",
            "|       2| 2022-02-23 19:47:38|  2022-02-23 20:40:55|            2.0|        26.04|       1.0|                 N|         161|         192|           4|      -70.5| -1.0|   -0.5|       0.0|       -6.55|                 -0.3|      -81.35|                -2.5|        0.0|          -78.85|         false|        78.85|\n",
            "|       2| 2022-02-28 21:31:54|  2022-02-28 22:13:58|            2.0|         26.0|       1.0|                 N|         132|          91|           4|      -71.0| -0.5|   -0.5|       0.0|         0.0|                 -0.3|      -73.55|                 0.0|      -1.25|          -72.30|         false|        72.30|\n",
            "|       2| 2022-02-20 05:34:36|  2022-02-20 06:03:23|            1.0|        25.97|       1.0|                 N|         132|         257|           4|      -67.5| -0.5|   -0.5|       0.0|         0.0|                 -0.3|      -70.05|                 0.0|      -1.25|          -68.80|         false|        68.80|\n",
            "|       2| 2022-03-08 02:10:23|  2022-03-08 02:53:04|            2.0|        25.92|       1.0|                 N|         132|         257|           2|      -70.5| -0.5|   -0.5|       0.0|         0.0|                 -0.3|      -73.05|                 0.0|      -1.25|          -71.80|         false|        71.80|\n",
            "|       2| 2022-03-17 22:44:52|  2022-03-17 23:24:30|            1.0|        25.91|       1.0|                 N|         132|          70|           4|      -68.5| -0.5|   -0.5|       0.0|         0.0|                 -0.3|      -71.05|                 0.0|      -1.25|          -69.80|         false|        69.80|\n",
            "|       2| 2022-02-02 08:59:49|  2022-02-02 09:30:53|            1.0|        25.76|       4.0|                 N|         132|         252|           2|      -74.5|  0.0|   -0.5|       0.0|         0.0|                 -0.3|      -76.55|                 0.0|      -1.25|          -75.30|         false|        75.30|\n",
            "|       2| 2022-01-19 19:05:25|  2022-01-19 19:52:51|            1.0|        25.61|       1.0|                 N|          68|          39|           4|      -70.5| -1.0|   -0.5|       0.0|       -6.55|                 -0.3|      -81.35|                -2.5|        0.0|          -78.85|         false|        78.85|\n",
            "|       2| 2022-02-10 19:47:09|  2022-02-10 20:09:22|            1.0|        25.59|       1.0|                 N|         132|          55|           4|      -42.5| -1.0|   -0.5|       0.0|         0.0|                 -0.3|      -45.55|                 0.0|      -1.25|          -44.30|         false|        44.30|\n",
            "|       2| 2022-03-30 15:47:12|  2022-03-30 16:42:11|            3.0|        25.51|       1.0|                 N|         132|          26|           3|      -71.0|  0.0|   -0.5|       0.0|         0.0|                 -0.3|      -75.55|                -2.5|      -1.25|          -71.80|         false|        71.80|\n",
            "|       2| 2022-02-03 14:52:47|  2022-02-03 16:52:23|            1.0|        25.35|       2.0|                 N|         132|         148|           2|      -52.0|  0.0|   -0.5|       0.0|         0.0|                 -0.3|      -56.55|                -2.5|      -1.25|          -52.80|         false|        52.80|\n",
            "|       2| 2022-03-26 23:27:59|  2022-03-27 00:14:26|            1.0|         25.2|       1.0|                 N|         132|          23|           3|      -70.0| -0.5|   -0.5|       0.0|       -6.55|                 -0.3|      -79.10|                 0.0|      -1.25|          -77.85|         false|        77.85|\n",
            "|       2| 2022-02-01 15:31:16|  2022-02-01 16:08:19|            1.0|        25.04|       1.0|                 N|         138|         131|           4|      -40.0|  0.0|   -0.5|       0.0|         0.0|                 -0.3|      -44.55|                -2.5|      -1.25|          -40.80|         false|        40.80|\n",
            "|       2| 2022-03-20 14:09:27|  2022-03-20 15:05:28|            1.0|         25.0|       5.0|                 N|         138|         265|           2|        0.0|  0.0|    0.0|       0.0|         0.0|                 -0.3|       -1.55|                 0.0|      -1.25|           -0.30|         false|         0.30|\n",
            "|       2| 2022-01-27 17:42:03|  2022-01-27 18:43:58|            2.0|        24.99|       1.0|                 N|         132|          93|           4|      -67.0| -1.0|   -0.5|       0.0|         0.0|                 -0.3|      -70.05|                 0.0|      -1.25|          -68.80|         false|        68.80|\n",
            "|       2| 2022-03-18 08:48:45|  2022-03-18 09:25:14|            1.0|        24.83|       4.0|                 N|         132|         265|           2|      -94.0|  0.0|   -0.5|       0.0|         0.0|                 -0.3|      -96.05|                 0.0|      -1.25|          -94.80|         false|        94.80|\n",
            "|       2| 2022-01-14 22:58:48|  2022-01-14 23:36:09|            1.0|         24.8|       1.0|                 N|         132|         227|           4|      -66.5| -0.5|   -0.5|       0.0|         0.0|                 -0.3|      -69.05|                 0.0|      -1.25|          -67.80|         false|        67.80|\n",
            "|       2| 2022-02-01 23:17:20|  2022-02-01 23:53:49|            2.0|        24.58|       1.0|                 N|         132|           3|           4|      -65.5| -0.5|   -0.5|       0.0|       -13.1|                 -0.3|      -81.15|                 0.0|      -1.25|          -79.90|         false|        79.90|\n",
            "|       2| 2022-03-10 23:27:16|  2022-03-11 00:01:25|            1.0|        24.55|       1.0|                 N|         132|          26|           4|      -65.0| -0.5|   -0.5|       0.0|         0.0|                 -0.3|      -67.55|                 0.0|      -1.25|          -66.30|         false|        66.30|\n",
            "|       2| 2022-02-24 19:39:56|  2022-02-24 20:13:44|            1.0|        24.53|       1.0|                 N|         138|          68|           4|      -39.5| -1.0|   -0.5|       0.0|       -6.55|                 -0.3|      -51.60|                -2.5|      -1.25|          -47.85|         false|        47.85|\n",
            "|       2| 2022-02-12 10:58:35|  2022-02-12 11:52:07|            1.0|        24.49|       1.0|                 N|         138|         152|           4|      -65.0|  0.0|   -0.5|       0.0|       -9.55|                 -0.3|      -76.60|                 0.0|      -1.25|          -75.35|         false|        75.35|\n",
            "|       2| 2022-01-14 06:54:22|  2022-01-14 07:50:48|            1.0|        24.45|       1.0|                 N|         132|         227|           2|        0.0|  0.0|   -0.5|       0.0|         0.0|                 -0.3|       -2.05|                 0.0|      -1.25|           -0.80|         false|         0.80|\n",
            "|       2| 2022-03-04 18:55:53|  2022-03-04 20:10:17|            1.0|        24.43|       1.0|                 N|          24|          62|           4|      -54.0| -1.0|   -0.5|       0.0|         0.0|                 -0.3|      -58.30|                -2.5|        0.0|          -55.80|         false|        55.80|\n",
            "|       2| 2022-02-25 09:37:54|  2022-02-25 10:29:16|            1.0|        24.23|       1.0|                 N|          70|         126|           2|      -65.5|  0.0|   -0.5|       0.0|       -6.55|                 -0.3|      -74.10|                 0.0|      -1.25|          -72.85|         false|        72.85|\n",
            "|       2| 2022-02-28 15:02:59|  2022-02-28 16:02:22|            1.0|        24.13|       1.0|                 N|          97|          41|           2|      -46.5|  0.0|   -0.5|       0.0|         0.0|                 -0.3|      -49.80|                -2.5|        0.0|          -47.30|         false|        47.30|\n",
            "|       2| 2022-01-02 21:42:27|  2022-01-02 22:12:53|            1.0|        24.13|       1.0|                 N|         132|         254|           4|      -63.5| -0.5|   -0.5|       0.0|       -6.55|                 -0.3|      -72.60|                 0.0|      -1.25|          -71.35|         false|        71.35|\n",
            "|       2| 2022-03-08 10:47:11|  2022-03-08 11:42:33|            1.0|        24.05|       1.0|                 N|         132|          69|           2|      -68.0|  0.0|   -0.5|       0.0|       -6.55|                 -0.3|      -76.60|                 0.0|      -1.25|          -75.35|         false|        75.35|\n",
            "|       2| 2022-01-10 19:31:36|  2022-01-10 20:09:52|            1.0|        24.04|       1.0|                 N|         132|         259|           4|      -65.5| -1.0|   -0.5|       0.0|       -6.55|                 -0.3|      -75.10|                 0.0|      -1.25|          -73.85|         false|        73.85|\n",
            "|       2| 2022-01-09 23:11:43|  2022-01-09 23:56:29|            1.0|        23.99|       2.0|                 N|         132|         229|           4|      -52.0|  0.0|   -0.5|       0.0|       -6.55|                 -0.3|      -63.10|                -2.5|      -1.25|          -59.35|         false|        59.35|\n",
            "|       2| 2022-02-02 14:45:35|  2022-02-02 15:58:47|            1.0|        23.95|       1.0|                 N|         164|         248|           4|      -48.5|  0.0|   -0.5|       0.0|         0.0|                 -0.3|      -51.80|                -2.5|        0.0|          -49.30|         false|        49.30|\n",
            "|       2| 2022-02-12 16:35:22|  2022-02-12 17:43:41|            1.0|        23.93|       1.0|                 N|         138|         265|           4|      -68.5|  0.0|   -0.5|       0.0|       -13.1|                 -0.3|      -83.65|                 0.0|      -1.25|          -82.40|         false|        82.40|\n",
            "|       2| 2022-03-18 15:05:59|  2022-03-18 16:01:52|            1.0|        23.88|       1.0|                 N|         223|         261|           2|      -44.5|  0.0|   -0.5|       0.0|       -6.55|                 -0.3|      -55.60|                -2.5|      -1.25|          -51.85|         false|        51.85|\n",
            "|       2| 2022-02-03 18:40:10|  2022-02-03 19:37:58|            1.0|        23.87|       1.0|                 N|         132|          26|           2|        0.0|  0.0|   -0.5|       0.0|         0.0|                 -0.3|       -2.05|                 0.0|      -1.25|           -0.80|         false|         0.80|\n",
            "|       2| 2022-02-28 19:22:30|  2022-02-28 19:57:48|            1.0|         23.8|       1.0|                 N|         132|         227|           3|      -62.5| -1.0|   -0.5|       0.0|         0.0|                 -0.3|      -65.55|                 0.0|      -1.25|          -64.30|         false|        64.30|\n",
            "|       2| 2022-03-07 11:01:57|  2022-03-07 11:45:54|            1.0|        23.77|       1.0|                 N|         170|         155|           4|      -64.5|  0.0|   -0.5|       0.0|         0.0|                 -0.3|      -67.80|                -2.5|        0.0|          -65.30|         false|        65.30|\n",
            "|       2| 2022-02-17 16:35:44|  2022-02-17 17:46:34|            1.0|        23.67|       1.0|                 N|         264|          14|           2|      -51.5| -1.0|   -0.5|       0.0|         0.0|                 -0.3|      -55.80|                -2.5|        0.0|          -53.30|         false|        53.30|\n",
            "|       2| 2022-03-08 18:12:41|  2022-03-08 18:52:14|            1.0|        23.64|       1.0|                 N|         132|           6|           2|      -62.5| -1.0|   -0.5|       0.0|       -13.1|                 -0.3|      -78.65|                 0.0|      -1.25|          -77.40|         false|        77.40|\n",
            "|       2| 2022-01-04 18:08:15|  2022-01-04 18:55:13|            2.0|        23.51|       1.0|                 N|         132|          40|           4|      -64.0| -1.0|   -0.5|       0.0|         0.0|                 -0.3|      -67.05|                 0.0|      -1.25|          -65.80|         false|        65.80|\n",
            "|       2| 2022-02-20 23:49:36|  2022-02-21 00:25:28|            1.0|        23.49|       1.0|                 N|         138|          55|           4|      -63.0| -0.5|   -0.5|       0.0|         0.0|                 -0.3|      -68.05|                -2.5|      -1.25|          -64.30|         false|        64.30|\n",
            "|       2| 2022-03-16 23:53:30|  2022-03-17 00:29:02|            1.0|        23.41|       1.0|                 N|         132|         220|           4|      -62.5| -0.5|   -0.5|       0.0|       -6.55|                 -0.3|      -71.60|                 0.0|      -1.25|          -70.35|         false|        70.35|\n",
            "|       2| 2022-02-11 16:16:58|  2022-02-11 17:25:34|            2.0|        23.39|       1.0|                 N|         132|         248|           4|      -70.5| -1.0|   -0.5|       0.0|         0.0|                 -0.3|      -73.55|                 0.0|      -1.25|          -72.30|         false|        72.30|\n",
            "|       2| 2022-03-01 19:13:50|  2022-03-01 19:52:46|            1.0|        23.36|       1.0|                 N|         132|         220|           4|      -62.0| -1.0|   -0.5|       0.0|       -6.55|                 -0.3|      -71.60|                 0.0|      -1.25|          -70.35|         false|        70.35|\n",
            "|       2| 2022-02-18 16:35:40|  2022-02-18 18:07:33|            1.0|        23.35|       1.0|                 N|         132|          54|           4|      -75.5| -0.5|   -0.5|       0.0|         0.0|                 -0.3|      -78.05|                 0.0|      -1.25|          -76.80|         false|        76.80|\n",
            "|       2| 2022-01-09 18:14:52|  2022-01-09 18:56:34|            1.0|        23.33|       1.0|                 N|         132|         220|           2|      -61.5|  0.0|   -0.5|       0.0|         0.0|                 -0.3|      -63.55|                 0.0|      -1.25|          -62.30|         false|        62.30|\n",
            "|       2| 2022-03-10 12:00:32|  2022-03-10 12:37:20|            2.0|        23.32|       1.0|                 N|         132|          58|           4|      -62.0|  0.0|   -0.5|       0.0|       -6.55|                 -0.3|      -70.60|                 0.0|      -1.25|          -69.35|         false|        69.35|\n",
            "|       2| 2022-02-10 21:13:43|  2022-02-10 21:50:58|            1.0|        23.32|       1.0|                 N|         138|         150|           3|      -62.0| -0.5|   -0.5|       0.0|         0.0|                 -0.3|      -64.55|                 0.0|      -1.25|          -63.30|         false|        63.30|\n",
            "|       2| 2022-02-12 19:05:54|  2022-02-12 19:58:13|            1.0|        23.29|       1.0|                 N|          45|          39|           4|      -65.0|  0.0|   -0.5|       0.0|         0.0|                 -0.3|      -68.30|                -2.5|        0.0|          -65.80|         false|        65.80|\n",
            "|       2| 2022-03-20 22:28:39|  2022-03-20 23:04:33|            1.0|         23.2|       5.0|                 N|          56|         265|           2|     -150.0|  0.0|    0.0|       0.0|      -11.75|                 -0.3|     -164.55|                -2.5|        0.0|         -162.05|         false|       162.05|\n",
            "|       2| 2022-02-17 13:23:34|  2022-02-17 14:21:29|            1.0|         23.2|       2.0|                 N|          50|         132|           4|      -52.0|  0.0|   -0.5|       0.0|       -6.55|                 -0.3|      -61.85|                -2.5|        0.0|          -59.35|         false|        59.35|\n",
            "|       2| 2022-03-24 18:15:33|  2022-03-24 19:01:57|            2.0|        23.01|       1.0|                 N|         132|         138|           4|      -61.0| -1.0|   -0.5|       0.0|         0.0|                 -0.3|      -64.05|                 0.0|      -1.25|          -62.80|         false|        62.80|\n",
            "|       2| 2022-02-14 23:08:50|  2022-02-14 23:41:01|            1.0|         23.0|       1.0|                 N|         132|           6|           4|      -60.5| -0.5|   -0.5|       0.0|         0.0|                 -0.3|      -63.05|                 0.0|      -1.25|          -61.80|         false|        61.80|\n",
            "|       2| 2022-01-05 21:29:17|  2022-01-05 22:01:33|            1.0|         22.9|       1.0|                 N|         132|          14|           4|      -61.5| -0.5|   -0.5|       0.0|         0.0|                 -0.3|      -64.05|                 0.0|      -1.25|          -62.80|         false|        62.80|\n",
            "|       2| 2022-03-07 20:11:49|  2022-03-07 20:43:29|            1.0|        22.88|       1.0|                 N|         132|         136|           4|      -60.5| -0.5|   -0.5|       0.0|       -6.55|                 -0.3|      -69.60|                 0.0|      -1.25|          -68.35|         false|        68.35|\n",
            "|       2| 2022-01-02 11:30:39|  2022-01-02 12:37:09|            1.0|        22.84|       1.0|                 N|         132|         155|           2|      -68.5|  0.0|   -0.5|       0.0|         0.0|                 -0.3|      -70.55|                 0.0|      -1.25|          -69.30|         false|        69.30|\n",
            "|       2| 2022-03-20 20:20:34|  2022-03-20 21:07:35|            1.0|        22.79|       2.0|                 N|         132|         142|           3|      -52.0|  0.0|   -0.5|       0.0|       -6.55|                 -0.3|      -63.10|                -2.5|      -1.25|          -59.35|         false|        59.35|\n",
            "|       2| 2022-03-25 11:31:15|  2022-03-25 12:29:54|            1.0|        22.72|       1.0|                 N|         186|         134|           4|      -69.0|  0.0|   -0.5|       0.0|       -6.55|                 -0.3|      -78.85|                -2.5|        0.0|          -76.35|         false|        76.35|\n",
            "|       2| 2022-01-01 00:43:44|  2022-01-01 01:14:51|            1.0|        22.71|       1.0|                 N|         132|          14|           2|      -60.5| -0.5|   -0.5|       0.0|         0.0|                 -0.3|      -63.05|                 0.0|      -1.25|          -61.80|         false|        61.80|\n",
            "|       2| 2022-02-13 18:26:44|  2022-02-13 19:09:37|            2.0|        22.67|       2.0|                 N|         132|         261|           2|      -52.0|  0.0|   -0.5|       0.0|       -6.55|                 -0.3|      -63.10|                -2.5|      -1.25|          -59.35|         false|        59.35|\n",
            "|       2| 2022-01-22 20:43:32|  2022-01-22 21:35:34|            4.0|        22.67|       5.0|                 N|         132|         265|           4|     -160.0|  0.0|    0.0|       0.0|      -11.75|                 -0.3|     -175.80|                -2.5|      -1.25|         -172.05|         false|       172.05|\n",
            "|       2| 2022-03-10 17:42:54|  2022-03-10 18:59:30|            2.0|        22.64|       2.0|                 N|         132|         230|           2|      -52.0| -4.5|   -0.5|       0.0|       -6.55|                 -0.3|      -66.35|                -2.5|        0.0|          -63.85|         false|        63.85|\n",
            "|       2| 2022-02-10 16:43:34|  2022-02-10 17:48:45|            2.0|        22.64|       2.0|                 N|         132|          50|           2|      -52.0| -4.5|   -0.5|       0.0|       -6.55|                 -0.3|      -67.60|                -2.5|      -1.25|          -63.85|         false|        63.85|\n",
            "|       2| 2022-03-07 14:06:55|  2022-03-07 15:19:58|            1.0|         22.6|       1.0|                 N|         141|         265|           3|      -70.0|  0.0|   -0.5|       0.0|         0.0|                 -0.3|      -73.30|                -2.5|        0.0|          -70.80|         false|        70.80|\n",
            "|       2| 2022-03-02 17:31:30|  2022-03-02 18:45:55|            1.0|        22.59|       5.0|                 N|         138|         265|           4|     -100.0|  0.0|    0.0|       0.0|      -13.75|                 -0.3|     -117.80|                -2.5|      -1.25|         -114.05|         false|       114.05|\n",
            "|       2| 2022-01-16 06:10:28|  2022-01-16 06:37:44|            1.0|        22.58|       1.0|                 N|         132|         126|           4|      -59.5|  0.0|   -0.5|       0.0|       -6.55|                 -0.3|      -68.10|                 0.0|      -1.25|          -66.85|         false|        66.85|\n",
            "|       2| 2022-02-20 14:52:31|  2022-02-20 15:43:57|            1.0|        22.57|       1.0|                 N|         132|         126|           4|      -63.5|  0.0|   -0.5|       0.0|       -6.55|                 -0.3|      -72.10|                 0.0|      -1.25|          -70.85|         false|        70.85|\n",
            "|       2| 2022-03-15 00:00:19|  2022-03-15 00:31:06|            1.0|        22.54|       1.0|                 N|         132|         136|           3|      -60.0| -0.5|   -0.5|       0.0|       -6.55|                 -0.3|      -69.10|                 0.0|      -1.25|          -67.85|         false|        67.85|\n",
            "|       2| 2022-01-06 19:40:03|  2022-01-06 20:02:51|            1.0|        22.53|       1.0|                 N|         132|         160|           4|      -32.5| -1.0|   -0.5|       0.0|         0.0|                 -0.3|      -35.55|                 0.0|      -1.25|          -34.30|         false|        34.30|\n",
            "|       2| 2022-03-31 15:40:20|  2022-03-31 16:16:20|            1.0|        22.49|       1.0|                 N|         132|         226|           2|      -44.5|  0.0|   -0.5|       0.0|         0.0|                 -0.3|      -46.55|                 0.0|      -1.25|          -45.30|         false|        45.30|\n",
            "|       2| 2022-01-08 02:18:23|  2022-01-08 02:55:13|            1.0|        22.45|       1.0|                 N|         132|          97|           4|      -61.0| -0.5|   -0.5|       0.0|         0.0|                 -0.3|      -63.55|                 0.0|      -1.25|          -62.30|         false|        62.30|\n",
            "|       2| 2022-02-14 06:36:21|  2022-02-14 07:28:13|            1.0|        22.44|       1.0|                 N|         132|         259|           4|      -63.0|  0.0|   -0.5|       0.0|       -6.55|                 -0.3|      -71.60|                 0.0|      -1.25|          -70.35|         false|        70.35|\n",
            "|       2| 2022-02-22 12:05:04|  2022-02-22 12:42:34|            1.0|         22.4|       2.0|                 N|         261|         132|           4|      -52.0|  0.0|   -0.5|       0.0|       -6.55|                 -0.3|      -61.85|                -2.5|        0.0|          -59.35|         false|        59.35|\n",
            "|       2| 2022-03-30 15:38:43|  2022-03-30 16:38:33|            4.0|        22.34|       3.0|                 N|         132|         100|           4|      -72.5|  0.0|    0.0|       0.0|       -6.55|                 -0.3|      -80.60|                 0.0|      -1.25|          -79.35|         false|        79.35|\n",
            "|       2| 2022-02-03 15:56:02|  2022-02-03 17:19:00|            1.0|        22.33|       4.0|                 N|         132|         265|           2|      -83.5|  0.0|   -0.5|       0.0|         0.0|                 -0.3|      -85.55|                 0.0|      -1.25|          -84.30|         false|        84.30|\n",
            "|       2| 2022-03-29 19:26:02|  2022-03-29 20:08:53|            1.0|        22.32|       1.0|                 N|         230|          57|           4|      -41.5| -1.0|   -0.5|     11.45|         0.0|                 -0.3|      -34.35|                -2.5|        0.0|          -43.30|         false|        43.30|\n",
            "|       2| 2022-01-17 15:57:21|  2022-01-17 16:32:50|            1.0|        22.24|       4.0|                 N|         132|         265|           4|      -76.0|  0.0|   -0.5|       0.0|         0.0|                 -0.3|      -78.05|                 0.0|      -1.25|          -76.80|         false|        76.80|\n",
            "|       2| 2022-01-28 06:25:06|  2022-01-28 07:23:28|            2.0|        22.19|       2.0|                 N|         132|         163|           4|      -52.0|  0.0|   -0.5|       0.0|       -6.55|                 -0.3|      -63.10|                -2.5|      -1.25|          -59.35|         false|        59.35|\n",
            "|       2| 2022-03-02 11:03:17|  2022-03-02 12:08:27|            2.0|        22.17|       2.0|                 N|         132|          88|           2|      -52.0|  0.0|   -0.5|       0.0|         0.0|                 -0.3|      -56.55|                -2.5|      -1.25|          -52.80|         false|        52.80|\n",
            "|       2| 2022-01-15 09:23:00|  2022-01-15 09:49:51|            1.0|        22.16|       4.0|                 N|         100|         265|           4|      -79.0|  0.0|   -0.5|       0.0|      -11.75|                 -0.3|      -94.05|                -2.5|        0.0|          -91.55|         false|        91.55|\n",
            "|       2| 2022-02-15 19:06:51|  2022-02-15 19:38:35|            3.0|        22.12|       4.0|                 N|         132|         265|           4|      -66.5| -1.0|   -0.5|       0.0|         0.0|                 -0.3|      -69.55|                 0.0|      -1.25|          -68.30|         false|        68.30|\n",
            "|       2| 2022-02-16 15:33:08|  2022-02-16 16:11:01|            1.0|        22.11|       1.0|                 N|         132|          92|           4|      -37.5|  0.0|   -0.5|       0.0|         0.0|                 -0.3|      -39.55|                 0.0|      -1.25|          -38.30|         false|        38.30|\n",
            "|       2| 2022-03-03 08:54:02|  2022-03-03 09:44:45|            2.0|        22.08|       2.0|                 N|         132|         127|           2|      -52.0|  0.0|   -0.5|       0.0|       -6.55|                 -0.3|      -60.60|                 0.0|      -1.25|          -59.35|         false|        59.35|\n",
            "|       2| 2022-02-27 14:36:00|  2022-02-27 15:13:12|            2.0|        22.07|       1.0|                 N|         132|          14|           3|      -59.0|  0.0|   -0.5|       0.0|         0.0|                 -0.3|      -61.05|                 0.0|      -1.25|          -59.80|         false|        59.80|\n",
            "|       2| 2022-01-23 00:25:44|  2022-01-23 01:00:35|            1.0|        22.06|       5.0|                 N|         170|         265|           4|      -80.0|  0.0|    0.0|       0.0|         0.0|                 -0.3|      -82.80|                -2.5|        0.0|          -80.30|         false|        80.30|\n",
            "|       2| 2022-02-25 19:46:41|  2022-02-25 20:35:39|            1.0|        22.05|       2.0|                 N|         132|         142|           2|      -52.0| -4.5|   -0.5|       0.0|       -6.55|                 -0.3|      -67.60|                -2.5|      -1.25|          -63.85|         false|        63.85|\n",
            "|       2| 2022-01-20 16:46:26|  2022-01-20 17:47:05|            1.0|        22.02|       5.0|                 N|         132|         265|           2|        0.0|  0.0|    0.0|       0.0|         0.0|                 -0.3|       -1.55|                 0.0|      -1.25|           -0.30|         false|         0.30|\n",
            "|       2| 2022-03-14 23:44:12|  2022-03-15 00:31:21|            1.0|         22.0|       1.0|                 N|         132|         168|           4|      -64.0| -0.5|   -0.5|       0.0|       -6.55|                 -0.3|      -73.10|                 0.0|      -1.25|          -71.85|         false|        71.85|\n",
            "|       2| 2022-02-04 16:54:25|  2022-02-04 17:48:05|            1.0|        21.94|       2.0|                 N|         132|         261|           2|      -52.0| -4.5|   -0.5|       0.0|       -6.55|                 -0.3|      -67.60|                -2.5|      -1.25|          -63.85|         false|        63.85|\n",
            "|       2| 2022-03-14 22:02:11|  2022-03-14 22:38:03|            1.0|        21.93|       2.0|                 N|         132|         239|           2|      -52.0|  0.0|   -0.5|       0.0|       -6.55|                 -0.3|      -63.10|                -2.5|      -1.25|          -59.35|         false|        59.35|\n",
            "|       2| 2022-02-18 12:55:00|  2022-02-18 13:39:28|            2.0|         21.9|       2.0|                 N|         163|         132|           2|        0.0|  0.0|   -0.5|       0.0|         0.0|                 -0.3|       -3.30|                -2.5|        0.0|           -0.80|         false|         0.80|\n",
            "|       2| 2022-03-22 07:01:08|  2022-03-22 08:00:57|            1.0|        21.89|       2.0|                 N|         132|         142|           4|      -52.0|  0.0|   -0.5|       0.0|       -6.55|                 -0.3|      -63.10|                -2.5|      -1.25|          -59.35|         false|        59.35|\n",
            "|       2| 2022-01-21 13:12:42|  2022-01-21 14:32:33|            1.0|        21.88|       4.0|                 N|         237|         265|           4|      -80.5|  0.0|   -0.5|       0.0|         0.0|                 -0.3|      -83.80|                -2.5|        0.0|          -81.30|         false|        81.30|\n",
            "|       2| 2022-03-05 18:31:59|  2022-03-05 19:11:36|            1.0|        21.82|       2.0|                 N|         132|         127|           4|      -52.0|  0.0|   -0.5|       0.0|       -6.55|                 -0.3|      -60.60|                 0.0|      -1.25|          -59.35|         false|        59.35|\n",
            "|       2| 2022-03-05 20:04:59|  2022-03-05 20:55:30|            1.0|        21.81|       1.0|                 N|         107|          86|           4|      -62.0| -0.5|   -0.5|       0.0|       -6.55|                 -0.3|      -72.35|                -2.5|        0.0|          -69.85|         false|        69.85|\n",
            "|       2| 2022-03-02 21:39:30|  2022-03-02 22:12:19|            1.0|        21.79|       1.0|                 N|         132|          67|           4|      -58.0| -0.5|   -0.5|       0.0|         0.0|                 -0.3|      -60.55|                 0.0|      -1.25|          -59.30|         false|        59.30|\n",
            "|       2| 2022-03-12 17:13:21|  2022-03-12 17:53:31|            1.0|        21.79|       1.0|                 N|         132|         235|           3|      -58.5|  0.0|   -0.5|       0.0|       -6.55|                 -0.3|      -67.10|                 0.0|      -1.25|          -65.85|         false|        65.85|\n",
            "|       2| 2022-03-18 19:40:16|  2022-03-18 20:12:50|            1.0|        21.79|       1.0|                 N|         138|          79|           4|      -36.5| -1.0|   -0.5|       0.0|       -6.55|                 -0.3|      -48.60|                -2.5|      -1.25|          -44.85|         false|        44.85|\n",
            "|       2| 2022-02-14 09:17:22|  2022-02-14 09:59:46|            1.0|        21.79|       1.0|                 N|         140|          72|           2|      -60.0|  0.0|   -0.5|       0.0|       -6.55|                 -0.3|      -69.85|                -2.5|        0.0|          -67.35|         false|        67.35|\n",
            "|       2| 2022-02-21 13:56:44|  2022-02-21 14:38:26|            1.0|        21.77|       2.0|                 N|         132|         141|           2|        0.0|  0.0|   -0.5|       0.0|         0.0|                 -0.3|       -4.55|                -2.5|      -1.25|           -0.80|         false|         0.80|\n",
            "|       2| 2022-02-21 16:47:29|  2022-02-21 17:50:56|            1.0|        21.77|       1.0|                 N|         132|         228|           2|        0.0|  0.0|   -0.5|       0.0|         0.0|                 -0.3|       -2.05|                 0.0|      -1.25|           -0.80|         false|         0.80|\n",
            "|       2| 2022-01-24 18:11:12|  2022-01-24 18:53:41|            2.0|        21.77|       1.0|                 N|         138|         210|           4|      -59.0| -1.0|   -0.5|       0.0|         0.0|                 -0.3|      -62.05|                 0.0|      -1.25|          -60.80|         false|        60.80|\n",
            "|       2| 2022-03-31 11:42:48|  2022-03-31 12:25:36|            1.0|        21.75|       2.0|                 N|         132|         229|           4|      -52.0|  0.0|   -0.5|       0.0|       -6.55|                 -0.3|      -63.10|                -2.5|      -1.25|          -59.35|         false|        59.35|\n",
            "|       2| 2022-03-08 12:19:06|  2022-03-08 13:08:11|            1.0|        21.73|       1.0|                 N|         132|         169|           4|      -63.0|  0.0|   -0.5|       0.0|       -6.55|                 -0.3|      -71.60|                 0.0|      -1.25|          -70.35|         false|        70.35|\n",
            "|       2| 2022-01-04 16:17:52|  2022-01-04 17:30:32|            2.0|        21.72|       1.0|                 N|         132|         188|           4|      -66.5| -1.0|   -0.5|       0.0|         0.0|                 -0.3|      -69.55|                 0.0|      -1.25|          -68.30|         false|        68.30|\n",
            "|       2| 2022-03-18 19:56:56|  2022-03-18 20:47:33|            3.0|        21.71|       2.0|                 N|         132|          87|           2|      -52.0| -4.5|   -0.5|       0.0|       -6.55|                 -0.3|      -67.60|                -2.5|      -1.25|          -63.85|         false|        63.85|\n",
            "|       2| 2022-03-04 19:34:56|  2022-03-04 20:06:52|            1.0|        21.67|       1.0|                 N|         229|          14|           4|      -37.5| -1.0|   -0.5|       0.0|       -6.55|                 -0.3|      -48.35|                -2.5|        0.0|          -45.85|         false|        45.85|\n",
            "|       2| 2022-01-03 05:30:36|  2022-01-03 05:57:07|            2.0|        21.65|       2.0|                 N|         132|         127|           4|      -52.0|  0.0|   -0.5|       0.0|       -6.55|                 -0.3|      -60.60|                 0.0|      -1.25|          -59.35|         false|        59.35|\n",
            "|       2| 2022-03-28 15:08:54|  2022-03-28 16:03:57|            2.0|        21.63|       1.0|                 N|         132|          26|           2|      -63.0|  0.0|   -0.5|       0.0|         0.0|                 -0.3|      -65.05|                 0.0|      -1.25|          -63.80|         false|        63.80|\n",
            "|       2| 2022-01-02 13:23:34|  2022-01-02 13:59:56|            3.0|        21.63|       2.0|                 N|         132|         142|           2|      -52.0|  0.0|   -0.5|       0.0|       -6.55|                 -0.3|      -63.10|                -2.5|      -1.25|          -59.35|         false|        59.35|\n",
            "|       2| 2022-01-05 11:37:43|  2022-01-05 12:20:24|            1.0|        21.63|       2.0|                 N|         132|         230|           2|      -52.0|  0.0|   -0.5|       0.0|       -6.55|                 -0.3|      -63.10|                -2.5|      -1.25|          -59.35|         false|        59.35|\n",
            "|       2| 2022-03-20 17:00:20|  2022-03-20 17:55:01|            1.0|        21.57|       2.0|                 N|         132|         239|           4|      -52.0|  0.0|   -0.5|       0.0|       -6.55|                 -0.3|      -63.10|                -2.5|      -1.25|          -59.35|         false|        59.35|\n",
            "|       2| 2022-03-14 10:30:31|  2022-03-14 11:10:27|            1.0|        21.56|       1.0|                 N|         132|         116|           2|      -59.0|  0.0|   -0.5|       0.0|       -6.55|                 -0.3|      -67.60|                 0.0|      -1.25|          -66.35|         false|        66.35|\n",
            "|       2| 2022-03-23 07:45:43|  2022-03-23 08:29:38|            6.0|        21.53|       2.0|                 N|         233|         132|           2|        0.0|  0.0|   -0.5|       0.0|         0.0|                 -0.3|       -3.30|                -2.5|        0.0|           -0.80|         false|         0.80|\n",
            "|       2| 2022-03-04 20:18:06|  2022-03-04 20:59:04|            1.0|        21.52|       1.0|                 N|         132|         212|           2|      -58.5| -0.5|   -0.5|       0.0|       -6.55|                 -0.3|      -67.60|                 0.0|      -1.25|          -66.35|         false|        66.35|\n",
            "|       2| 2022-01-17 18:18:19|  2022-01-17 18:59:33|            2.0|        21.52|       1.0|                 N|         132|          47|           2|      -59.0|  0.0|   -0.5|       0.0|       -13.1|                 -0.3|      -74.15|                 0.0|      -1.25|          -72.90|         false|        72.90|\n",
            "|       2| 2022-03-29 22:44:35|  2022-03-29 23:25:14|            1.0|        21.51|       2.0|                 N|         132|         161|           4|      -52.0|  0.0|   -0.5|       0.0|       -6.55|                 -0.3|      -63.10|                -2.5|      -1.25|          -59.35|         false|        59.35|\n",
            "|       2| 2022-02-05 14:13:26|  2022-02-05 14:58:19|            3.0|        21.51|       2.0|                 N|         261|         132|           2|      -52.0|  0.0|   -0.5|       0.0|         0.0|                 -0.3|      -55.30|                -2.5|        0.0|          -52.80|         false|        52.80|\n",
            "|       2| 2022-03-27 16:57:08|  2022-03-27 17:48:28|            1.0|        21.43|       1.0|                 N|         132|          97|           4|      -59.0|  0.0|   -0.5|       0.0|         0.0|                 -0.3|      -63.55|                -2.5|      -1.25|          -59.80|         false|        59.80|\n",
            "+--------+--------------------+---------------------+---------------+-------------+----------+------------------+------------+------------+------------+-----------+-----+-------+----------+------------+---------------------+------------+--------------------+-----------+----------------+--------------+-------------+\n",
            "only showing top 200 rows\n",
            "\n"
          ]
        }
      ]
    },
    {
      "cell_type": "code",
      "source": [
        "\n",
        "total_amount_not_null_df = test_df.withColumn('total_amount',\n",
        "                                     col('total_amount').cast('float').na.fill(0.0, ['total_amount'])\n",
        "                                     )"
      ],
      "metadata": {
        "colab": {
          "base_uri": "https://localhost:8080/",
          "height": 211
        },
        "id": "pjx2VPrQLJg5",
        "outputId": "04075bff-6947-4812-fe42-ba360591e9b6"
      },
      "execution_count": 45,
      "outputs": [
        {
          "output_type": "error",
          "ename": "TypeError",
          "evalue": "ignored",
          "traceback": [
            "\u001b[0;31m---------------------------------------------------------------------------\u001b[0m",
            "\u001b[0;31mTypeError\u001b[0m                                 Traceback (most recent call last)",
            "\u001b[0;32m<ipython-input-45-7cbea7f567c8>\u001b[0m in \u001b[0;36m<cell line: 1>\u001b[0;34m()\u001b[0m\n\u001b[1;32m      1\u001b[0m total_amount_not_null_df = test_df.withColumn('total_amount',\n\u001b[0;32m----> 2\u001b[0;31m                                      \u001b[0mcol\u001b[0m\u001b[0;34m(\u001b[0m\u001b[0;34m'total_amount'\u001b[0m\u001b[0;34m)\u001b[0m\u001b[0;34m.\u001b[0m\u001b[0mcast\u001b[0m\u001b[0;34m(\u001b[0m\u001b[0;34m'float'\u001b[0m\u001b[0;34m)\u001b[0m\u001b[0;34m.\u001b[0m\u001b[0mna\u001b[0m\u001b[0;34m.\u001b[0m\u001b[0mfill\u001b[0m\u001b[0;34m(\u001b[0m\u001b[0;36m0.0\u001b[0m\u001b[0;34m,\u001b[0m \u001b[0;34m[\u001b[0m\u001b[0;34m'total_amount'\u001b[0m\u001b[0;34m]\u001b[0m\u001b[0;34m)\u001b[0m\u001b[0;34m\u001b[0m\u001b[0;34m\u001b[0m\u001b[0m\n\u001b[0m\u001b[1;32m      3\u001b[0m                                      )\n",
            "\u001b[0;31mTypeError\u001b[0m: 'Column' object is not callable"
          ]
        }
      ]
    },
    {
      "cell_type": "code",
      "source": [
        "test_df = total_sum_df_incorrect_zero_amount.withColumn(\"total_amount\", col(\"total_amount\").cast(\"float\")).na.fill(0.0, [\"total_amount\"])\n",
        "test_df.show()"
      ],
      "metadata": {
        "colab": {
          "base_uri": "https://localhost:8080/"
        },
        "id": "Wy0bl_f3ds4c",
        "outputId": "ee0c1bb6-6b8b-4a7f-98c3-ce93ee1e2b7b"
      },
      "execution_count": 47,
      "outputs": [
        {
          "output_type": "stream",
          "name": "stdout",
          "text": [
            "+--------+--------------------+---------------------+---------------+-------------+----------+------------------+------------+------------+------------+-----------+-----+-------+----------+------------+---------------------+------------+--------------------+-----------+----------------+--------------+\n",
            "|VendorID|tpep_pickup_datetime|tpep_dropoff_datetime|passenger_count|trip_distance|RatecodeID|store_and_fwd_flag|PULocationID|DOLocationID|payment_type|fare_amount|extra|mta_tax|tip_amount|tolls_amount|improvement_surcharge|total_amount|congestion_surcharge|airport_fee|total_amount_sum|is_sum_correct|\n",
            "+--------+--------------------+---------------------+---------------+-------------+----------+------------------+------------+------------+------------+-----------+-----+-------+----------+------------+---------------------+------------+--------------------+-----------+----------------+--------------+\n",
            "|       2| 2022-03-30 16:39:28|  2022-03-30 19:07:15|            1.0|       181.21|       5.0|                 N|         265|         142|           4|     -500.0|  0.0|    0.0|      0.01|         0.0|                 -0.3|     -500.29|                 0.0|        0.0|         -500.30|         false|\n",
            "|       2| 2022-03-27 19:18:52|  2022-03-27 22:43:02|            1.0|       117.21|       4.0|                 N|         170|         170|           4|     -547.0|  0.0|   -0.5|       0.0|       -6.55|                 -0.3|     -556.85|                -2.5|        0.0|         -554.35|         false|\n",
            "|       2| 2022-01-31 22:22:53|  2022-02-01 00:34:41|            1.0|       116.91|       4.0|                 N|         138|         265|           4|     -388.0| -0.5|   -0.5|       0.0|       -18.3|                 -0.3|     -408.85|                 0.0|      -1.25|         -407.60|         false|\n",
            "|       2| 2022-03-28 07:08:18|  2022-03-28 09:24:59|            2.0|        86.37|       4.0|                 N|         132|         265|           4|     -361.0|  0.0|   -0.5|       0.0|       -6.55|                 -0.3|      -369.6|                 0.0|      -1.25|         -368.35|         false|\n",
            "|       2| 2022-02-17 16:05:40|  2022-02-17 17:49:26|            2.0|        75.79|       4.0|                 N|         132|         265|           4|     -235.5| -1.0|   -0.5|      25.0|       -6.55|                 -0.3|      -220.1|                 0.0|      -1.25|         -243.85|         false|\n",
            "|       2| 2022-03-07 12:25:44|  2022-03-07 13:14:57|            2.0|        66.64|       4.0|                 N|         132|           1|           2|     -112.0|  0.0|   -0.5|       0.0|       -18.3|                 -0.3|     -132.35|                 0.0|      -1.25|         -131.10|         false|\n",
            "|       2| 2022-01-07 15:37:09|  2022-01-07 16:23:34|            3.0|        53.05|       3.0|                 N|         132|           1|           4|     -113.0|  0.0|    0.0|       0.0|       -20.3|                 -0.3|     -134.85|                 0.0|      -1.25|         -133.60|         false|\n",
            "|       2| 2022-01-14 19:25:02|  2022-01-14 20:32:19|            2.0|        51.16|       5.0|                 N|         186|         265|           4|     -250.0|  0.0|    0.0|     51.87|       -6.55|                 -0.3|     -207.48|                -2.5|        0.0|         -256.85|         false|\n",
            "|       2| 2022-02-21 08:53:22|  2022-02-21 09:40:22|            1.0|        50.92|       4.0|                 N|         138|         265|           2|        0.0|  0.0|   -0.5|       0.0|         0.0|                 -0.3|       -2.05|                 0.0|      -1.25|           -0.80|         false|\n",
            "|       2| 2022-03-14 19:44:40|  2022-03-14 20:49:19|            1.0|        49.64|       4.0|                 N|         137|         265|           4|     -212.5| -1.0|   -0.5|      20.0|       -6.55|                 -0.3|     -203.35|                -2.5|        0.0|         -220.85|         false|\n",
            "|       2| 2022-03-11 15:24:00|  2022-03-11 17:12:18|            1.0|        48.44|       3.0|                 N|         132|           1|           2|     -119.0|  0.0|    0.0|       0.0|       -24.3|                 -0.3|     -144.85|                 0.0|      -1.25|         -143.60|         false|\n",
            "|       2| 2022-03-10 05:49:53|  2022-03-10 06:30:38|            1.0|        48.25|       4.0|                 N|         132|         265|           4|      -97.0| -0.5|   -0.5|       0.0|       -6.55|                 -0.3|      -106.1|                 0.0|      -1.25|         -104.85|         false|\n",
            "|       2| 2022-02-18 19:29:54|  2022-02-18 20:16:56|            2.0|        47.62|       4.0|                 N|         138|         259|           4|      -58.0| -1.0|   -0.5|       0.0|       -6.55|                 -0.3|       -67.6|                 0.0|      -1.25|          -66.35|         false|\n",
            "|       2| 2022-02-25 13:07:48|  2022-02-25 14:19:56|            1.0|        47.59|       5.0|                 N|         132|         265|           4|     -170.0|  0.0|    0.0|       0.0|      -29.05|                 -0.3|      -200.6|                 0.0|      -1.25|         -199.35|         false|\n",
            "|       2| 2022-03-26 15:10:07|  2022-03-26 16:33:30|            1.0|        47.48|       5.0|                 N|         138|         265|           4|     -170.0|  0.0|    0.0|       0.0|        -9.0|                 -0.3|     -180.55|                 0.0|      -1.25|         -179.30|         false|\n",
            "|       2| 2022-01-11 06:19:19|  2022-01-11 07:03:04|            1.0|        47.01|       4.0|                 N|         132|         265|           4|      -93.0|  0.0|   -0.5|       0.0|       -6.55|                 -0.3|      -101.6|                 0.0|      -1.25|         -100.35|         false|\n",
            "|       2| 2022-01-12 21:27:20|  2022-01-12 22:02:16|            2.0|        46.67|       4.0|                 N|         132|         265|           2|      -91.0| -0.5|   -0.5|       0.0|       -13.1|                 -0.3|     -106.65|                 0.0|      -1.25|         -105.40|         false|\n",
            "|       2| 2022-02-05 20:53:58|  2022-02-05 21:42:45|            2.0|        46.58|       4.0|                 N|         138|         265|           2|     -155.5| -0.5|   -0.5|       0.0|         0.0|                 -0.3|     -158.05|                 0.0|      -1.25|         -156.80|         false|\n",
            "|       2| 2022-02-21 17:24:31|  2022-02-21 18:12:13|            1.0|        46.46|       4.0|                 N|         132|         265|           2|      -88.5|  0.0|   -0.5|       0.0|       -13.1|                 -0.3|     -103.65|                 0.0|      -1.25|         -102.40|         false|\n",
            "|       2| 2022-03-02 07:44:19|  2022-03-02 09:02:33|            2.0|        45.75|       5.0|                 N|         138|         265|           2|     -200.0|  0.0|    0.0|       0.0|       -35.3|                 -0.3|     -236.85|                 0.0|      -1.25|         -235.60|         false|\n",
            "+--------+--------------------+---------------------+---------------+-------------+----------+------------------+------------+------------+------------+-----------+-----+-------+----------+------------+---------------------+------------+--------------------+-----------+----------------+--------------+\n",
            "only showing top 20 rows\n",
            "\n"
          ]
        }
      ]
    },
    {
      "cell_type": "markdown",
      "source": [
        "# Main pyspark Script"
      ],
      "metadata": {
        "id": "yM2xFK45ru41"
      }
    },
    {
      "cell_type": "code",
      "source": [
        "# Creating SparkSession\n",
        "import os\n",
        "spark = SparkSession \\\n",
        "        .builder \\\n",
        "        .appName('TLC_Trip_Records_Service') \\\n",
        "        .getOrCreate()\n",
        "\n",
        "# Reading Parquet files to a dataframe\n",
        "input_folder = 'sample_data'\n",
        "df = spark.read.parquet(input_folder)\n",
        "\n",
        "# Count the number of rows in the DataFrame\n",
        "records_count = df.count()\n",
        "print(f'Total number of TLC records: {records_count}')\n",
        "\n",
        "# Filtering top 10% trips\n",
        "## This variable can be modified\n",
        "top_n = 0.1\n",
        "top_10_num = int(df.count()*top_n)\n",
        "print(f'Now filtered top {top_n*100}% of TLC records. Number of records :{top_10_num}')\n",
        "# Order elements and get top N %\n",
        "top_n_df = df.orderBy(col('trip_distance').desc()) \\\n",
        "                        .limit(top_10_num)\n",
        "\n",
        "# Replace None values with 0.0\n",
        "total_amount_not_null_df = top_n_df.withColumn('total_amount', col('total_amount').cast('float'))\n",
        "total_amount_not_null_df = total_amount_not_null_df.na.fill(0.0, ['total_amount'])\n",
        "print('None values replaced.')\n",
        "# Format total_amount numbers to have 2 decimals\n",
        "top_n_df = top_n_df.withColumn('total_amount',\n",
        "                                     format_number(col('total_amount'), 2)\n",
        "                                     )\n",
        "print('Formatted total_amount with 2 decimals.')\n",
        "\n",
        "# Calculating total_amount based on values in relevant columns for the total sum.\n",
        "# Does not include cash tips as in the data Dictionary is specified this way\n",
        "top_n_df = top_n_df.withColumn('total_amount_sum',\n",
        "                                      format_number(\n",
        "                                          round(col('fare_amount')+col('extra')\n",
        "                                            +col('tolls_amount')+col('improvement_surcharge')+col('mta_tax')\n",
        "                                     , 2)\n",
        "                                     , 2)\n",
        "                                     )\n",
        "print('total_amount correction column calculated.')\n",
        "# Add column to check if calculation is correct\n",
        "total_sum_df = top_n_df.withColumn('is_sum_correct',\n",
        "                                      when(col('total_amount') == col('total_amount_sum'), True).otherwise(False)\n",
        "                                      )\n",
        "print('total_amount validation column created.')\n",
        "# Converting total_amount column to the positive sum of the variables for the formula to calculate total_amount\n",
        "\n",
        "formated_total_amount_df = total_sum_df.withColumn('total_amount',\n",
        "                                     when(col('total_amount') != col('total_amount_sum'),\n",
        "                                          col('total_amount_sum')*-1\n",
        "                                          )\\\n",
        "                                          .otherwise(col('total_amount')*-1)\n",
        "                                     )\n",
        "print('total_amount values changed to positive.')\n",
        "# Updating total_amount column\n",
        "\n",
        "updated_df = formated_total_amount_df.withColumn('total_amount',col('total_amount_sum'))\n",
        "updated_df = updated_df.drop(*['total_amount_sum','is_sum_correct'])\n",
        "print('total_amount new values updated accordingly.')\n",
        "\n",
        "# Create folder to save parquet file\n",
        "## This variable can be modified and moved to a config file\n",
        "output_folder = \"/output/top_10_yellow_line_TLC_records.parquet\"\n",
        "if not os.path.exists(output_folder):\n",
        "    os.mkdir(output_folder)\n",
        "    print(f'folder {output_folder} created.')\n",
        "\n",
        "# Save the DataFrame as a Parquet file\n",
        "updated_df.write\\\n",
        "          .mode(\"overwrite\")\\\n",
        "          .parquet(output_folder)\n",
        "print('Parquet file saved.')\n",
        "\n",
        "# Display output dataframe\n",
        "updated_df.show()\n",
        "\n",
        "# Stop spark\n",
        "spark.stop()\n",
        "print('SparkSession over.')\n"
      ],
      "metadata": {
        "colab": {
          "base_uri": "https://localhost:8080/"
        },
        "id": "Gl_JN7-kgRrq",
        "outputId": "f67186bd-75f4-4472-90d1-5661bdaec3f3"
      },
      "execution_count": 80,
      "outputs": [
        {
          "output_type": "stream",
          "name": "stdout",
          "text": [
            "Total number of TLC records: 9071244\n",
            "Now filtered top 10.0% of TLC records. Number of records :907124\n",
            "None values replaced.\n",
            "Formatted total_amount with 2 decimals.\n",
            "total_amount correction column calculated.\n",
            "total_amount validation column created.\n",
            "total_amount values changed to positive.\n",
            "total_amount new values updated accordingly.\n",
            "Parquet file saved.\n",
            "+--------+--------------------+---------------------+---------------+-------------+----------+------------------+------------+------------+------------+-----------+-----+-------+----------+------------+---------------------+------------+--------------------+-----------+\n",
            "|VendorID|tpep_pickup_datetime|tpep_dropoff_datetime|passenger_count|trip_distance|RatecodeID|store_and_fwd_flag|PULocationID|DOLocationID|payment_type|fare_amount|extra|mta_tax|tip_amount|tolls_amount|improvement_surcharge|total_amount|congestion_surcharge|airport_fee|\n",
            "+--------+--------------------+---------------------+---------------+-------------+----------+------------------+------------+------------+------------+-----------+-----+-------+----------+------------+---------------------+------------+--------------------+-----------+\n",
            "|       2| 2022-02-15 18:24:00|  2022-02-15 18:37:00|           NULL|    348798.53|      NULL|              NULL|          13|         107|           0|       20.6|  0.0|    0.5|       4.0|         0.0|                  0.3|       21.40|                NULL|       NULL|\n",
            "|       2| 2022-02-02 07:34:00|  2022-02-02 07:53:00|           NULL|    323919.67|      NULL|              NULL|          75|          48|           0|      17.72|  0.0|    0.5|      3.42|         0.0|                  0.3|       18.52|                NULL|       NULL|\n",
            "|       2| 2022-02-27 18:57:00|  2022-02-27 19:08:00|           NULL|    314364.45|      NULL|              NULL|         125|         107|           0|       9.96|  0.0|    0.5|      2.83|         0.0|                  0.3|       10.76|                NULL|       NULL|\n",
            "|       2| 2022-01-11 11:48:00|  2022-01-11 12:00:00|           NULL|    306159.28|      NULL|              NULL|         116|         238|           0|      14.96|  0.0|    0.5|      3.94|         0.0|                  0.3|       15.76|                NULL|       NULL|\n",
            "|       2| 2022-03-14 13:52:00|  2022-03-14 14:10:00|           NULL|    286259.84|      NULL|              NULL|         249|         162|           0|      17.35|  0.0|    0.5|      4.47|         0.0|                  0.3|       18.15|                NULL|       NULL|\n",
            "|       2| 2022-01-20 17:57:00|  2022-01-20 18:12:00|           NULL|    274658.81|      NULL|              NULL|          50|         141|           0|      13.74|  0.0|    0.5|      1.81|         0.0|                  0.3|       14.54|                NULL|       NULL|\n",
            "|       2| 2022-02-19 13:09:00|  2022-02-19 13:20:00|           NULL|    267432.23|      NULL|              NULL|         140|         161|           0|        8.8|  0.0|    0.5|      2.57|         0.0|                  0.3|        9.60|                NULL|       NULL|\n",
            "|       2| 2022-02-15 15:45:00|  2022-02-15 16:09:00|           NULL|     263173.0|      NULL|              NULL|          48|         236|           0|      16.89|  0.0|    0.5|       0.0|         0.0|                  0.3|       17.69|                NULL|       NULL|\n",
            "|       2| 2022-03-14 05:43:00|  2022-03-14 05:52:00|           NULL|     256280.8|      NULL|              NULL|         237|          43|           0|       9.53|  0.0|    0.5|      2.73|         0.0|                  0.3|       10.33|                NULL|       NULL|\n",
            "|       2| 2022-02-24 05:10:00|  2022-02-24 05:29:00|           NULL|    253093.44|      NULL|              NULL|         263|         138|           0|      29.87|  0.0|    0.5|      7.75|        6.55|                  0.3|       37.22|                NULL|       NULL|\n",
            "|       2| 2022-03-08 07:46:00|  2022-03-08 08:12:00|           NULL|    251855.42|      NULL|              NULL|          33|         162|           0|      26.25|  0.0|    0.5|       0.0|         0.0|                  0.3|       27.05|                NULL|       NULL|\n",
            "|       2| 2022-01-31 07:17:00|  2022-01-31 07:44:00|           NULL|    250984.47|      NULL|              NULL|          56|         137|           0|      28.58|  0.0|    0.5|      8.29|        6.55|                  0.3|       35.93|                NULL|       NULL|\n",
            "|       2| 2022-03-15 08:14:00|  2022-03-15 08:36:00|           NULL|    247709.73|      NULL|              NULL|         148|         161|           0|      16.91|  0.0|    0.5|      4.66|         0.0|                  0.3|       17.71|                NULL|       NULL|\n",
            "|       2| 2022-02-14 23:19:00|  2022-02-14 23:30:00|           NULL|    242748.06|      NULL|              NULL|         211|          87|           0|       9.67|  0.0|    0.5|      1.38|         0.0|                  0.3|       10.47|                NULL|       NULL|\n",
            "|       2| 2022-03-06 03:31:00|  2022-03-06 03:48:00|           NULL|    229371.98|      NULL|              NULL|         249|         255|           0|      17.61|  0.0|    0.5|      4.56|         0.0|                  0.3|       18.41|                NULL|       NULL|\n",
            "|       2| 2022-03-11 14:18:00|  2022-03-11 14:43:00|           NULL|    217883.08|      NULL|              NULL|         244|          68|           0|      29.34|  0.0|    0.5|      7.14|         0.0|                  0.3|       30.14|                NULL|       NULL|\n",
            "|       2| 2022-03-07 05:20:00|  2022-03-07 05:37:00|           NULL|     211629.1|      NULL|              NULL|          74|         261|           0|      30.94|  0.0|    0.5|      5.63|         0.0|                  0.3|       31.74|                NULL|       NULL|\n",
            "|       2| 2022-01-15 21:04:00|  2022-01-15 21:14:00|           NULL|    201283.16|      NULL|              NULL|          79|         233|           0|      11.03|  0.0|    0.5|      3.02|         0.0|                  0.3|       11.83|                NULL|       NULL|\n",
            "|       2| 2022-03-07 08:30:00|  2022-03-07 08:54:00|           NULL|    199945.06|      NULL|              NULL|          52|         170|           0|      27.61|  0.0|    0.5|       6.8|         0.0|                  0.3|       28.41|                NULL|       NULL|\n",
            "|       2| 2022-01-05 07:00:00|  2022-01-05 07:18:00|           NULL|    193150.52|      NULL|              NULL|          42|          70|           0|      29.98|  0.0|    0.5|      8.05|        6.55|                  0.3|       37.33|                NULL|       NULL|\n",
            "+--------+--------------------+---------------------+---------------+-------------+----------+------------------+------------+------------+------------+-----------+-----+-------+----------+------------+---------------------+------------+--------------------+-----------+\n",
            "only showing top 20 rows\n",
            "\n",
            "SparkSession over.\n"
          ]
        }
      ]
    },
    {
      "cell_type": "code",
      "source": [
        "import os\n",
        "from pyspark.sql import SparkSession\n",
        "from pyspark.sql.functions import col, when, round, format_number\n",
        "\n",
        "\n",
        "# Functions\n",
        "\n",
        "\n",
        "# Filter top N records\n",
        "def filter_top_n(df, top_n):\n",
        "    top_10_num = int(df.count() * top_n)\n",
        "    top_n_df = df.orderBy(col('trip_distance').desc()).limit(top_10_num)\n",
        "    return top_n_df\n",
        "\n",
        "# Replace None values\n",
        "def replace_none_values(df):\n",
        "    total_amount_not_null_df = df.withColumn('total_amount', col('total_amount').cast('float'))\n",
        "    total_amount_not_null_df = total_amount_not_null_df.na.fill(0.0, ['total_amount'])\n",
        "    return total_amount_not_null_df\n",
        "\n",
        "# Total_amount formatter\n",
        "def format_total_amount(df):\n",
        "    top_n_df = df.withColumn('total_amount', format_number(col('total_amount'), 2))\n",
        "    return top_n_df\n",
        "\n",
        "# total_amount calculator\n",
        "def calculate_total_amount(df):\n",
        "    top_n_df = df.withColumn('total_amount_sum', format_number(round(\n",
        "        col('fare_amount') + col('extra') + col('tolls_amount') + col('improvement_surcharge') + col('mta_tax'), 2), 2))\n",
        "    return top_n_df\n",
        "\n",
        "# total_amount validator\n",
        "def add_total_amount_validation_column(df):\n",
        "    total_sum_df = df.withColumn('is_sum_correct',\n",
        "                                when(col('total_amount') == col('total_amount_sum'), True).otherwise(False))\n",
        "    return total_sum_df\n",
        "\n",
        "# total_amount negative to positive number converter\n",
        "def convert_total_amount_to_positive(df):\n",
        "    formated_total_amount_df = df.withColumn('total_amount', when(col('total_amount') != col('total_amount_sum'),\n",
        "                                                                 col('total_amount_sum') * -1).otherwise(col('total_amount') * -1))\n",
        "    return formated_total_amount_df\n",
        "\n",
        "# Delete irrelevant columns\n",
        "def update_total_amount_column(df):\n",
        "    updated_df = df.withColumn('total_amount', col('total_amount_sum')).drop(*['total_amount_sum', 'is_sum_correct'])\n",
        "    return updated_df"
      ],
      "metadata": {
        "id": "xyV5TgWAB0F4"
      },
      "execution_count": null,
      "outputs": []
    },
    {
      "cell_type": "markdown",
      "source": [],
      "metadata": {
        "id": "haNhU5_hBzzT"
      }
    },
    {
      "cell_type": "code",
      "source": [
        "\n",
        "import os\n",
        "from pyspark.sql import SparkSession\n",
        "# from utils.pyspark_utils import *\n",
        "# Creating SparkSession\n",
        "spark = SparkSession \\\n",
        "        .builder \\\n",
        "        .appName('TLC_Trip_Records_Service') \\\n",
        "        .getOrCreate()\n",
        "input_folder = 'raw_data'\n",
        "\n",
        "# Reading Parquet files to a dataframe\n",
        "input_folder = 'sample_data'\n",
        "df = spark.read.parquet(input_folder)\n",
        "# Count the number of rows in the DataFrame\n",
        "records_count = df.count()\n",
        "print(f'Total number of TLC records: {records_count}')\n",
        "\n",
        "# Filtering top 10% trips\n",
        "## This variable can be modified\n",
        "top_n = 0.1\n",
        "top_10_num = int(df.count()*top_n)\n",
        "print(f'Now filtered top {top_n*100}% of TLC records. Number of records :{top_10_num}')\n",
        "\n",
        "# Order elements and get top N %\n",
        "top_n_df = filter_top_n(df, top_n)\n",
        "\n",
        "# Replace None values with 0.0\n",
        "total_amount_not_null_df = replace_none_values(top_n_df)\n",
        "print('None values replaced.')\n",
        "\n",
        "# Format total_amount numbers to have 2 decimals\n",
        "total_amount_not_null_df = format_total_amount(total_amount_not_null_df)\n",
        "print('Formatted total_amount with 2 decimals.')\n",
        "\n",
        "# Calculating total_amount based on values in relevant columns for the total sum.\n",
        "# Does not include cash tips as in the data Dictionary is specified this way\n",
        "total_amount_not_null_df = calculate_total_amount(total_amount_not_null_df)\n",
        "print('total_amount correction column calculated.')\n",
        "\n",
        "# Add column to check if calculation is correct\n",
        "total_amount_not_null_df = add_total_amount_validation_column(total_amount_not_null_df)\n",
        "print('total_amount validation column created.')\n",
        "\n",
        "# Converting total_amount column to the positive sum of the variables for the formula to calculate total_amount\n",
        "total_amount_not_null_df = convert_total_amount_to_positive(total_amount_not_null_df)\n",
        "print('total_amount values changed to positive.')\n",
        "\n",
        "# Updating total_amount column\n",
        "updated_df = update_total_amount_column(total_amount_not_null_df)\n",
        "print('total_amount new values updated accordingly.')\n",
        "\n",
        "# Create folder to save parquet file\n",
        "## This variable can be modified and moved to a config file\n",
        "output_folder = '/output/top_10_yellow_line_TLC_records.parquet'\n",
        "if not os.path.exists(output_folder):\n",
        "    os.mkdir(output_folder)\n",
        "    print(f'folder {output_folder} created.')\n",
        "\n",
        "# Save the DataFrame as a Parquet file\n",
        "updated_df.write\\\n",
        "          .mode(\"overwrite\")\\\n",
        "          .parquet(output_folder)\n",
        "print('Parquet file saved.')\n",
        "\n",
        "\n",
        "# Display output dataframe\n",
        "updated_df.show()\n",
        "\n",
        "# Stop spark\n",
        "spark.stop()\n",
        "print('SparkSession over.')"
      ],
      "metadata": {
        "colab": {
          "base_uri": "https://localhost:8080/"
        },
        "id": "kVhMKTsU9cAK",
        "outputId": "80f43b2a-151f-43dc-dac0-c9362f5621e5"
      },
      "execution_count": 81,
      "outputs": [
        {
          "output_type": "stream",
          "name": "stdout",
          "text": [
            "Total number of TLC records: 9071244\n",
            "Now filtered top 10.0% of TLC records. Number of records :907124\n",
            "None values replaced.\n",
            "Formatted total_amount with 2 decimals.\n",
            "total_amount correction column calculated.\n",
            "total_amount validation column created.\n",
            "total_amount values changed to positive.\n",
            "total_amount new values updated accordingly.\n",
            "Parquet file saved.\n",
            "+--------+--------------------+---------------------+---------------+-------------+----------+------------------+------------+------------+------------+-----------+-----+-------+----------+------------+---------------------+------------+--------------------+-----------+\n",
            "|VendorID|tpep_pickup_datetime|tpep_dropoff_datetime|passenger_count|trip_distance|RatecodeID|store_and_fwd_flag|PULocationID|DOLocationID|payment_type|fare_amount|extra|mta_tax|tip_amount|tolls_amount|improvement_surcharge|total_amount|congestion_surcharge|airport_fee|\n",
            "+--------+--------------------+---------------------+---------------+-------------+----------+------------------+------------+------------+------------+-----------+-----+-------+----------+------------+---------------------+------------+--------------------+-----------+\n",
            "|       2| 2022-02-15 18:24:00|  2022-02-15 18:37:00|           NULL|    348798.53|      NULL|              NULL|          13|         107|           0|       20.6|  0.0|    0.5|       4.0|         0.0|                  0.3|       21.40|                NULL|       NULL|\n",
            "|       2| 2022-02-02 07:34:00|  2022-02-02 07:53:00|           NULL|    323919.67|      NULL|              NULL|          75|          48|           0|      17.72|  0.0|    0.5|      3.42|         0.0|                  0.3|       18.52|                NULL|       NULL|\n",
            "|       2| 2022-02-27 18:57:00|  2022-02-27 19:08:00|           NULL|    314364.45|      NULL|              NULL|         125|         107|           0|       9.96|  0.0|    0.5|      2.83|         0.0|                  0.3|       10.76|                NULL|       NULL|\n",
            "|       2| 2022-01-11 11:48:00|  2022-01-11 12:00:00|           NULL|    306159.28|      NULL|              NULL|         116|         238|           0|      14.96|  0.0|    0.5|      3.94|         0.0|                  0.3|       15.76|                NULL|       NULL|\n",
            "|       2| 2022-03-14 13:52:00|  2022-03-14 14:10:00|           NULL|    286259.84|      NULL|              NULL|         249|         162|           0|      17.35|  0.0|    0.5|      4.47|         0.0|                  0.3|       18.15|                NULL|       NULL|\n",
            "|       2| 2022-01-20 17:57:00|  2022-01-20 18:12:00|           NULL|    274658.81|      NULL|              NULL|          50|         141|           0|      13.74|  0.0|    0.5|      1.81|         0.0|                  0.3|       14.54|                NULL|       NULL|\n",
            "|       2| 2022-02-19 13:09:00|  2022-02-19 13:20:00|           NULL|    267432.23|      NULL|              NULL|         140|         161|           0|        8.8|  0.0|    0.5|      2.57|         0.0|                  0.3|        9.60|                NULL|       NULL|\n",
            "|       2| 2022-02-15 15:45:00|  2022-02-15 16:09:00|           NULL|     263173.0|      NULL|              NULL|          48|         236|           0|      16.89|  0.0|    0.5|       0.0|         0.0|                  0.3|       17.69|                NULL|       NULL|\n",
            "|       2| 2022-03-14 05:43:00|  2022-03-14 05:52:00|           NULL|     256280.8|      NULL|              NULL|         237|          43|           0|       9.53|  0.0|    0.5|      2.73|         0.0|                  0.3|       10.33|                NULL|       NULL|\n",
            "|       2| 2022-02-24 05:10:00|  2022-02-24 05:29:00|           NULL|    253093.44|      NULL|              NULL|         263|         138|           0|      29.87|  0.0|    0.5|      7.75|        6.55|                  0.3|       37.22|                NULL|       NULL|\n",
            "|       2| 2022-03-08 07:46:00|  2022-03-08 08:12:00|           NULL|    251855.42|      NULL|              NULL|          33|         162|           0|      26.25|  0.0|    0.5|       0.0|         0.0|                  0.3|       27.05|                NULL|       NULL|\n",
            "|       2| 2022-01-31 07:17:00|  2022-01-31 07:44:00|           NULL|    250984.47|      NULL|              NULL|          56|         137|           0|      28.58|  0.0|    0.5|      8.29|        6.55|                  0.3|       35.93|                NULL|       NULL|\n",
            "|       2| 2022-03-15 08:14:00|  2022-03-15 08:36:00|           NULL|    247709.73|      NULL|              NULL|         148|         161|           0|      16.91|  0.0|    0.5|      4.66|         0.0|                  0.3|       17.71|                NULL|       NULL|\n",
            "|       2| 2022-02-14 23:19:00|  2022-02-14 23:30:00|           NULL|    242748.06|      NULL|              NULL|         211|          87|           0|       9.67|  0.0|    0.5|      1.38|         0.0|                  0.3|       10.47|                NULL|       NULL|\n",
            "|       2| 2022-03-06 03:31:00|  2022-03-06 03:48:00|           NULL|    229371.98|      NULL|              NULL|         249|         255|           0|      17.61|  0.0|    0.5|      4.56|         0.0|                  0.3|       18.41|                NULL|       NULL|\n",
            "|       2| 2022-03-11 14:18:00|  2022-03-11 14:43:00|           NULL|    217883.08|      NULL|              NULL|         244|          68|           0|      29.34|  0.0|    0.5|      7.14|         0.0|                  0.3|       30.14|                NULL|       NULL|\n",
            "|       2| 2022-03-07 05:20:00|  2022-03-07 05:37:00|           NULL|     211629.1|      NULL|              NULL|          74|         261|           0|      30.94|  0.0|    0.5|      5.63|         0.0|                  0.3|       31.74|                NULL|       NULL|\n",
            "|       2| 2022-01-15 21:04:00|  2022-01-15 21:14:00|           NULL|    201283.16|      NULL|              NULL|          79|         233|           0|      11.03|  0.0|    0.5|      3.02|         0.0|                  0.3|       11.83|                NULL|       NULL|\n",
            "|       2| 2022-03-07 08:30:00|  2022-03-07 08:54:00|           NULL|    199945.06|      NULL|              NULL|          52|         170|           0|      27.61|  0.0|    0.5|       6.8|         0.0|                  0.3|       28.41|                NULL|       NULL|\n",
            "|       2| 2022-01-05 07:00:00|  2022-01-05 07:18:00|           NULL|    193150.52|      NULL|              NULL|          42|          70|           0|      29.98|  0.0|    0.5|      8.05|        6.55|                  0.3|       37.33|                NULL|       NULL|\n",
            "+--------+--------------------+---------------------+---------------+-------------+----------+------------------+------------+------------+------------+-----------+-----+-------+----------+------------+---------------------+------------+--------------------+-----------+\n",
            "only showing top 20 rows\n",
            "\n",
            "SparkSession over.\n"
          ]
        }
      ]
    },
    {
      "cell_type": "markdown",
      "source": [],
      "metadata": {
        "id": "pTCyooy_uPzv"
      }
    }
  ]
}